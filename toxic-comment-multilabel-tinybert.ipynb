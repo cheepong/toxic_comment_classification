{
 "cells": [
  {
   "cell_type": "code",
   "execution_count": 1,
   "id": "ec54a673",
   "metadata": {
    "_cell_guid": "b1076dfc-b9ad-4769-8c92-a6c4dae69d19",
    "_uuid": "8f2839f25d086af736a60e9eeb907d3b93b6e0e5",
    "execution": {
     "iopub.execute_input": "2021-09-04T03:54:12.634241Z",
     "iopub.status.busy": "2021-09-04T03:54:12.632704Z",
     "iopub.status.idle": "2021-09-04T03:54:12.647241Z",
     "shell.execute_reply": "2021-09-04T03:54:12.646612Z",
     "shell.execute_reply.started": "2021-09-04T00:47:19.575063Z"
    },
    "papermill": {
     "duration": 0.06321,
     "end_time": "2021-09-04T03:54:12.647411",
     "exception": false,
     "start_time": "2021-09-04T03:54:12.584201",
     "status": "completed"
    },
    "tags": []
   },
   "outputs": [
    {
     "name": "stdout",
     "output_type": "stream",
     "text": [
      "/kaggle/input/jigsaw-toxic-comment-classification-challenge/train.csv.zip\n",
      "/kaggle/input/jigsaw-toxic-comment-classification-challenge/sample_submission.csv.zip\n",
      "/kaggle/input/jigsaw-toxic-comment-classification-challenge/test_labels.csv.zip\n",
      "/kaggle/input/jigsaw-toxic-comment-classification-challenge/test.csv.zip\n"
     ]
    }
   ],
   "source": [
    "# This Python 3 environment comes with many helpful analytics libraries installed\n",
    "# It is defined by the kaggle/python Docker image: https://github.com/kaggle/docker-python\n",
    "# For example, here's several helpful packages to load\n",
    "\n",
    "import numpy as np # linear algebra\n",
    "import pandas as pd # data processing, CSV file I/O (e.g. pd.read_csv)\n",
    "\n",
    "# Input data files are available in the read-only \"../input/\" directory\n",
    "# For example, running this (by clicking run or pressing Shift+Enter) will list all files under the input directory\n",
    "\n",
    "import os\n",
    "for dirname, _, filenames in os.walk('/kaggle/input'):\n",
    "    for filename in filenames:\n",
    "        print(os.path.join(dirname, filename))\n",
    "\n",
    "# You can write up to 20GB to the current directory (/kaggle/working/) that gets preserved as output when you create a version using \"Save & Run All\" \n",
    "# You can also write temporary files to /kaggle/temp/, but they won't be saved outside of the current session"
   ]
  },
  {
   "cell_type": "markdown",
   "id": "e41bf9e0",
   "metadata": {
    "papermill": {
     "duration": 0.044661,
     "end_time": "2021-09-04T03:54:12.735968",
     "exception": false,
     "start_time": "2021-09-04T03:54:12.691307",
     "status": "completed"
    },
    "tags": []
   },
   "source": [
    "# 1. Setup"
   ]
  },
  {
   "cell_type": "code",
   "execution_count": 2,
   "id": "f29d9adc",
   "metadata": {
    "execution": {
     "iopub.execute_input": "2021-09-04T03:54:12.827147Z",
     "iopub.status.busy": "2021-09-04T03:54:12.826592Z",
     "iopub.status.idle": "2021-09-04T03:54:36.515320Z",
     "shell.execute_reply": "2021-09-04T03:54:36.514784Z",
     "shell.execute_reply.started": "2021-09-04T00:47:19.605438Z"
    },
    "papermill": {
     "duration": 23.736653,
     "end_time": "2021-09-04T03:54:36.515458",
     "exception": false,
     "start_time": "2021-09-04T03:54:12.778805",
     "status": "completed"
    },
    "tags": []
   },
   "outputs": [
    {
     "name": "stdout",
     "output_type": "stream",
     "text": [
      "\u001b[33mWARNING: Running pip as root will break packages and permissions. You should install packages reliably by using venv: https://pip.pypa.io/warnings/venv\u001b[0m\r\n",
      "\u001b[33mWARNING: Running pip as root will break packages and permissions. You should install packages reliably by using venv: https://pip.pypa.io/warnings/venv\u001b[0m\r\n",
      "\u001b[33mWARNING: Running pip as root will break packages and permissions. You should install packages reliably by using venv: https://pip.pypa.io/warnings/venv\u001b[0m\r\n"
     ]
    }
   ],
   "source": [
    "## Transformer\n",
    "!pip install transformers --quiet\n",
    "!pip install datasets transformers[sentencepiece] --quiet\n",
    "!pip install \"transformers[sentencepiece]\" --quiet"
   ]
  },
  {
   "cell_type": "code",
   "execution_count": 3,
   "id": "b25c113a",
   "metadata": {
    "execution": {
     "iopub.execute_input": "2021-09-04T03:54:36.610533Z",
     "iopub.status.busy": "2021-09-04T03:54:36.609478Z",
     "iopub.status.idle": "2021-09-04T03:54:37.613675Z",
     "shell.execute_reply": "2021-09-04T03:54:37.613179Z",
     "shell.execute_reply.started": "2021-09-04T00:47:42.101152Z"
    },
    "papermill": {
     "duration": 1.05346,
     "end_time": "2021-09-04T03:54:37.613793",
     "exception": false,
     "start_time": "2021-09-04T03:54:36.560333",
     "status": "completed"
    },
    "tags": []
   },
   "outputs": [],
   "source": [
    "# import library\n",
    "import numpy as np\n",
    "import pandas as pd\n",
    "from sklearn.model_selection import train_test_split\n",
    "import matplotlib.pyplot as plt\n",
    "import seaborn as sns \n",
    "import time\n",
    "import datetime"
   ]
  },
  {
   "cell_type": "code",
   "execution_count": 4,
   "id": "85d2e9eb",
   "metadata": {
    "execution": {
     "iopub.execute_input": "2021-09-04T03:54:37.706966Z",
     "iopub.status.busy": "2021-09-04T03:54:37.706445Z",
     "iopub.status.idle": "2021-09-04T03:54:41.587680Z",
     "shell.execute_reply": "2021-09-04T03:54:41.587129Z",
     "shell.execute_reply.started": "2021-09-04T00:47:43.079256Z"
    },
    "papermill": {
     "duration": 3.929863,
     "end_time": "2021-09-04T03:54:41.587854",
     "exception": false,
     "start_time": "2021-09-04T03:54:37.657991",
     "status": "completed"
    },
    "tags": []
   },
   "outputs": [
    {
     "name": "stdout",
     "output_type": "stream",
     "text": [
      "Index(['id', 'comment_text', 'toxic', 'severe_toxic', 'obscene', 'threat',\n",
      "       'insult', 'identity_hate'],\n",
      "      dtype='object')\n",
      "(159571, 8)\n"
     ]
    },
    {
     "data": {
      "text/html": [
       "<div>\n",
       "<style scoped>\n",
       "    .dataframe tbody tr th:only-of-type {\n",
       "        vertical-align: middle;\n",
       "    }\n",
       "\n",
       "    .dataframe tbody tr th {\n",
       "        vertical-align: top;\n",
       "    }\n",
       "\n",
       "    .dataframe thead th {\n",
       "        text-align: right;\n",
       "    }\n",
       "</style>\n",
       "<table border=\"1\" class=\"dataframe\">\n",
       "  <thead>\n",
       "    <tr style=\"text-align: right;\">\n",
       "      <th></th>\n",
       "      <th>id</th>\n",
       "      <th>comment_text</th>\n",
       "      <th>toxic</th>\n",
       "      <th>severe_toxic</th>\n",
       "      <th>obscene</th>\n",
       "      <th>threat</th>\n",
       "      <th>insult</th>\n",
       "      <th>identity_hate</th>\n",
       "    </tr>\n",
       "  </thead>\n",
       "  <tbody>\n",
       "    <tr>\n",
       "      <th>0</th>\n",
       "      <td>0000997932d777bf</td>\n",
       "      <td>Explanation\\nWhy the edits made under my usern...</td>\n",
       "      <td>0</td>\n",
       "      <td>0</td>\n",
       "      <td>0</td>\n",
       "      <td>0</td>\n",
       "      <td>0</td>\n",
       "      <td>0</td>\n",
       "    </tr>\n",
       "    <tr>\n",
       "      <th>1</th>\n",
       "      <td>000103f0d9cfb60f</td>\n",
       "      <td>D'aww! He matches this background colour I'm s...</td>\n",
       "      <td>0</td>\n",
       "      <td>0</td>\n",
       "      <td>0</td>\n",
       "      <td>0</td>\n",
       "      <td>0</td>\n",
       "      <td>0</td>\n",
       "    </tr>\n",
       "    <tr>\n",
       "      <th>2</th>\n",
       "      <td>000113f07ec002fd</td>\n",
       "      <td>Hey man, I'm really not trying to edit war. It...</td>\n",
       "      <td>0</td>\n",
       "      <td>0</td>\n",
       "      <td>0</td>\n",
       "      <td>0</td>\n",
       "      <td>0</td>\n",
       "      <td>0</td>\n",
       "    </tr>\n",
       "    <tr>\n",
       "      <th>3</th>\n",
       "      <td>0001b41b1c6bb37e</td>\n",
       "      <td>\"\\nMore\\nI can't make any real suggestions on ...</td>\n",
       "      <td>0</td>\n",
       "      <td>0</td>\n",
       "      <td>0</td>\n",
       "      <td>0</td>\n",
       "      <td>0</td>\n",
       "      <td>0</td>\n",
       "    </tr>\n",
       "    <tr>\n",
       "      <th>4</th>\n",
       "      <td>0001d958c54c6e35</td>\n",
       "      <td>You, sir, are my hero. Any chance you remember...</td>\n",
       "      <td>0</td>\n",
       "      <td>0</td>\n",
       "      <td>0</td>\n",
       "      <td>0</td>\n",
       "      <td>0</td>\n",
       "      <td>0</td>\n",
       "    </tr>\n",
       "  </tbody>\n",
       "</table>\n",
       "</div>"
      ],
      "text/plain": [
       "                 id                                       comment_text  toxic  \\\n",
       "0  0000997932d777bf  Explanation\\nWhy the edits made under my usern...      0   \n",
       "1  000103f0d9cfb60f  D'aww! He matches this background colour I'm s...      0   \n",
       "2  000113f07ec002fd  Hey man, I'm really not trying to edit war. It...      0   \n",
       "3  0001b41b1c6bb37e  \"\\nMore\\nI can't make any real suggestions on ...      0   \n",
       "4  0001d958c54c6e35  You, sir, are my hero. Any chance you remember...      0   \n",
       "\n",
       "   severe_toxic  obscene  threat  insult  identity_hate  \n",
       "0             0        0       0       0              0  \n",
       "1             0        0       0       0              0  \n",
       "2             0        0       0       0              0  \n",
       "3             0        0       0       0              0  \n",
       "4             0        0       0       0              0  "
      ]
     },
     "execution_count": 4,
     "metadata": {},
     "output_type": "execute_result"
    }
   ],
   "source": [
    "df = pd.read_csv('/kaggle/input/jigsaw-toxic-comment-classification-challenge/train.csv.zip')\n",
    "test_csv = pd.read_csv('/kaggle/input/jigsaw-toxic-comment-classification-challenge/test.csv.zip')\n",
    "test_csv_labels = pd.read_csv('/kaggle/input/jigsaw-toxic-comment-classification-challenge/test_labels.csv.zip')\n",
    "print(df.columns)\n",
    "print(df.shape)\n",
    "target_col= df.columns[2:]\n",
    "feature_col= df.columns[1:2]\n",
    "df.head()"
   ]
  },
  {
   "cell_type": "code",
   "execution_count": 5,
   "id": "933404cd",
   "metadata": {
    "execution": {
     "iopub.execute_input": "2021-09-04T03:54:41.683742Z",
     "iopub.status.busy": "2021-09-04T03:54:41.682625Z",
     "iopub.status.idle": "2021-09-04T03:54:41.693574Z",
     "shell.execute_reply": "2021-09-04T03:54:41.693943Z",
     "shell.execute_reply.started": "2021-09-04T00:47:46.521715Z"
    },
    "papermill": {
     "duration": 0.060497,
     "end_time": "2021-09-04T03:54:41.694101",
     "exception": false,
     "start_time": "2021-09-04T03:54:41.633604",
     "status": "completed"
    },
    "tags": []
   },
   "outputs": [],
   "source": [
    "df = df.rename(columns={\"id\": \"idx\"})"
   ]
  },
  {
   "cell_type": "code",
   "execution_count": 6,
   "id": "81b9abb0",
   "metadata": {
    "execution": {
     "iopub.execute_input": "2021-09-04T03:54:41.787541Z",
     "iopub.status.busy": "2021-09-04T03:54:41.786989Z",
     "iopub.status.idle": "2021-09-04T03:54:41.790980Z",
     "shell.execute_reply": "2021-09-04T03:54:41.790505Z",
     "shell.execute_reply.started": "2021-09-04T00:47:46.539553Z"
    },
    "papermill": {
     "duration": 0.051939,
     "end_time": "2021-09-04T03:54:41.791142",
     "exception": false,
     "start_time": "2021-09-04T03:54:41.739203",
     "status": "completed"
    },
    "tags": []
   },
   "outputs": [],
   "source": [
    "categories = ['toxic','severe_toxic','obscene','threat','insult','identity_hate']"
   ]
  },
  {
   "cell_type": "code",
   "execution_count": 7,
   "id": "5dfdb942",
   "metadata": {
    "execution": {
     "iopub.execute_input": "2021-09-04T03:54:41.885268Z",
     "iopub.status.busy": "2021-09-04T03:54:41.884701Z",
     "iopub.status.idle": "2021-09-04T03:54:41.917825Z",
     "shell.execute_reply": "2021-09-04T03:54:41.918253Z",
     "shell.execute_reply.started": "2021-09-04T00:50:12.221228Z"
    },
    "papermill": {
     "duration": 0.082585,
     "end_time": "2021-09-04T03:54:41.918387",
     "exception": false,
     "start_time": "2021-09-04T03:54:41.835802",
     "status": "completed"
    },
    "tags": []
   },
   "outputs": [
    {
     "data": {
      "text/html": [
       "<div>\n",
       "<style scoped>\n",
       "    .dataframe tbody tr th:only-of-type {\n",
       "        vertical-align: middle;\n",
       "    }\n",
       "\n",
       "    .dataframe tbody tr th {\n",
       "        vertical-align: top;\n",
       "    }\n",
       "\n",
       "    .dataframe thead th {\n",
       "        text-align: right;\n",
       "    }\n",
       "</style>\n",
       "<table border=\"1\" class=\"dataframe\">\n",
       "  <thead>\n",
       "    <tr style=\"text-align: right;\">\n",
       "      <th></th>\n",
       "      <th>idx</th>\n",
       "      <th>comment_text</th>\n",
       "      <th>toxic</th>\n",
       "      <th>severe_toxic</th>\n",
       "      <th>obscene</th>\n",
       "      <th>threat</th>\n",
       "      <th>insult</th>\n",
       "      <th>identity_hate</th>\n",
       "    </tr>\n",
       "  </thead>\n",
       "  <tbody>\n",
       "    <tr>\n",
       "      <th>6</th>\n",
       "      <td>0002bcb3da6cb337</td>\n",
       "      <td>COCKSUCKER BEFORE YOU PISS AROUND ON MY WORK</td>\n",
       "      <td>1</td>\n",
       "      <td>1</td>\n",
       "      <td>1</td>\n",
       "      <td>0</td>\n",
       "      <td>1</td>\n",
       "      <td>0</td>\n",
       "    </tr>\n",
       "    <tr>\n",
       "      <th>12</th>\n",
       "      <td>0005c987bdfc9d4b</td>\n",
       "      <td>Hey... what is it..\\n@ | talk .\\nWhat is it......</td>\n",
       "      <td>1</td>\n",
       "      <td>0</td>\n",
       "      <td>0</td>\n",
       "      <td>0</td>\n",
       "      <td>0</td>\n",
       "      <td>0</td>\n",
       "    </tr>\n",
       "    <tr>\n",
       "      <th>16</th>\n",
       "      <td>0007e25b2121310b</td>\n",
       "      <td>Bye! \\n\\nDon't look, come or think of comming ...</td>\n",
       "      <td>1</td>\n",
       "      <td>0</td>\n",
       "      <td>0</td>\n",
       "      <td>0</td>\n",
       "      <td>0</td>\n",
       "      <td>0</td>\n",
       "    </tr>\n",
       "    <tr>\n",
       "      <th>42</th>\n",
       "      <td>001810bf8c45bf5f</td>\n",
       "      <td>You are gay or antisemmitian? \\n\\nArchangel WH...</td>\n",
       "      <td>1</td>\n",
       "      <td>0</td>\n",
       "      <td>1</td>\n",
       "      <td>0</td>\n",
       "      <td>1</td>\n",
       "      <td>1</td>\n",
       "    </tr>\n",
       "    <tr>\n",
       "      <th>43</th>\n",
       "      <td>00190820581d90ce</td>\n",
       "      <td>FUCK YOUR FILTHY MOTHER IN THE ASS, DRY!</td>\n",
       "      <td>1</td>\n",
       "      <td>0</td>\n",
       "      <td>1</td>\n",
       "      <td>0</td>\n",
       "      <td>1</td>\n",
       "      <td>0</td>\n",
       "    </tr>\n",
       "  </tbody>\n",
       "</table>\n",
       "</div>"
      ],
      "text/plain": [
       "                 idx                                       comment_text  \\\n",
       "6   0002bcb3da6cb337       COCKSUCKER BEFORE YOU PISS AROUND ON MY WORK   \n",
       "12  0005c987bdfc9d4b  Hey... what is it..\\n@ | talk .\\nWhat is it......   \n",
       "16  0007e25b2121310b  Bye! \\n\\nDon't look, come or think of comming ...   \n",
       "42  001810bf8c45bf5f  You are gay or antisemmitian? \\n\\nArchangel WH...   \n",
       "43  00190820581d90ce           FUCK YOUR FILTHY MOTHER IN THE ASS, DRY!   \n",
       "\n",
       "    toxic  severe_toxic  obscene  threat  insult  identity_hate  \n",
       "6       1             1        1       0       1              0  \n",
       "12      1             0        0       0       0              0  \n",
       "16      1             0        0       0       0              0  \n",
       "42      1             0        1       0       1              1  \n",
       "43      1             0        1       0       1              0  "
      ]
     },
     "execution_count": 7,
     "metadata": {},
     "output_type": "execute_result"
    }
   ],
   "source": [
    "df[(df[\"toxic\"]==1) | (df[\"severe_toxic\"]==1)| (df[\"obscene\"]==1) | (df[\"threat\"]==1 )| (df[\"insult\"]==1)| (df[\"identity_hate\"]==1)].head()"
   ]
  },
  {
   "cell_type": "code",
   "execution_count": 8,
   "id": "49bcc591",
   "metadata": {
    "execution": {
     "iopub.execute_input": "2021-09-04T03:54:42.019914Z",
     "iopub.status.busy": "2021-09-04T03:54:42.019392Z",
     "iopub.status.idle": "2021-09-04T03:54:42.024870Z",
     "shell.execute_reply": "2021-09-04T03:54:42.025263Z",
     "shell.execute_reply.started": "2021-09-04T00:50:36.879224Z"
    },
    "papermill": {
     "duration": 0.062261,
     "end_time": "2021-09-04T03:54:42.025392",
     "exception": false,
     "start_time": "2021-09-04T03:54:41.963131",
     "status": "completed"
    },
    "tags": []
   },
   "outputs": [
    {
     "data": {
      "text/html": [
       "<div>\n",
       "<style scoped>\n",
       "    .dataframe tbody tr th:only-of-type {\n",
       "        vertical-align: middle;\n",
       "    }\n",
       "\n",
       "    .dataframe tbody tr th {\n",
       "        vertical-align: top;\n",
       "    }\n",
       "\n",
       "    .dataframe thead th {\n",
       "        text-align: right;\n",
       "    }\n",
       "</style>\n",
       "<table border=\"1\" class=\"dataframe\">\n",
       "  <thead>\n",
       "    <tr style=\"text-align: right;\">\n",
       "      <th></th>\n",
       "      <th>idx</th>\n",
       "      <th>comment_text</th>\n",
       "      <th>toxic</th>\n",
       "      <th>severe_toxic</th>\n",
       "      <th>obscene</th>\n",
       "      <th>threat</th>\n",
       "      <th>insult</th>\n",
       "      <th>identity_hate</th>\n",
       "    </tr>\n",
       "  </thead>\n",
       "  <tbody>\n",
       "    <tr>\n",
       "      <th>5</th>\n",
       "      <td>00025465d4725e87</td>\n",
       "      <td>\"\\n\\nCongratulations from me as well, use the ...</td>\n",
       "      <td>0</td>\n",
       "      <td>0</td>\n",
       "      <td>0</td>\n",
       "      <td>0</td>\n",
       "      <td>0</td>\n",
       "      <td>0</td>\n",
       "    </tr>\n",
       "    <tr>\n",
       "      <th>6</th>\n",
       "      <td>0002bcb3da6cb337</td>\n",
       "      <td>COCKSUCKER BEFORE YOU PISS AROUND ON MY WORK</td>\n",
       "      <td>1</td>\n",
       "      <td>1</td>\n",
       "      <td>1</td>\n",
       "      <td>0</td>\n",
       "      <td>1</td>\n",
       "      <td>0</td>\n",
       "    </tr>\n",
       "    <tr>\n",
       "      <th>7</th>\n",
       "      <td>00031b1e95af7921</td>\n",
       "      <td>Your vandalism to the Matt Shirvington article...</td>\n",
       "      <td>0</td>\n",
       "      <td>0</td>\n",
       "      <td>0</td>\n",
       "      <td>0</td>\n",
       "      <td>0</td>\n",
       "      <td>0</td>\n",
       "    </tr>\n",
       "    <tr>\n",
       "      <th>8</th>\n",
       "      <td>00037261f536c51d</td>\n",
       "      <td>Sorry if the word 'nonsense' was offensive to ...</td>\n",
       "      <td>0</td>\n",
       "      <td>0</td>\n",
       "      <td>0</td>\n",
       "      <td>0</td>\n",
       "      <td>0</td>\n",
       "      <td>0</td>\n",
       "    </tr>\n",
       "    <tr>\n",
       "      <th>9</th>\n",
       "      <td>00040093b2687caa</td>\n",
       "      <td>alignment on this subject and which are contra...</td>\n",
       "      <td>0</td>\n",
       "      <td>0</td>\n",
       "      <td>0</td>\n",
       "      <td>0</td>\n",
       "      <td>0</td>\n",
       "      <td>0</td>\n",
       "    </tr>\n",
       "    <tr>\n",
       "      <th>10</th>\n",
       "      <td>0005300084f90edc</td>\n",
       "      <td>\"\\nFair use rationale for Image:Wonju.jpg\\n\\nT...</td>\n",
       "      <td>0</td>\n",
       "      <td>0</td>\n",
       "      <td>0</td>\n",
       "      <td>0</td>\n",
       "      <td>0</td>\n",
       "      <td>0</td>\n",
       "    </tr>\n",
       "    <tr>\n",
       "      <th>11</th>\n",
       "      <td>00054a5e18b50dd4</td>\n",
       "      <td>bbq \\n\\nbe a man and lets discuss it-maybe ove...</td>\n",
       "      <td>0</td>\n",
       "      <td>0</td>\n",
       "      <td>0</td>\n",
       "      <td>0</td>\n",
       "      <td>0</td>\n",
       "      <td>0</td>\n",
       "    </tr>\n",
       "    <tr>\n",
       "      <th>12</th>\n",
       "      <td>0005c987bdfc9d4b</td>\n",
       "      <td>Hey... what is it..\\n@ | talk .\\nWhat is it......</td>\n",
       "      <td>1</td>\n",
       "      <td>0</td>\n",
       "      <td>0</td>\n",
       "      <td>0</td>\n",
       "      <td>0</td>\n",
       "      <td>0</td>\n",
       "    </tr>\n",
       "  </tbody>\n",
       "</table>\n",
       "</div>"
      ],
      "text/plain": [
       "                 idx                                       comment_text  \\\n",
       "5   00025465d4725e87  \"\\n\\nCongratulations from me as well, use the ...   \n",
       "6   0002bcb3da6cb337       COCKSUCKER BEFORE YOU PISS AROUND ON MY WORK   \n",
       "7   00031b1e95af7921  Your vandalism to the Matt Shirvington article...   \n",
       "8   00037261f536c51d  Sorry if the word 'nonsense' was offensive to ...   \n",
       "9   00040093b2687caa  alignment on this subject and which are contra...   \n",
       "10  0005300084f90edc  \"\\nFair use rationale for Image:Wonju.jpg\\n\\nT...   \n",
       "11  00054a5e18b50dd4  bbq \\n\\nbe a man and lets discuss it-maybe ove...   \n",
       "12  0005c987bdfc9d4b  Hey... what is it..\\n@ | talk .\\nWhat is it......   \n",
       "\n",
       "    toxic  severe_toxic  obscene  threat  insult  identity_hate  \n",
       "5       0             0        0       0       0              0  \n",
       "6       1             1        1       0       1              0  \n",
       "7       0             0        0       0       0              0  \n",
       "8       0             0        0       0       0              0  \n",
       "9       0             0        0       0       0              0  \n",
       "10      0             0        0       0       0              0  \n",
       "11      0             0        0       0       0              0  \n",
       "12      1             0        0       0       0              0  "
      ]
     },
     "execution_count": 8,
     "metadata": {},
     "output_type": "execute_result"
    }
   ],
   "source": [
    "df.iloc[5:13,]"
   ]
  },
  {
   "cell_type": "markdown",
   "id": "28ba3e2e",
   "metadata": {
    "papermill": {
     "duration": 0.045769,
     "end_time": "2021-09-04T03:54:42.117279",
     "exception": false,
     "start_time": "2021-09-04T03:54:42.071510",
     "status": "completed"
    },
    "tags": []
   },
   "source": [
    "# 1. Pre-processing & Modelling"
   ]
  },
  {
   "cell_type": "code",
   "execution_count": 9,
   "id": "0d020bd2",
   "metadata": {
    "execution": {
     "iopub.execute_input": "2021-09-04T03:54:42.214483Z",
     "iopub.status.busy": "2021-09-04T03:54:42.213917Z",
     "iopub.status.idle": "2021-09-04T03:54:48.844524Z",
     "shell.execute_reply": "2021-09-04T03:54:48.843954Z",
     "shell.execute_reply.started": "2021-09-04T00:55:09.893894Z"
    },
    "papermill": {
     "duration": 6.681637,
     "end_time": "2021-09-04T03:54:48.844654",
     "exception": false,
     "start_time": "2021-09-04T03:54:42.163017",
     "status": "completed"
    },
    "tags": []
   },
   "outputs": [],
   "source": [
    "# import pyTorch\n",
    "import torch\n",
    "import torch.nn as nn\n",
    "import torch.optim as optim\n",
    "from torch.optim import lr_scheduler\n",
    "# import other parts of transformers as well as tqdm\n",
    "from transformers import (AutoTokenizer, AutoModel, \n",
    "                          AutoModelForSequenceClassification, \n",
    "                          DataCollatorWithPadding, AdamW, get_scheduler,\n",
    "                          get_linear_schedule_with_warmup,\n",
    "                          )\n",
    "# import pyarrow (can only import this with GPU on kaggle notebook)\n",
    "import pyarrow as pa\n",
    "from tqdm.auto import tqdm\n",
    "from torch.utils.data import TensorDataset, DataLoader, RandomSampler, SequentialSampler\n",
    "import datasets\n",
    "import random\n",
    "from sklearn.metrics import classification_report, hamming_loss, accuracy_score"
   ]
  },
  {
   "cell_type": "code",
   "execution_count": 10,
   "id": "514acd07",
   "metadata": {
    "execution": {
     "iopub.execute_input": "2021-09-04T03:54:48.944650Z",
     "iopub.status.busy": "2021-09-04T03:54:48.943988Z",
     "iopub.status.idle": "2021-09-04T03:54:48.956505Z",
     "shell.execute_reply": "2021-09-04T03:54:48.956041Z",
     "shell.execute_reply.started": "2021-09-04T00:55:16.503934Z"
    },
    "papermill": {
     "duration": 0.063951,
     "end_time": "2021-09-04T03:54:48.956619",
     "exception": false,
     "start_time": "2021-09-04T03:54:48.892668",
     "status": "completed"
    },
    "tags": []
   },
   "outputs": [],
   "source": [
    "# Setting up seed value\n",
    "seed_value = 42\n",
    "random.seed(seed_value)\n",
    "np.random.seed(seed_value)\n",
    "torch.manual_seed(seed_value)\n",
    "torch.cuda.manual_seed_all(seed_value)"
   ]
  },
  {
   "cell_type": "markdown",
   "id": "93e3298c",
   "metadata": {
    "papermill": {
     "duration": 0.045345,
     "end_time": "2021-09-04T03:54:49.048690",
     "exception": false,
     "start_time": "2021-09-04T03:54:49.003345",
     "status": "completed"
    },
    "tags": []
   },
   "source": [
    "## Train, Validation and Test Split"
   ]
  },
  {
   "cell_type": "code",
   "execution_count": 11,
   "id": "06d61930",
   "metadata": {
    "execution": {
     "iopub.execute_input": "2021-09-04T03:54:49.155756Z",
     "iopub.status.busy": "2021-09-04T03:54:49.154961Z",
     "iopub.status.idle": "2021-09-04T03:54:49.189356Z",
     "shell.execute_reply": "2021-09-04T03:54:49.188878Z",
     "shell.execute_reply.started": "2021-09-04T00:55:16.514771Z"
    },
    "papermill": {
     "duration": 0.094577,
     "end_time": "2021-09-04T03:54:49.189485",
     "exception": false,
     "start_time": "2021-09-04T03:54:49.094908",
     "status": "completed"
    },
    "tags": []
   },
   "outputs": [],
   "source": [
    "# train & validation, test split\n",
    "train_val_df, test_df = train_test_split(df[[\"idx\", \"comment_text\"] + categories], test_size=0.2, random_state=seed_value)"
   ]
  },
  {
   "cell_type": "code",
   "execution_count": 12,
   "id": "69268801",
   "metadata": {
    "execution": {
     "iopub.execute_input": "2021-09-04T03:54:49.286243Z",
     "iopub.status.busy": "2021-09-04T03:54:49.285487Z",
     "iopub.status.idle": "2021-09-04T03:54:49.322160Z",
     "shell.execute_reply": "2021-09-04T03:54:49.321697Z",
     "shell.execute_reply.started": "2021-09-04T00:55:16.569492Z"
    },
    "papermill": {
     "duration": 0.086675,
     "end_time": "2021-09-04T03:54:49.322288",
     "exception": false,
     "start_time": "2021-09-04T03:54:49.235613",
     "status": "completed"
    },
    "tags": []
   },
   "outputs": [],
   "source": [
    "# train, validation split\n",
    "train_df, val_df, = train_test_split(train_val_df[[\"idx\", \"comment_text\"] + categories], test_size=0.25, random_state=seed_value)"
   ]
  },
  {
   "cell_type": "code",
   "execution_count": 13,
   "id": "5e8110bc",
   "metadata": {
    "execution": {
     "iopub.execute_input": "2021-09-04T03:54:49.420622Z",
     "iopub.status.busy": "2021-09-04T03:54:49.419931Z",
     "iopub.status.idle": "2021-09-04T03:54:49.422947Z",
     "shell.execute_reply": "2021-09-04T03:54:49.423367Z",
     "shell.execute_reply.started": "2021-09-04T00:55:16.612256Z"
    },
    "papermill": {
     "duration": 0.054695,
     "end_time": "2021-09-04T03:54:49.423501",
     "exception": false,
     "start_time": "2021-09-04T03:54:49.368806",
     "status": "completed"
    },
    "tags": []
   },
   "outputs": [
    {
     "name": "stdout",
     "output_type": "stream",
     "text": [
      "Size of train, validation and test are 95742, 31914, 31915 respectively.\n",
      "Proportion of train, validation and test are 0.6, 0.2, 0.2 respectively.\n"
     ]
    }
   ],
   "source": [
    "print(f\"Size of train, validation and test are {len(train_df)}, {len(val_df)}, {len(test_df)} respectively.\")\n",
    "print(f\"Proportion of train, validation and test are {round(len(train_df)/len(df),2)}, {round(len(val_df)/len(df),2)}, {round(len(test_df)/len(df),2)} respectively.\")"
   ]
  },
  {
   "cell_type": "code",
   "execution_count": 14,
   "id": "dfcf0e17",
   "metadata": {
    "execution": {
     "iopub.execute_input": "2021-09-04T03:54:49.519715Z",
     "iopub.status.busy": "2021-09-04T03:54:49.518927Z",
     "iopub.status.idle": "2021-09-04T03:54:49.546380Z",
     "shell.execute_reply": "2021-09-04T03:54:49.545879Z",
     "shell.execute_reply.started": "2021-09-04T00:55:16.619870Z"
    },
    "papermill": {
     "duration": 0.077698,
     "end_time": "2021-09-04T03:54:49.546516",
     "exception": false,
     "start_time": "2021-09-04T03:54:49.468818",
     "status": "completed"
    },
    "tags": []
   },
   "outputs": [],
   "source": [
    "train_df.reset_index(inplace=True)\n",
    "train_df.drop(\"index\", axis=1, inplace=True)\n",
    "\n",
    "val_df.reset_index(inplace=True)\n",
    "val_df.drop(\"index\", axis=1, inplace=True)\n",
    "\n",
    "test_df.reset_index(inplace=True)\n",
    "test_df.drop(\"index\", axis=1, inplace=True)"
   ]
  },
  {
   "cell_type": "code",
   "execution_count": 15,
   "id": "09c8ed33",
   "metadata": {
    "execution": {
     "iopub.execute_input": "2021-09-04T03:54:49.650204Z",
     "iopub.status.busy": "2021-09-04T03:54:49.649307Z",
     "iopub.status.idle": "2021-09-04T03:54:49.653123Z",
     "shell.execute_reply": "2021-09-04T03:54:49.652683Z",
     "shell.execute_reply.started": "2021-09-04T00:55:16.653706Z"
    },
    "papermill": {
     "duration": 0.060263,
     "end_time": "2021-09-04T03:54:49.653228",
     "exception": false,
     "start_time": "2021-09-04T03:54:49.592965",
     "status": "completed"
    },
    "tags": []
   },
   "outputs": [
    {
     "data": {
      "text/html": [
       "<div>\n",
       "<style scoped>\n",
       "    .dataframe tbody tr th:only-of-type {\n",
       "        vertical-align: middle;\n",
       "    }\n",
       "\n",
       "    .dataframe tbody tr th {\n",
       "        vertical-align: top;\n",
       "    }\n",
       "\n",
       "    .dataframe thead th {\n",
       "        text-align: right;\n",
       "    }\n",
       "</style>\n",
       "<table border=\"1\" class=\"dataframe\">\n",
       "  <thead>\n",
       "    <tr style=\"text-align: right;\">\n",
       "      <th></th>\n",
       "      <th>idx</th>\n",
       "      <th>comment_text</th>\n",
       "      <th>toxic</th>\n",
       "      <th>severe_toxic</th>\n",
       "      <th>obscene</th>\n",
       "      <th>threat</th>\n",
       "      <th>insult</th>\n",
       "      <th>identity_hate</th>\n",
       "    </tr>\n",
       "  </thead>\n",
       "  <tbody>\n",
       "    <tr>\n",
       "      <th>0</th>\n",
       "      <td>f8514b48bbea9f52</td>\n",
       "      <td>So when the polls close in Ontario at 9:30 pm,...</td>\n",
       "      <td>0</td>\n",
       "      <td>0</td>\n",
       "      <td>0</td>\n",
       "      <td>0</td>\n",
       "      <td>0</td>\n",
       "      <td>0</td>\n",
       "    </tr>\n",
       "    <tr>\n",
       "      <th>1</th>\n",
       "      <td>4c5e853732b4aa2d</td>\n",
       "      <td>from blowing up the Earth</td>\n",
       "      <td>0</td>\n",
       "      <td>0</td>\n",
       "      <td>0</td>\n",
       "      <td>0</td>\n",
       "      <td>0</td>\n",
       "      <td>0</td>\n",
       "    </tr>\n",
       "    <tr>\n",
       "      <th>2</th>\n",
       "      <td>097dc7f0c8a482a8</td>\n",
       "      <td>=fRENCH lANGUAGE\\nThis is the National Library...</td>\n",
       "      <td>0</td>\n",
       "      <td>0</td>\n",
       "      <td>0</td>\n",
       "      <td>0</td>\n",
       "      <td>0</td>\n",
       "      <td>0</td>\n",
       "    </tr>\n",
       "    <tr>\n",
       "      <th>3</th>\n",
       "      <td>644c631403602fb9</td>\n",
       "      <td>Wiley Protocol \\n\\nKnow anything about bioiden...</td>\n",
       "      <td>0</td>\n",
       "      <td>0</td>\n",
       "      <td>0</td>\n",
       "      <td>0</td>\n",
       "      <td>0</td>\n",
       "      <td>0</td>\n",
       "    </tr>\n",
       "    <tr>\n",
       "      <th>4</th>\n",
       "      <td>ca98b70deab8bcfc</td>\n",
       "      <td>\"\\n.\\nNo, the facts are pretty clear. You chan...</td>\n",
       "      <td>0</td>\n",
       "      <td>0</td>\n",
       "      <td>0</td>\n",
       "      <td>0</td>\n",
       "      <td>0</td>\n",
       "      <td>0</td>\n",
       "    </tr>\n",
       "  </tbody>\n",
       "</table>\n",
       "</div>"
      ],
      "text/plain": [
       "                idx                                       comment_text  toxic  \\\n",
       "0  f8514b48bbea9f52  So when the polls close in Ontario at 9:30 pm,...      0   \n",
       "1  4c5e853732b4aa2d                          from blowing up the Earth      0   \n",
       "2  097dc7f0c8a482a8  =fRENCH lANGUAGE\\nThis is the National Library...      0   \n",
       "3  644c631403602fb9  Wiley Protocol \\n\\nKnow anything about bioiden...      0   \n",
       "4  ca98b70deab8bcfc  \"\\n.\\nNo, the facts are pretty clear. You chan...      0   \n",
       "\n",
       "   severe_toxic  obscene  threat  insult  identity_hate  \n",
       "0             0        0       0       0              0  \n",
       "1             0        0       0       0              0  \n",
       "2             0        0       0       0              0  \n",
       "3             0        0       0       0              0  \n",
       "4             0        0       0       0              0  "
      ]
     },
     "execution_count": 15,
     "metadata": {},
     "output_type": "execute_result"
    }
   ],
   "source": [
    "train_df.head()"
   ]
  },
  {
   "cell_type": "markdown",
   "id": "93d7d774",
   "metadata": {
    "papermill": {
     "duration": 0.046069,
     "end_time": "2021-09-04T03:54:49.744913",
     "exception": false,
     "start_time": "2021-09-04T03:54:49.698844",
     "status": "completed"
    },
    "tags": []
   },
   "source": [
    "## Tokenizing Text in Batches"
   ]
  },
  {
   "cell_type": "code",
   "execution_count": 16,
   "id": "37662a5a",
   "metadata": {
    "execution": {
     "iopub.execute_input": "2021-09-04T03:54:49.901101Z",
     "iopub.status.busy": "2021-09-04T03:54:49.896564Z",
     "iopub.status.idle": "2021-09-04T03:54:58.136841Z",
     "shell.execute_reply": "2021-09-04T03:54:58.137361Z",
     "shell.execute_reply.started": "2021-09-04T00:55:16.672477Z"
    },
    "papermill": {
     "duration": 8.327745,
     "end_time": "2021-09-04T03:54:58.137530",
     "exception": false,
     "start_time": "2021-09-04T03:54:49.809785",
     "status": "completed"
    },
    "tags": []
   },
   "outputs": [
    {
     "data": {
      "application/vnd.jupyter.widget-view+json": {
       "model_id": "27957b62c9e04c2bbf81d08cd9eb308b",
       "version_major": 2,
       "version_minor": 0
      },
      "text/plain": [
       "Downloading:   0%|          | 0.00/409 [00:00<?, ?B/s]"
      ]
     },
     "metadata": {},
     "output_type": "display_data"
    },
    {
     "data": {
      "application/vnd.jupyter.widget-view+json": {
       "model_id": "b3a055cb7a2e45dd99b910bbe2984dc7",
       "version_major": 2,
       "version_minor": 0
      },
      "text/plain": [
       "Downloading:   0%|          | 0.00/232k [00:00<?, ?B/s]"
      ]
     },
     "metadata": {},
     "output_type": "display_data"
    }
   ],
   "source": [
    "# instantiate tokenizer, model using \"TinyBert\"\n",
    "checkpoint = \"huawei-noah/TinyBERT_General_4L_312D\"\n",
    "tokenizer = AutoTokenizer.from_pretrained(checkpoint)\n",
    "\n",
    "data_collator = DataCollatorWithPadding(tokenizer=tokenizer)"
   ]
  },
  {
   "cell_type": "code",
   "execution_count": 17,
   "id": "9d0ce1b5",
   "metadata": {
    "execution": {
     "iopub.execute_input": "2021-09-04T03:54:58.240288Z",
     "iopub.status.busy": "2021-09-04T03:54:58.239620Z",
     "iopub.status.idle": "2021-09-04T03:55:41.104712Z",
     "shell.execute_reply": "2021-09-04T03:55:41.105493Z",
     "shell.execute_reply.started": "2021-09-04T00:55:20.850619Z"
    },
    "papermill": {
     "duration": 42.920831,
     "end_time": "2021-09-04T03:55:41.105665",
     "exception": false,
     "start_time": "2021-09-04T03:54:58.184834",
     "status": "completed"
    },
    "tags": []
   },
   "outputs": [
    {
     "name": "stderr",
     "output_type": "stream",
     "text": [
      "/opt/conda/lib/python3.7/site-packages/transformers/tokenization_utils_base.py:2110: FutureWarning: The `pad_to_max_length` argument is deprecated and will be removed in a future version, use `padding=True` or `padding='longest'` to pad to the longest sequence in the batch, or use `padding='max_length'` to pad to a max length. In this case, you can give a specific length with `max_length` (e.g. `max_length=45`) or leave max_length to None to pad to the maximal input size of the model (e.g. 512 for Bert).\n",
      "  FutureWarning,\n"
     ]
    }
   ],
   "source": [
    "# tokenize and encode sequences in the training set\n",
    "train_tokens = tokenizer.batch_encode_plus(train_df[\"comment_text\"].tolist(),\n",
    "                                           max_length = 200,\n",
    "                                           pad_to_max_length=True,\n",
    "                                           truncation=True,\n",
    "                                           return_token_type_ids=False\n",
    "                                           )\n",
    "\n",
    "# tokenize and encode sequences in the validation set\n",
    "val_tokens = tokenizer.batch_encode_plus(val_df[\"comment_text\"].tolist(),\n",
    "                                         max_length = 200,\n",
    "                                         pad_to_max_length=True,\n",
    "                                         truncation=True,\n",
    "                                         return_token_type_ids=False\n",
    "                                         )\n",
    "\n",
    "# tokenize and encode sequences in the test set\n",
    "test_tokens = tokenizer.batch_encode_plus(test_df[\"comment_text\"].tolist(),\n",
    "                                          max_length = 200,\n",
    "                                          pad_to_max_length=True,\n",
    "                                          truncation=True,\n",
    "                                          return_token_type_ids=False\n",
    "                                          )"
   ]
  },
  {
   "cell_type": "code",
   "execution_count": 18,
   "id": "61bd39c8",
   "metadata": {
    "execution": {
     "iopub.execute_input": "2021-09-04T03:55:43.164211Z",
     "iopub.status.busy": "2021-09-04T03:55:43.163468Z",
     "iopub.status.idle": "2021-09-04T03:55:47.918718Z",
     "shell.execute_reply": "2021-09-04T03:55:47.918263Z",
     "shell.execute_reply.started": "2021-09-04T00:56:03.565561Z"
    },
    "papermill": {
     "duration": 6.765196,
     "end_time": "2021-09-04T03:55:47.918845",
     "exception": false,
     "start_time": "2021-09-04T03:55:41.153649",
     "status": "completed"
    },
    "tags": []
   },
   "outputs": [],
   "source": [
    "## convert lists to tensors\n",
    "train_seq = torch.tensor(train_tokens['input_ids'])\n",
    "train_mask = torch.tensor(train_tokens['attention_mask'])\n",
    "# change from a list of 1 & 0 to array then to tensor\n",
    "train_y = torch.tensor(np.array(train_df[categories]))  \n",
    "\n",
    "val_seq = torch.tensor(val_tokens['input_ids'])\n",
    "val_mask = torch.tensor(val_tokens['attention_mask'])\n",
    "# change from a list of 1 & 0 to array then to tensor\n",
    "val_y = torch.tensor(np.array(val_df[categories]))\n",
    "\n",
    "test_seq = torch.tensor(test_tokens['input_ids'])\n",
    "test_mask = torch.tensor(test_tokens['attention_mask'])\n",
    "# change from a list of 1 & 0 to array then to tensor\n",
    "test_y = torch.tensor(np.array(test_df[categories]))"
   ]
  },
  {
   "cell_type": "code",
   "execution_count": 19,
   "id": "578ba767",
   "metadata": {
    "execution": {
     "iopub.execute_input": "2021-09-04T03:55:48.025794Z",
     "iopub.status.busy": "2021-09-04T03:55:48.025210Z",
     "iopub.status.idle": "2021-09-04T03:55:48.038968Z",
     "shell.execute_reply": "2021-09-04T03:55:48.038466Z",
     "shell.execute_reply.started": "2021-09-04T00:56:10.110011Z"
    },
    "papermill": {
     "duration": 0.072206,
     "end_time": "2021-09-04T03:55:48.039105",
     "exception": false,
     "start_time": "2021-09-04T03:55:47.966899",
     "status": "completed"
    },
    "tags": []
   },
   "outputs": [
    {
     "data": {
      "text/plain": [
       "tensor([[0, 0, 0, 0, 0, 0],\n",
       "        [0, 0, 0, 0, 0, 0],\n",
       "        [0, 0, 0, 0, 0, 0],\n",
       "        ...,\n",
       "        [0, 0, 0, 0, 0, 0],\n",
       "        [0, 0, 0, 0, 0, 0],\n",
       "        [0, 0, 0, 0, 0, 0]])"
      ]
     },
     "execution_count": 19,
     "metadata": {},
     "output_type": "execute_result"
    }
   ],
   "source": [
    "train_y"
   ]
  },
  {
   "cell_type": "code",
   "execution_count": 20,
   "id": "56cf3821",
   "metadata": {
    "execution": {
     "iopub.execute_input": "2021-09-04T03:55:48.138762Z",
     "iopub.status.busy": "2021-09-04T03:55:48.138023Z",
     "iopub.status.idle": "2021-09-04T03:55:48.141823Z",
     "shell.execute_reply": "2021-09-04T03:55:48.141412Z",
     "shell.execute_reply.started": "2021-09-04T00:56:10.134295Z"
    },
    "papermill": {
     "duration": 0.055381,
     "end_time": "2021-09-04T03:55:48.141931",
     "exception": false,
     "start_time": "2021-09-04T03:55:48.086550",
     "status": "completed"
    },
    "tags": []
   },
   "outputs": [],
   "source": [
    "# wrap tensors\n",
    "train_data = TensorDataset(train_seq, train_mask, train_y)\n",
    "# sampler for sampling the data during training\n",
    "train_sampler = RandomSampler(train_data)\n",
    "\n",
    "# wrap tensors\n",
    "val_data = TensorDataset(val_seq, val_mask, val_y)\n",
    "# sampler for sampling the data during training\n",
    "val_sampler = SequentialSampler(val_data)\n",
    "\n",
    "# wrap tensors\n",
    "test_data = TensorDataset(test_seq, test_mask, test_y)\n",
    "test_sampler = SequentialSampler(test_data)"
   ]
  },
  {
   "cell_type": "code",
   "execution_count": 21,
   "id": "b59921f6",
   "metadata": {
    "execution": {
     "iopub.execute_input": "2021-09-04T03:55:48.243392Z",
     "iopub.status.busy": "2021-09-04T03:55:48.242844Z",
     "iopub.status.idle": "2021-09-04T03:55:48.246679Z",
     "shell.execute_reply": "2021-09-04T03:55:48.246279Z",
     "shell.execute_reply.started": "2021-09-04T00:56:10.143544Z"
    },
    "papermill": {
     "duration": 0.05502,
     "end_time": "2021-09-04T03:55:48.246785",
     "exception": false,
     "start_time": "2021-09-04T03:55:48.191765",
     "status": "completed"
    },
    "tags": []
   },
   "outputs": [],
   "source": [
    "# define a batch size\n",
    "batch_size = 32\n",
    "\n",
    "# dataLoader for train set\n",
    "train_dataloader = DataLoader(train_data, \n",
    "                              sampler=train_sampler, \n",
    "                              batch_size=batch_size,\n",
    "                              # collate_fn=data_collator\n",
    "                              )\n",
    "\n",
    "# dataLoader for validation set\n",
    "val_dataloader = DataLoader(val_data, \n",
    "                            sampler = val_sampler, \n",
    "                            batch_size=batch_size,\n",
    "                            # collate_fn=data_collator\n",
    "                            )"
   ]
  },
  {
   "cell_type": "markdown",
   "id": "dd47db74",
   "metadata": {
    "papermill": {
     "duration": 0.046851,
     "end_time": "2021-09-04T03:55:48.340583",
     "exception": false,
     "start_time": "2021-09-04T03:55:48.293732",
     "status": "completed"
    },
    "tags": []
   },
   "source": [
    "No dynamic padding. Above accomodate for fix padding size of 200"
   ]
  },
  {
   "cell_type": "code",
   "execution_count": 22,
   "id": "98994409",
   "metadata": {
    "execution": {
     "iopub.execute_input": "2021-09-04T03:55:48.439944Z",
     "iopub.status.busy": "2021-09-04T03:55:48.439307Z",
     "iopub.status.idle": "2021-09-04T03:55:48.469605Z",
     "shell.execute_reply": "2021-09-04T03:55:48.470024Z",
     "shell.execute_reply.started": "2021-09-04T00:56:10.153141Z"
    },
    "papermill": {
     "duration": 0.082768,
     "end_time": "2021-09-04T03:55:48.470166",
     "exception": false,
     "start_time": "2021-09-04T03:55:48.387398",
     "status": "completed"
    },
    "tags": []
   },
   "outputs": [
    {
     "name": "stdout",
     "output_type": "stream",
     "text": [
      "tensor([[  101, 19169, 16407,  ...,     0,     0,     0],\n",
      "        [  101, 27105, 15693,  ...,     0,     0,     0],\n",
      "        [  101,  2023,  2003,  ...,     0,     0,     0],\n",
      "        ...,\n",
      "        [  101,  3398,  2092,  ...,     0,     0,     0],\n",
      "        [  101,  2025,  2043,  ...,     0,     0,     0],\n",
      "        [  101,  2021,  1045,  ...,     0,     0,     0]])\n",
      "tensor([[1, 1, 1,  ..., 0, 0, 0],\n",
      "        [1, 1, 1,  ..., 0, 0, 0],\n",
      "        [1, 1, 1,  ..., 0, 0, 0],\n",
      "        ...,\n",
      "        [1, 1, 1,  ..., 0, 0, 0],\n",
      "        [1, 1, 1,  ..., 0, 0, 0],\n",
      "        [1, 1, 1,  ..., 0, 0, 0]])\n",
      "tensor([[0, 0, 0, 0, 0, 0],\n",
      "        [0, 0, 0, 0, 0, 0],\n",
      "        [0, 0, 0, 0, 0, 0],\n",
      "        [0, 0, 0, 0, 0, 0],\n",
      "        [0, 0, 0, 0, 0, 0],\n",
      "        [0, 0, 0, 0, 0, 0],\n",
      "        [0, 0, 0, 0, 0, 0],\n",
      "        [0, 0, 0, 0, 0, 0],\n",
      "        [0, 0, 0, 0, 0, 0],\n",
      "        [0, 0, 0, 0, 0, 0],\n",
      "        [0, 0, 0, 0, 0, 0],\n",
      "        [0, 0, 0, 0, 0, 0],\n",
      "        [0, 0, 0, 0, 0, 0],\n",
      "        [0, 0, 0, 0, 0, 0],\n",
      "        [0, 0, 0, 0, 0, 0],\n",
      "        [0, 0, 0, 0, 0, 0],\n",
      "        [0, 0, 0, 0, 0, 0],\n",
      "        [0, 0, 0, 0, 0, 0],\n",
      "        [0, 0, 0, 0, 0, 0],\n",
      "        [0, 0, 0, 0, 0, 0],\n",
      "        [0, 0, 0, 0, 0, 0],\n",
      "        [0, 0, 0, 0, 0, 0],\n",
      "        [0, 0, 0, 0, 0, 0],\n",
      "        [0, 0, 0, 0, 0, 0],\n",
      "        [1, 1, 1, 0, 1, 0],\n",
      "        [0, 0, 0, 0, 0, 0],\n",
      "        [0, 0, 0, 0, 0, 0],\n",
      "        [1, 0, 1, 0, 0, 0],\n",
      "        [0, 0, 0, 0, 0, 0],\n",
      "        [0, 0, 0, 0, 0, 0],\n",
      "        [0, 0, 0, 0, 0, 0],\n",
      "        [0, 0, 0, 0, 0, 0]])\n"
     ]
    }
   ],
   "source": [
    "for step,batch in enumerate(train_dataloader):\n",
    "    break\n",
    "print(batch[0])\n",
    "print(batch[1])\n",
    "print(batch[2])"
   ]
  },
  {
   "cell_type": "markdown",
   "id": "447f826a",
   "metadata": {
    "papermill": {
     "duration": 0.047532,
     "end_time": "2021-09-04T03:55:48.565517",
     "exception": false,
     "start_time": "2021-09-04T03:55:48.517985",
     "status": "completed"
    },
    "tags": []
   },
   "source": [
    "## Setting up Huawei's TinyBert Model (Even lighter version of DistilBert)"
   ]
  },
  {
   "cell_type": "code",
   "execution_count": 23,
   "id": "5f2d6872",
   "metadata": {
    "execution": {
     "iopub.execute_input": "2021-09-04T03:55:48.664296Z",
     "iopub.status.busy": "2021-09-04T03:55:48.663483Z",
     "iopub.status.idle": "2021-09-04T03:55:56.350583Z",
     "shell.execute_reply": "2021-09-04T03:55:56.351276Z",
     "shell.execute_reply.started": "2021-09-04T00:56:10.194843Z"
    },
    "papermill": {
     "duration": 7.73841,
     "end_time": "2021-09-04T03:55:56.351465",
     "exception": false,
     "start_time": "2021-09-04T03:55:48.613055",
     "status": "completed"
    },
    "tags": []
   },
   "outputs": [
    {
     "data": {
      "application/vnd.jupyter.widget-view+json": {
       "model_id": "fb286eea3c234b3f9cfb526c5d53f4e2",
       "version_major": 2,
       "version_minor": 0
      },
      "text/plain": [
       "Downloading:   0%|          | 0.00/62.7M [00:00<?, ?B/s]"
      ]
     },
     "metadata": {},
     "output_type": "display_data"
    },
    {
     "name": "stderr",
     "output_type": "stream",
     "text": [
      "Some weights of the model checkpoint at huawei-noah/TinyBERT_General_4L_312D were not used when initializing BertForSequenceClassification: ['fit_denses.2.weight', 'fit_denses.2.bias', 'fit_denses.0.weight', 'fit_denses.3.bias', 'cls.predictions.transform.LayerNorm.bias', 'fit_denses.0.bias', 'cls.predictions.decoder.weight', 'fit_denses.4.bias', 'cls.seq_relationship.weight', 'cls.predictions.bias', 'cls.seq_relationship.bias', 'fit_denses.1.weight', 'fit_denses.3.weight', 'cls.predictions.transform.dense.bias', 'fit_denses.4.weight', 'fit_denses.1.bias', 'cls.predictions.transform.LayerNorm.weight', 'cls.predictions.transform.dense.weight']\n",
      "- This IS expected if you are initializing BertForSequenceClassification from the checkpoint of a model trained on another task or with another architecture (e.g. initializing a BertForSequenceClassification model from a BertForPreTraining model).\n",
      "- This IS NOT expected if you are initializing BertForSequenceClassification from the checkpoint of a model that you expect to be exactly identical (initializing a BertForSequenceClassification model from a BertForSequenceClassification model).\n",
      "Some weights of BertForSequenceClassification were not initialized from the model checkpoint at huawei-noah/TinyBERT_General_4L_312D and are newly initialized: ['classifier.weight', 'classifier.bias']\n",
      "You should probably TRAIN this model on a down-stream task to be able to use it for predictions and inference.\n"
     ]
    }
   ],
   "source": [
    "# instantiate model using TinyBert\"\n",
    "# Will be training for the whole network instead of just finetuning the weight of the head layer\n",
    "model = AutoModelForSequenceClassification.from_pretrained(checkpoint, num_labels = 6)\n",
    "\n",
    "# In the event that we only need to finetune the head layer and not the whole network,\n",
    "# just need to uncomment the below code\n",
    "\n",
    "# for param in model.bert.parameters():\n",
    "#     param.requires_grad = False\n",
    "\n",
    "# for name, param in model.named_parameters():                \n",
    "#     if param.requires_grad:\n",
    "#         print(name)"
   ]
  },
  {
   "cell_type": "code",
   "execution_count": 24,
   "id": "2228e2d6",
   "metadata": {
    "execution": {
     "iopub.execute_input": "2021-09-04T03:55:56.507198Z",
     "iopub.status.busy": "2021-09-04T03:55:56.506528Z",
     "iopub.status.idle": "2021-09-04T03:56:02.359798Z",
     "shell.execute_reply": "2021-09-04T03:56:02.359351Z",
     "shell.execute_reply.started": "2021-09-04T00:56:14.398515Z"
    },
    "papermill": {
     "duration": 5.958412,
     "end_time": "2021-09-04T03:56:02.359916",
     "exception": false,
     "start_time": "2021-09-04T03:55:56.401504",
     "status": "completed"
    },
    "tags": []
   },
   "outputs": [
    {
     "data": {
      "text/plain": [
       "BertForSequenceClassification(\n",
       "  (bert): BertModel(\n",
       "    (embeddings): BertEmbeddings(\n",
       "      (word_embeddings): Embedding(30522, 312, padding_idx=0)\n",
       "      (position_embeddings): Embedding(512, 312)\n",
       "      (token_type_embeddings): Embedding(2, 312)\n",
       "      (LayerNorm): LayerNorm((312,), eps=1e-12, elementwise_affine=True)\n",
       "      (dropout): Dropout(p=0.1, inplace=False)\n",
       "    )\n",
       "    (encoder): BertEncoder(\n",
       "      (layer): ModuleList(\n",
       "        (0): BertLayer(\n",
       "          (attention): BertAttention(\n",
       "            (self): BertSelfAttention(\n",
       "              (query): Linear(in_features=312, out_features=312, bias=True)\n",
       "              (key): Linear(in_features=312, out_features=312, bias=True)\n",
       "              (value): Linear(in_features=312, out_features=312, bias=True)\n",
       "              (dropout): Dropout(p=0.1, inplace=False)\n",
       "            )\n",
       "            (output): BertSelfOutput(\n",
       "              (dense): Linear(in_features=312, out_features=312, bias=True)\n",
       "              (LayerNorm): LayerNorm((312,), eps=1e-12, elementwise_affine=True)\n",
       "              (dropout): Dropout(p=0.1, inplace=False)\n",
       "            )\n",
       "          )\n",
       "          (intermediate): BertIntermediate(\n",
       "            (dense): Linear(in_features=312, out_features=1200, bias=True)\n",
       "          )\n",
       "          (output): BertOutput(\n",
       "            (dense): Linear(in_features=1200, out_features=312, bias=True)\n",
       "            (LayerNorm): LayerNorm((312,), eps=1e-12, elementwise_affine=True)\n",
       "            (dropout): Dropout(p=0.1, inplace=False)\n",
       "          )\n",
       "        )\n",
       "        (1): BertLayer(\n",
       "          (attention): BertAttention(\n",
       "            (self): BertSelfAttention(\n",
       "              (query): Linear(in_features=312, out_features=312, bias=True)\n",
       "              (key): Linear(in_features=312, out_features=312, bias=True)\n",
       "              (value): Linear(in_features=312, out_features=312, bias=True)\n",
       "              (dropout): Dropout(p=0.1, inplace=False)\n",
       "            )\n",
       "            (output): BertSelfOutput(\n",
       "              (dense): Linear(in_features=312, out_features=312, bias=True)\n",
       "              (LayerNorm): LayerNorm((312,), eps=1e-12, elementwise_affine=True)\n",
       "              (dropout): Dropout(p=0.1, inplace=False)\n",
       "            )\n",
       "          )\n",
       "          (intermediate): BertIntermediate(\n",
       "            (dense): Linear(in_features=312, out_features=1200, bias=True)\n",
       "          )\n",
       "          (output): BertOutput(\n",
       "            (dense): Linear(in_features=1200, out_features=312, bias=True)\n",
       "            (LayerNorm): LayerNorm((312,), eps=1e-12, elementwise_affine=True)\n",
       "            (dropout): Dropout(p=0.1, inplace=False)\n",
       "          )\n",
       "        )\n",
       "        (2): BertLayer(\n",
       "          (attention): BertAttention(\n",
       "            (self): BertSelfAttention(\n",
       "              (query): Linear(in_features=312, out_features=312, bias=True)\n",
       "              (key): Linear(in_features=312, out_features=312, bias=True)\n",
       "              (value): Linear(in_features=312, out_features=312, bias=True)\n",
       "              (dropout): Dropout(p=0.1, inplace=False)\n",
       "            )\n",
       "            (output): BertSelfOutput(\n",
       "              (dense): Linear(in_features=312, out_features=312, bias=True)\n",
       "              (LayerNorm): LayerNorm((312,), eps=1e-12, elementwise_affine=True)\n",
       "              (dropout): Dropout(p=0.1, inplace=False)\n",
       "            )\n",
       "          )\n",
       "          (intermediate): BertIntermediate(\n",
       "            (dense): Linear(in_features=312, out_features=1200, bias=True)\n",
       "          )\n",
       "          (output): BertOutput(\n",
       "            (dense): Linear(in_features=1200, out_features=312, bias=True)\n",
       "            (LayerNorm): LayerNorm((312,), eps=1e-12, elementwise_affine=True)\n",
       "            (dropout): Dropout(p=0.1, inplace=False)\n",
       "          )\n",
       "        )\n",
       "        (3): BertLayer(\n",
       "          (attention): BertAttention(\n",
       "            (self): BertSelfAttention(\n",
       "              (query): Linear(in_features=312, out_features=312, bias=True)\n",
       "              (key): Linear(in_features=312, out_features=312, bias=True)\n",
       "              (value): Linear(in_features=312, out_features=312, bias=True)\n",
       "              (dropout): Dropout(p=0.1, inplace=False)\n",
       "            )\n",
       "            (output): BertSelfOutput(\n",
       "              (dense): Linear(in_features=312, out_features=312, bias=True)\n",
       "              (LayerNorm): LayerNorm((312,), eps=1e-12, elementwise_affine=True)\n",
       "              (dropout): Dropout(p=0.1, inplace=False)\n",
       "            )\n",
       "          )\n",
       "          (intermediate): BertIntermediate(\n",
       "            (dense): Linear(in_features=312, out_features=1200, bias=True)\n",
       "          )\n",
       "          (output): BertOutput(\n",
       "            (dense): Linear(in_features=1200, out_features=312, bias=True)\n",
       "            (LayerNorm): LayerNorm((312,), eps=1e-12, elementwise_affine=True)\n",
       "            (dropout): Dropout(p=0.1, inplace=False)\n",
       "          )\n",
       "        )\n",
       "      )\n",
       "    )\n",
       "    (pooler): BertPooler(\n",
       "      (dense): Linear(in_features=312, out_features=312, bias=True)\n",
       "      (activation): Tanh()\n",
       "    )\n",
       "  )\n",
       "  (dropout): Dropout(p=0.1, inplace=False)\n",
       "  (classifier): Linear(in_features=312, out_features=6, bias=True)\n",
       ")"
      ]
     },
     "execution_count": 24,
     "metadata": {},
     "output_type": "execute_result"
    }
   ],
   "source": [
    "device = torch.device(\"cuda\") if torch.cuda.is_available() else torch.device(\"cpu\")\n",
    "model.to(device)"
   ]
  },
  {
   "cell_type": "markdown",
   "id": "b5419c21",
   "metadata": {
    "papermill": {
     "duration": 0.050307,
     "end_time": "2021-09-04T03:56:02.460117",
     "exception": false,
     "start_time": "2021-09-04T03:56:02.409810",
     "status": "completed"
    },
    "tags": []
   },
   "source": [
    "Also need to set up the following before training:\n",
    "\n",
    "1. Optimizer\n",
    "2. Scheduler (if want to go add a little decay in the learning rate)\n",
    "3. Get the right loss function/criterion\n",
    "4. Specify the right measurement for accuracy (since this is a multi-label problem)"
   ]
  },
  {
   "cell_type": "code",
   "execution_count": 25,
   "id": "2ec37011",
   "metadata": {
    "execution": {
     "iopub.execute_input": "2021-09-04T03:56:02.565774Z",
     "iopub.status.busy": "2021-09-04T03:56:02.564962Z",
     "iopub.status.idle": "2021-09-04T03:56:02.567747Z",
     "shell.execute_reply": "2021-09-04T03:56:02.567317Z",
     "shell.execute_reply.started": "2021-09-04T00:56:20.129496Z"
    },
    "papermill": {
     "duration": 0.05809,
     "end_time": "2021-09-04T03:56:02.567850",
     "exception": false,
     "start_time": "2021-09-04T03:56:02.509760",
     "status": "completed"
    },
    "tags": []
   },
   "outputs": [],
   "source": [
    "# Set up optimizer\n",
    "# Will be training for the whole network instead of just finetuning the weight of the head layer\n",
    "LEARN_RATE = 3e-5\n",
    "optimizer = AdamW(model.parameters(),\n",
    "                  lr = LEARN_RATE, # args.learning_rate - default is 5e-5, our notebook had 2e-5\n",
    "                  eps = 1e-8 # args.adam_epsilon  - default is 1e-8.\n",
    "                  )\n",
    "\n",
    "# In the event that we only need to finetune the head layer and not the whole network,\n",
    "# just need to uncomment the below code\n",
    "\n",
    "# optimizer = AdamW(filter(lambda p: p.requires_grad, model.parameters()),\n",
    "#                   lr = LEARN_RATE, # args.learning_rate - default is 5e-5, our notebook had 2e-5\n",
    "#                   eps = 1e-8 # args.adam_epsilon  - default is 1e-8.\n",
    "#                   )\n",
    "\n",
    "# optimizer = torch.optim.Adam(filter(lambda p: p.requires_grad, model.parameters()), lr = 1e-5)"
   ]
  },
  {
   "cell_type": "code",
   "execution_count": 26,
   "id": "f90999e6",
   "metadata": {
    "execution": {
     "iopub.execute_input": "2021-09-04T03:56:02.674989Z",
     "iopub.status.busy": "2021-09-04T03:56:02.674234Z",
     "iopub.status.idle": "2021-09-04T03:56:02.676916Z",
     "shell.execute_reply": "2021-09-04T03:56:02.676527Z",
     "shell.execute_reply.started": "2021-09-04T00:56:20.138740Z"
    },
    "papermill": {
     "duration": 0.059758,
     "end_time": "2021-09-04T03:56:02.677030",
     "exception": false,
     "start_time": "2021-09-04T03:56:02.617272",
     "status": "completed"
    },
    "tags": []
   },
   "outputs": [],
   "source": [
    "# Number of training epochs. The BERT authors recommend between 2 and 4. \n",
    "# We chose to run for 3\n",
    "epochs = 3\n",
    "\n",
    "# Total number of training steps is [number of batches] x [number of epochs]. \n",
    "# (Note that this is not the same as the number of training samples).\n",
    "total_steps = len(train_dataloader) * epochs\n",
    "\n",
    "# Create the learning rate scheduler.\n",
    "scheduler = get_linear_schedule_with_warmup(optimizer, \n",
    "                                            num_warmup_steps = 0, # default value\n",
    "                                            num_training_steps = total_steps\n",
    "                                            )\n",
    "# scheduler = torch.optim.lr_scheduler.ReduceLROnPlateau(optimizer)"
   ]
  },
  {
   "cell_type": "code",
   "execution_count": 27,
   "id": "a0a60bbf",
   "metadata": {
    "execution": {
     "iopub.execute_input": "2021-09-04T03:56:02.780158Z",
     "iopub.status.busy": "2021-09-04T03:56:02.779471Z",
     "iopub.status.idle": "2021-09-04T03:56:02.781843Z",
     "shell.execute_reply": "2021-09-04T03:56:02.782222Z",
     "shell.execute_reply.started": "2021-09-04T00:56:20.153464Z"
    },
    "papermill": {
     "duration": 0.05599,
     "end_time": "2021-09-04T03:56:02.782341",
     "exception": false,
     "start_time": "2021-09-04T03:56:02.726351",
     "status": "completed"
    },
    "tags": []
   },
   "outputs": [],
   "source": [
    "# Specify loss function\n",
    "criterion = nn.BCEWithLogitsLoss()\n",
    "\n",
    "# https://pytorch.org/docs/stable/generated/torch.nn.CrossEntropyLoss.html\n",
    "# This criterion combines LogSoftmax and NLLLoss in one single class.\n",
    "# More relevant for multiclass (because of the softmax)\n",
    "\n",
    "# https://pytorch.org/docs/stable/generated/torch.nn.BCEWithLogitsLoss.html\n",
    "# More relevant for multilabel. For more explanation, can refer to the link below.\n",
    "# https://discuss.pytorch.org/t/using-bcewithlogisloss-for-multi-label-classification/67011/2"
   ]
  },
  {
   "cell_type": "code",
   "execution_count": 28,
   "id": "8f135cc7",
   "metadata": {
    "execution": {
     "iopub.execute_input": "2021-09-04T03:56:02.886590Z",
     "iopub.status.busy": "2021-09-04T03:56:02.885871Z",
     "iopub.status.idle": "2021-09-04T03:56:02.888294Z",
     "shell.execute_reply": "2021-09-04T03:56:02.888666Z",
     "shell.execute_reply.started": "2021-09-04T00:56:20.166197Z"
    },
    "papermill": {
     "duration": 0.056826,
     "end_time": "2021-09-04T03:56:02.888788",
     "exception": false,
     "start_time": "2021-09-04T03:56:02.831962",
     "status": "completed"
    },
    "tags": []
   },
   "outputs": [],
   "source": [
    "# Specify measurement of accuracy\n",
    "def accuracy_thresh(y_pred, y_true, thresh:float=0.4, sigmoid:bool=True):\n",
    "    \"Compute accuracy when `y_pred` and `y_true` are the same size.\"\n",
    "    if sigmoid: \n",
    "        y_pred = y_pred.sigmoid()\n",
    "    # return ((y_pred>thresh)==y_true.byte()).float().mean().item()\n",
    "    return np.mean(((y_pred>thresh).float()==y_true.float()).float().cpu().numpy(), axis=1).sum()"
   ]
  },
  {
   "cell_type": "code",
   "execution_count": 29,
   "id": "74d8e63c",
   "metadata": {
    "execution": {
     "iopub.execute_input": "2021-09-04T03:56:02.995053Z",
     "iopub.status.busy": "2021-09-04T03:56:02.994278Z",
     "iopub.status.idle": "2021-09-04T03:56:02.996944Z",
     "shell.execute_reply": "2021-09-04T03:56:02.996524Z",
     "shell.execute_reply.started": "2021-09-04T00:56:20.176270Z"
    },
    "papermill": {
     "duration": 0.057268,
     "end_time": "2021-09-04T03:56:02.997054",
     "exception": false,
     "start_time": "2021-09-04T03:56:02.939786",
     "status": "completed"
    },
    "tags": []
   },
   "outputs": [],
   "source": [
    "def format_time(elapsed):\n",
    "    '''\n",
    "    Takes a time in seconds and returns a string hh:mm:ss\n",
    "    '''\n",
    "    # Round to the nearest second.\n",
    "    elapsed_rounded = int(round((elapsed)))\n",
    "    \n",
    "    # Format as hh:mm:ss\n",
    "    return str(datetime.timedelta(seconds=elapsed_rounded))"
   ]
  },
  {
   "cell_type": "code",
   "execution_count": 30,
   "id": "b9e545f6",
   "metadata": {
    "execution": {
     "iopub.execute_input": "2021-09-04T03:56:03.111084Z",
     "iopub.status.busy": "2021-09-04T03:56:03.105490Z",
     "iopub.status.idle": "2021-09-04T04:09:13.711763Z",
     "shell.execute_reply": "2021-09-04T04:09:13.712390Z",
     "shell.execute_reply.started": "2021-09-04T00:56:20.186402Z"
    },
    "papermill": {
     "duration": 790.665313,
     "end_time": "2021-09-04T04:09:13.712593",
     "exception": false,
     "start_time": "2021-09-04T03:56:03.047280",
     "status": "completed"
    },
    "tags": []
   },
   "outputs": [
    {
     "name": "stdout",
     "output_type": "stream",
     "text": [
      "\n",
      "======== Epoch 1 / 3 ========\n",
      "Training...\n",
      "  Batch    40  of  2,992.    Elapsed: 0:00:04.\n",
      "  Batch    80  of  2,992.    Elapsed: 0:00:07.\n",
      "  Batch   120  of  2,992.    Elapsed: 0:00:10.\n",
      "  Batch   160  of  2,992.    Elapsed: 0:00:14.\n",
      "  Batch   200  of  2,992.    Elapsed: 0:00:17.\n",
      "  Batch   240  of  2,992.    Elapsed: 0:00:20.\n",
      "  Batch   280  of  2,992.    Elapsed: 0:00:23.\n",
      "  Batch   320  of  2,992.    Elapsed: 0:00:27.\n",
      "  Batch   360  of  2,992.    Elapsed: 0:00:30.\n",
      "  Batch   400  of  2,992.    Elapsed: 0:00:33.\n",
      "  Batch   440  of  2,992.    Elapsed: 0:00:36.\n",
      "  Batch   480  of  2,992.    Elapsed: 0:00:39.\n",
      "  Batch   520  of  2,992.    Elapsed: 0:00:42.\n",
      "  Batch   560  of  2,992.    Elapsed: 0:00:46.\n",
      "  Batch   600  of  2,992.    Elapsed: 0:00:49.\n",
      "  Batch   640  of  2,992.    Elapsed: 0:00:52.\n",
      "  Batch   680  of  2,992.    Elapsed: 0:00:55.\n",
      "  Batch   720  of  2,992.    Elapsed: 0:00:59.\n",
      "  Batch   760  of  2,992.    Elapsed: 0:01:02.\n",
      "  Batch   800  of  2,992.    Elapsed: 0:01:05.\n",
      "  Batch   840  of  2,992.    Elapsed: 0:01:08.\n",
      "  Batch   880  of  2,992.    Elapsed: 0:01:11.\n",
      "  Batch   920  of  2,992.    Elapsed: 0:01:14.\n",
      "  Batch   960  of  2,992.    Elapsed: 0:01:18.\n",
      "  Batch 1,000  of  2,992.    Elapsed: 0:01:21.\n",
      "  Batch 1,040  of  2,992.    Elapsed: 0:01:24.\n",
      "  Batch 1,080  of  2,992.    Elapsed: 0:01:27.\n",
      "  Batch 1,120  of  2,992.    Elapsed: 0:01:31.\n",
      "  Batch 1,160  of  2,992.    Elapsed: 0:01:34.\n",
      "  Batch 1,200  of  2,992.    Elapsed: 0:01:37.\n",
      "  Batch 1,240  of  2,992.    Elapsed: 0:01:40.\n",
      "  Batch 1,280  of  2,992.    Elapsed: 0:01:43.\n",
      "  Batch 1,320  of  2,992.    Elapsed: 0:01:47.\n",
      "  Batch 1,360  of  2,992.    Elapsed: 0:01:50.\n",
      "  Batch 1,400  of  2,992.    Elapsed: 0:01:53.\n",
      "  Batch 1,440  of  2,992.    Elapsed: 0:01:56.\n",
      "  Batch 1,480  of  2,992.    Elapsed: 0:01:59.\n",
      "  Batch 1,520  of  2,992.    Elapsed: 0:02:03.\n",
      "  Batch 1,560  of  2,992.    Elapsed: 0:02:06.\n",
      "  Batch 1,600  of  2,992.    Elapsed: 0:02:09.\n",
      "  Batch 1,640  of  2,992.    Elapsed: 0:02:12.\n",
      "  Batch 1,680  of  2,992.    Elapsed: 0:02:15.\n",
      "  Batch 1,720  of  2,992.    Elapsed: 0:02:19.\n",
      "  Batch 1,760  of  2,992.    Elapsed: 0:02:22.\n",
      "  Batch 1,800  of  2,992.    Elapsed: 0:02:25.\n",
      "  Batch 1,840  of  2,992.    Elapsed: 0:02:28.\n",
      "  Batch 1,880  of  2,992.    Elapsed: 0:02:31.\n",
      "  Batch 1,920  of  2,992.    Elapsed: 0:02:35.\n",
      "  Batch 1,960  of  2,992.    Elapsed: 0:02:38.\n",
      "  Batch 2,000  of  2,992.    Elapsed: 0:02:41.\n",
      "  Batch 2,040  of  2,992.    Elapsed: 0:02:44.\n",
      "  Batch 2,080  of  2,992.    Elapsed: 0:02:47.\n",
      "  Batch 2,120  of  2,992.    Elapsed: 0:02:51.\n",
      "  Batch 2,160  of  2,992.    Elapsed: 0:02:54.\n",
      "  Batch 2,200  of  2,992.    Elapsed: 0:02:57.\n",
      "  Batch 2,240  of  2,992.    Elapsed: 0:03:00.\n",
      "  Batch 2,280  of  2,992.    Elapsed: 0:03:03.\n",
      "  Batch 2,320  of  2,992.    Elapsed: 0:03:07.\n",
      "  Batch 2,360  of  2,992.    Elapsed: 0:03:10.\n",
      "  Batch 2,400  of  2,992.    Elapsed: 0:03:13.\n",
      "  Batch 2,440  of  2,992.    Elapsed: 0:03:16.\n",
      "  Batch 2,480  of  2,992.    Elapsed: 0:03:19.\n",
      "  Batch 2,520  of  2,992.    Elapsed: 0:03:23.\n",
      "  Batch 2,560  of  2,992.    Elapsed: 0:03:26.\n",
      "  Batch 2,600  of  2,992.    Elapsed: 0:03:29.\n",
      "  Batch 2,640  of  2,992.    Elapsed: 0:03:32.\n",
      "  Batch 2,680  of  2,992.    Elapsed: 0:03:35.\n",
      "  Batch 2,720  of  2,992.    Elapsed: 0:03:39.\n",
      "  Batch 2,760  of  2,992.    Elapsed: 0:03:42.\n",
      "  Batch 2,800  of  2,992.    Elapsed: 0:03:45.\n",
      "  Batch 2,840  of  2,992.    Elapsed: 0:03:48.\n",
      "  Batch 2,880  of  2,992.    Elapsed: 0:03:51.\n",
      "  Batch 2,920  of  2,992.    Elapsed: 0:03:55.\n",
      "  Batch 2,960  of  2,992.    Elapsed: 0:03:58.\n",
      "  Accuracy: 0.96792\n",
      "\n",
      "  Average training loss: 0.08\n",
      "  Training epcoh took: 0:04:01\n",
      "\n",
      "Running Validation...\n",
      "  Accuracy: 0.98217\n",
      "  Validation Loss: 0.05\n",
      "  Validation took: 0:00:23\n",
      "\n",
      "======== Epoch 2 / 3 ========\n",
      "Training...\n",
      "  Batch    40  of  2,992.    Elapsed: 0:00:03.\n",
      "  Batch    80  of  2,992.    Elapsed: 0:00:06.\n",
      "  Batch   120  of  2,992.    Elapsed: 0:00:10.\n",
      "  Batch   160  of  2,992.    Elapsed: 0:00:13.\n",
      "  Batch   200  of  2,992.    Elapsed: 0:00:16.\n",
      "  Batch   240  of  2,992.    Elapsed: 0:00:19.\n",
      "  Batch   280  of  2,992.    Elapsed: 0:00:23.\n",
      "  Batch   320  of  2,992.    Elapsed: 0:00:26.\n",
      "  Batch   360  of  2,992.    Elapsed: 0:00:29.\n",
      "  Batch   400  of  2,992.    Elapsed: 0:00:32.\n",
      "  Batch   440  of  2,992.    Elapsed: 0:00:35.\n",
      "  Batch   480  of  2,992.    Elapsed: 0:00:39.\n",
      "  Batch   520  of  2,992.    Elapsed: 0:00:42.\n",
      "  Batch   560  of  2,992.    Elapsed: 0:00:45.\n",
      "  Batch   600  of  2,992.    Elapsed: 0:00:48.\n",
      "  Batch   640  of  2,992.    Elapsed: 0:00:51.\n",
      "  Batch   680  of  2,992.    Elapsed: 0:00:55.\n",
      "  Batch   720  of  2,992.    Elapsed: 0:00:58.\n",
      "  Batch   760  of  2,992.    Elapsed: 0:01:01.\n",
      "  Batch   800  of  2,992.    Elapsed: 0:01:04.\n",
      "  Batch   840  of  2,992.    Elapsed: 0:01:07.\n",
      "  Batch   880  of  2,992.    Elapsed: 0:01:11.\n",
      "  Batch   920  of  2,992.    Elapsed: 0:01:14.\n",
      "  Batch   960  of  2,992.    Elapsed: 0:01:17.\n",
      "  Batch 1,000  of  2,992.    Elapsed: 0:01:20.\n",
      "  Batch 1,040  of  2,992.    Elapsed: 0:01:24.\n",
      "  Batch 1,080  of  2,992.    Elapsed: 0:01:27.\n",
      "  Batch 1,120  of  2,992.    Elapsed: 0:01:30.\n",
      "  Batch 1,160  of  2,992.    Elapsed: 0:01:33.\n",
      "  Batch 1,200  of  2,992.    Elapsed: 0:01:36.\n",
      "  Batch 1,240  of  2,992.    Elapsed: 0:01:39.\n",
      "  Batch 1,280  of  2,992.    Elapsed: 0:01:43.\n",
      "  Batch 1,320  of  2,992.    Elapsed: 0:01:46.\n",
      "  Batch 1,360  of  2,992.    Elapsed: 0:01:49.\n",
      "  Batch 1,400  of  2,992.    Elapsed: 0:01:52.\n",
      "  Batch 1,440  of  2,992.    Elapsed: 0:01:56.\n",
      "  Batch 1,480  of  2,992.    Elapsed: 0:01:59.\n",
      "  Batch 1,520  of  2,992.    Elapsed: 0:02:02.\n",
      "  Batch 1,560  of  2,992.    Elapsed: 0:02:05.\n",
      "  Batch 1,600  of  2,992.    Elapsed: 0:02:08.\n",
      "  Batch 1,640  of  2,992.    Elapsed: 0:02:11.\n",
      "  Batch 1,680  of  2,992.    Elapsed: 0:02:15.\n",
      "  Batch 1,720  of  2,992.    Elapsed: 0:02:18.\n",
      "  Batch 1,760  of  2,992.    Elapsed: 0:02:21.\n",
      "  Batch 1,800  of  2,992.    Elapsed: 0:02:24.\n",
      "  Batch 1,840  of  2,992.    Elapsed: 0:02:28.\n",
      "  Batch 1,880  of  2,992.    Elapsed: 0:02:31.\n",
      "  Batch 1,920  of  2,992.    Elapsed: 0:02:34.\n",
      "  Batch 1,960  of  2,992.    Elapsed: 0:02:37.\n",
      "  Batch 2,000  of  2,992.    Elapsed: 0:02:40.\n",
      "  Batch 2,040  of  2,992.    Elapsed: 0:02:44.\n",
      "  Batch 2,080  of  2,992.    Elapsed: 0:02:47.\n",
      "  Batch 2,120  of  2,992.    Elapsed: 0:02:50.\n",
      "  Batch 2,160  of  2,992.    Elapsed: 0:02:53.\n",
      "  Batch 2,200  of  2,992.    Elapsed: 0:02:56.\n",
      "  Batch 2,240  of  2,992.    Elapsed: 0:02:59.\n",
      "  Batch 2,280  of  2,992.    Elapsed: 0:03:03.\n",
      "  Batch 2,320  of  2,992.    Elapsed: 0:03:06.\n",
      "  Batch 2,360  of  2,992.    Elapsed: 0:03:09.\n",
      "  Batch 2,400  of  2,992.    Elapsed: 0:03:12.\n",
      "  Batch 2,440  of  2,992.    Elapsed: 0:03:16.\n",
      "  Batch 2,480  of  2,992.    Elapsed: 0:03:19.\n",
      "  Batch 2,520  of  2,992.    Elapsed: 0:03:22.\n",
      "  Batch 2,560  of  2,992.    Elapsed: 0:03:25.\n",
      "  Batch 2,600  of  2,992.    Elapsed: 0:03:28.\n",
      "  Batch 2,640  of  2,992.    Elapsed: 0:03:32.\n",
      "  Batch 2,680  of  2,992.    Elapsed: 0:03:35.\n",
      "  Batch 2,720  of  2,992.    Elapsed: 0:03:38.\n",
      "  Batch 2,760  of  2,992.    Elapsed: 0:03:41.\n",
      "  Batch 2,800  of  2,992.    Elapsed: 0:03:44.\n",
      "  Batch 2,840  of  2,992.    Elapsed: 0:03:48.\n",
      "  Batch 2,880  of  2,992.    Elapsed: 0:03:51.\n",
      "  Batch 2,920  of  2,992.    Elapsed: 0:03:54.\n",
      "  Batch 2,960  of  2,992.    Elapsed: 0:03:57.\n",
      "  Accuracy: 0.98319\n",
      "\n",
      "  Average training loss: 0.04\n",
      "  Training epcoh took: 0:04:00\n",
      "\n",
      "Running Validation...\n",
      "  Accuracy: 0.98038\n",
      "  Validation Loss: 0.05\n",
      "  Validation took: 0:00:23\n",
      "\n",
      "======== Epoch 3 / 3 ========\n",
      "Training...\n",
      "  Batch    40  of  2,992.    Elapsed: 0:00:03.\n",
      "  Batch    80  of  2,992.    Elapsed: 0:00:06.\n",
      "  Batch   120  of  2,992.    Elapsed: 0:00:10.\n",
      "  Batch   160  of  2,992.    Elapsed: 0:00:13.\n",
      "  Batch   200  of  2,992.    Elapsed: 0:00:16.\n",
      "  Batch   240  of  2,992.    Elapsed: 0:00:19.\n",
      "  Batch   280  of  2,992.    Elapsed: 0:00:22.\n",
      "  Batch   320  of  2,992.    Elapsed: 0:00:26.\n",
      "  Batch   360  of  2,992.    Elapsed: 0:00:29.\n",
      "  Batch   400  of  2,992.    Elapsed: 0:00:32.\n",
      "  Batch   440  of  2,992.    Elapsed: 0:00:35.\n",
      "  Batch   480  of  2,992.    Elapsed: 0:00:39.\n",
      "  Batch   520  of  2,992.    Elapsed: 0:00:42.\n",
      "  Batch   560  of  2,992.    Elapsed: 0:00:45.\n",
      "  Batch   600  of  2,992.    Elapsed: 0:00:48.\n",
      "  Batch   640  of  2,992.    Elapsed: 0:00:51.\n",
      "  Batch   680  of  2,992.    Elapsed: 0:00:55.\n",
      "  Batch   720  of  2,992.    Elapsed: 0:00:58.\n",
      "  Batch   760  of  2,992.    Elapsed: 0:01:01.\n",
      "  Batch   800  of  2,992.    Elapsed: 0:01:04.\n",
      "  Batch   840  of  2,992.    Elapsed: 0:01:07.\n",
      "  Batch   880  of  2,992.    Elapsed: 0:01:11.\n",
      "  Batch   920  of  2,992.    Elapsed: 0:01:14.\n",
      "  Batch   960  of  2,992.    Elapsed: 0:01:17.\n",
      "  Batch 1,000  of  2,992.    Elapsed: 0:01:20.\n",
      "  Batch 1,040  of  2,992.    Elapsed: 0:01:23.\n",
      "  Batch 1,080  of  2,992.    Elapsed: 0:01:27.\n",
      "  Batch 1,120  of  2,992.    Elapsed: 0:01:30.\n",
      "  Batch 1,160  of  2,992.    Elapsed: 0:01:33.\n",
      "  Batch 1,200  of  2,992.    Elapsed: 0:01:36.\n",
      "  Batch 1,240  of  2,992.    Elapsed: 0:01:39.\n",
      "  Batch 1,280  of  2,992.    Elapsed: 0:01:43.\n",
      "  Batch 1,320  of  2,992.    Elapsed: 0:01:46.\n",
      "  Batch 1,360  of  2,992.    Elapsed: 0:01:49.\n",
      "  Batch 1,400  of  2,992.    Elapsed: 0:01:52.\n",
      "  Batch 1,440  of  2,992.    Elapsed: 0:01:56.\n",
      "  Batch 1,480  of  2,992.    Elapsed: 0:01:59.\n",
      "  Batch 1,520  of  2,992.    Elapsed: 0:02:02.\n",
      "  Batch 1,560  of  2,992.    Elapsed: 0:02:05.\n",
      "  Batch 1,600  of  2,992.    Elapsed: 0:02:08.\n",
      "  Batch 1,640  of  2,992.    Elapsed: 0:02:12.\n",
      "  Batch 1,680  of  2,992.    Elapsed: 0:02:15.\n",
      "  Batch 1,720  of  2,992.    Elapsed: 0:02:18.\n",
      "  Batch 1,760  of  2,992.    Elapsed: 0:02:21.\n",
      "  Batch 1,800  of  2,992.    Elapsed: 0:02:24.\n",
      "  Batch 1,840  of  2,992.    Elapsed: 0:02:28.\n",
      "  Batch 1,880  of  2,992.    Elapsed: 0:02:31.\n",
      "  Batch 1,920  of  2,992.    Elapsed: 0:02:34.\n",
      "  Batch 1,960  of  2,992.    Elapsed: 0:02:37.\n",
      "  Batch 2,000  of  2,992.    Elapsed: 0:02:40.\n",
      "  Batch 2,040  of  2,992.    Elapsed: 0:02:44.\n",
      "  Batch 2,080  of  2,992.    Elapsed: 0:02:47.\n",
      "  Batch 2,120  of  2,992.    Elapsed: 0:02:50.\n",
      "  Batch 2,160  of  2,992.    Elapsed: 0:02:53.\n",
      "  Batch 2,200  of  2,992.    Elapsed: 0:02:56.\n",
      "  Batch 2,240  of  2,992.    Elapsed: 0:03:00.\n",
      "  Batch 2,280  of  2,992.    Elapsed: 0:03:03.\n",
      "  Batch 2,320  of  2,992.    Elapsed: 0:03:06.\n",
      "  Batch 2,360  of  2,992.    Elapsed: 0:03:09.\n",
      "  Batch 2,400  of  2,992.    Elapsed: 0:03:12.\n",
      "  Batch 2,440  of  2,992.    Elapsed: 0:03:16.\n",
      "  Batch 2,480  of  2,992.    Elapsed: 0:03:19.\n",
      "  Batch 2,520  of  2,992.    Elapsed: 0:03:22.\n",
      "  Batch 2,560  of  2,992.    Elapsed: 0:03:25.\n",
      "  Batch 2,600  of  2,992.    Elapsed: 0:03:29.\n",
      "  Batch 2,640  of  2,992.    Elapsed: 0:03:32.\n",
      "  Batch 2,680  of  2,992.    Elapsed: 0:03:35.\n",
      "  Batch 2,720  of  2,992.    Elapsed: 0:03:38.\n",
      "  Batch 2,760  of  2,992.    Elapsed: 0:03:41.\n",
      "  Batch 2,800  of  2,992.    Elapsed: 0:03:44.\n",
      "  Batch 2,840  of  2,992.    Elapsed: 0:03:48.\n",
      "  Batch 2,880  of  2,992.    Elapsed: 0:03:51.\n",
      "  Batch 2,920  of  2,992.    Elapsed: 0:03:54.\n",
      "  Batch 2,960  of  2,992.    Elapsed: 0:03:57.\n",
      "  Accuracy: 0.98447\n",
      "\n",
      "  Average training loss: 0.04\n",
      "  Training epcoh took: 0:04:00\n",
      "\n",
      "Running Validation...\n",
      "  Accuracy: 0.98062\n",
      "  Validation Loss: 0.05\n",
      "  Validation took: 0:00:23\n",
      "\n",
      "Training complete!\n",
      "Total training took 0:13:10 (h:mm:ss)\n"
     ]
    }
   ],
   "source": [
    "# We'll store a number of quantities such as training and validation loss, \n",
    "# validation accuracy, and timings.\n",
    "training_stats = []\n",
    "\n",
    "# Measure the total training time for the whole run.\n",
    "total_t0 = time.time()\n",
    "\n",
    "# For each epoch...\n",
    "for epoch_i in range(0, epochs):\n",
    "    # ========================================\n",
    "    #               Training\n",
    "    # ========================================\n",
    "    # Perform one full pass over the training set.\n",
    "    print(\"\")\n",
    "    print('======== Epoch {:} / {:} ========'.format(epoch_i + 1, epochs))\n",
    "    print('Training...')\n",
    "\n",
    "    # Measure how long the training epoch takes.\n",
    "    t0 = time.time()\n",
    "    # Reset the total loss & accuracy for this epoch.\n",
    "    total_train_loss = 0\n",
    "    total_train_accuracy = 0\n",
    "\n",
    "    # Put the model into training mode. Don't be mislead--the call to \n",
    "    # `train` just changes the *mode*, it doesn't *perform* the training.\n",
    "    # `dropout` and `batchnorm` layers behave differently during training\n",
    "    # vs. test (source: https://stackoverflow.com/questions/51433378/what-does-model-train-do-in-pytorch)\n",
    "    model.train()\n",
    "\n",
    "    # For each batch of training data...\n",
    "    for step, batch in enumerate(train_dataloader):\n",
    "        # Progress update every 40 batches.\n",
    "        if step % 40 == 0 and not step == 0:\n",
    "            # Calculate elapsed time in minutes.\n",
    "            elapsed = format_time(time.time() - t0)\n",
    "            # Report progress.\n",
    "            print('  Batch {:>5,}  of  {:>5,}.    Elapsed: {:}.'.format(step, len(train_dataloader), elapsed))\n",
    "\n",
    "        # Unpack this training batch from our dataloader. \n",
    "        # As we unpack the batch, we'll also copy each tensor to the GPU using the `to` method.\n",
    "        # `batch` contains three pytorch tensors:\n",
    "        #   [0]: input ids \n",
    "        #   [1]: attention masks\n",
    "        #   [2]: labels \n",
    "        b_input_ids = batch[0].to(device)\n",
    "        b_input_mask = batch[1].to(device)\n",
    "        b_labels = batch[2].to(device)\n",
    "\n",
    "        # Always clear any previously calculated gradients before performing a backward pass. \n",
    "        # PyTorch doesn't do this automatically because accumulating the gradients is \"convenient while training RNNs\". \n",
    "        # (source: https://stackoverflow.com/questions/48001598/why-do-we-need-to-call-zero-grad-in-pytorch)\n",
    "        model.zero_grad()        \n",
    "\n",
    "        # Perform a forward pass (evaluate the model on this training batch).\n",
    "        # The documentation for this `model` function is here: \n",
    "        # https://huggingface.co/transformers/v2.2.0/model_doc/bert.html#transformers.BertForSequenceClassification\n",
    "        # It returns different numbers of parameters depending on what arguments are given and what flags are set. \n",
    "        # For our useage here, it returns the loss (because we provided labels) and the \"logits\"--the model outputs prior to activation.\n",
    "        output = model(b_input_ids, \n",
    "                       # token_type_ids=None, \n",
    "                       attention_mask=b_input_mask, \n",
    "                       #labels=b_labels\n",
    "                       )\n",
    "        logits = output.logits\n",
    "        loss = criterion(logits, b_labels.float())\n",
    "\n",
    "        # Accumulate the training loss over all of the batches so that we can calculate the average loss at the end. \n",
    "        # `loss` is a Tensor containing a single value; the `.item()` function just returns the Python value from the tensor.\n",
    "        total_train_loss += loss.item()\n",
    "        \n",
    "        # Calculate the accuracy for this batch of test sentences, and accumulate it over all batches.\n",
    "        total_train_accuracy += accuracy_thresh(logits,b_labels.float())\n",
    "\n",
    "        # Perform a backward pass to calculate the gradients.\n",
    "        loss.backward()\n",
    "\n",
    "        # Clip the norm of the gradients to 1.0.\n",
    "        # This is to help prevent the \"exploding gradients\" problem.\n",
    "        torch.nn.utils.clip_grad_norm_(model.parameters(), 1.0)\n",
    "\n",
    "        # Update parameters and take a step using the computed gradient.\n",
    "        # The optimizer dictates the \"update rule\"--how the parameters are modified based on their gradients, the learning rate, etc.\n",
    "        optimizer.step()\n",
    "\n",
    "        # Update the learning rate.\n",
    "        scheduler.step()\n",
    "\n",
    "    # Report the final accuracy for this validation run.\n",
    "    # avg_train_accuracy = total_train_accuracy / len(train_dataloader)\n",
    "    # print(\"  Accuracy: {0:.5f}\".format(avg_train_accuracy))\n",
    "    train_accuracy = total_train_accuracy / len(train_df)\n",
    "    print(\"  Accuracy: {0:.5f}\".format(train_accuracy))\n",
    "    \n",
    "    # Calculate the average loss over all of the batches.\n",
    "    avg_train_loss = total_train_loss / len(train_dataloader)            \n",
    "    \n",
    "    # Measure how long this epoch took.\n",
    "    training_time = format_time(time.time() - t0)\n",
    "\n",
    "    print(\"\")\n",
    "    print(\"  Average training loss: {0:.2f}\".format(avg_train_loss))\n",
    "    print(\"  Training epcoh took: {:}\".format(training_time))\n",
    "        \n",
    "    # ========================================\n",
    "    #               Validation\n",
    "    # ========================================\n",
    "    # After the completion of each training epoch, measure our performance on our validation set.\n",
    "\n",
    "    print(\"\")\n",
    "    print(\"Running Validation...\")\n",
    "\n",
    "    t0 = time.time()\n",
    "\n",
    "    # Put the model in evaluation mode--the dropout layers behave differently during evaluation.\n",
    "    model.eval()\n",
    "\n",
    "    # Tracking variables \n",
    "    total_eval_accuracy = 0\n",
    "    total_eval_loss = 0\n",
    "    nb_eval_steps = 0\n",
    "\n",
    "    # Evaluate data for one epoch\n",
    "    for batch in val_dataloader:\n",
    "        \n",
    "        # Unpack this training batch from our dataloader. \n",
    "        # As we unpack the batch, we'll also copy each tensor to the GPU using the `to` method.\n",
    "        # `batch` contains three pytorch tensors:\n",
    "        #   [0]: input ids \n",
    "        #   [1]: attention masks\n",
    "        #   [2]: labels \n",
    "        b_input_ids = batch[0].to(device)\n",
    "        b_input_mask = batch[1].to(device)\n",
    "        b_labels = batch[2].to(device)\n",
    "        \n",
    "        # Tell pytorch not to bother with constructing the compute graph during the forward pass, since this is only needed for backprop (training).\n",
    "        with torch.no_grad():        \n",
    "\n",
    "            # Forward pass, calculate logit predictions.\n",
    "            # token_type_ids is the same as the \"segment ids\", which differentiates sentence 1 and 2 in 2-sentence tasks.\n",
    "            # The documentation for this `model` function is here: \n",
    "            # https://huggingface.co/transformers/v2.2.0/model_doc/bert.html#transformers.BertForSequenceClassification\n",
    "            # Get the \"logits\" output by the model. The \"logits\" are the output values prior to applying an activation function like the softmax.\n",
    "            output = model(b_input_ids, \n",
    "                           # token_type_ids=None, \n",
    "                           attention_mask=b_input_mask, \n",
    "                           # labels=b_labels\n",
    "                           )\n",
    "            \n",
    "            logits = output.logits\n",
    "            loss = criterion(logits, b_labels.float())\n",
    "            \n",
    "        # Accumulate the validation loss.\n",
    "        total_eval_loss += loss.item()\n",
    "        \n",
    "        # Calculate the accuracy for this batch of test sentences, and accumulate it over all batches.\n",
    "        total_eval_accuracy += accuracy_thresh(logits,b_labels.float())\n",
    "\n",
    "        # Move logits and labels to CPU\n",
    "        logits = logits.detach().cpu().numpy() # maybe irrelevant over here\n",
    "        label_ids = b_labels.to('cpu').numpy() # maybe irrelevant over here\n",
    "\n",
    "    # Report the final accuracy for this validation run.\n",
    "    # avg_val_accuracy = total_eval_accuracy / len(val_dataloader)\n",
    "    # print(\"  Accuracy: {0:.5f}\".format(avg_val_accuracy))\n",
    "    val_accuracy = total_eval_accuracy / len(val_df)\n",
    "    print(\"  Accuracy: {0:.5f}\".format(val_accuracy))\n",
    "\n",
    "    # Calculate the average loss over all of the batches.\n",
    "    avg_val_loss = total_eval_loss / len(val_dataloader)\n",
    "    \n",
    "    # Measure how long the validation run took.\n",
    "    validation_time = format_time(time.time() - t0)\n",
    "    \n",
    "    print(\"  Validation Loss: {0:.2f}\".format(avg_val_loss))\n",
    "    print(\"  Validation took: {:}\".format(validation_time))\n",
    "\n",
    "    # Record all statistics from this epoch.\n",
    "    training_stats.append(\n",
    "        {\n",
    "            'epoch': epoch_i + 1,\n",
    "            'Training Loss': avg_train_loss,\n",
    "            'Valid. Loss': avg_val_loss,\n",
    "            # 'Training Accur': avg_train_accuracy,\n",
    "            # 'Valid. Accur.': avg_val_accuracy,\n",
    "            'Training Accur': train_accuracy,\n",
    "            'Valid. Accur.': val_accuracy,\n",
    "            'Training Time': training_time,\n",
    "            'Validation Time': validation_time\n",
    "        }\n",
    "    )\n",
    "\n",
    "print(\"\")\n",
    "print(\"Training complete!\")\n",
    "\n",
    "print(\"Total training took {:} (h:mm:ss)\".format(format_time(time.time()-total_t0)))"
   ]
  },
  {
   "cell_type": "code",
   "execution_count": 31,
   "id": "6d223973",
   "metadata": {
    "execution": {
     "iopub.execute_input": "2021-09-04T04:09:13.940083Z",
     "iopub.status.busy": "2021-09-04T04:09:13.939167Z",
     "iopub.status.idle": "2021-09-04T04:09:13.943030Z",
     "shell.execute_reply": "2021-09-04T04:09:13.942610Z",
     "shell.execute_reply.started": "2021-09-04T01:09:32.782444Z"
    },
    "papermill": {
     "duration": 0.124022,
     "end_time": "2021-09-04T04:09:13.943153",
     "exception": false,
     "start_time": "2021-09-04T04:09:13.819131",
     "status": "completed"
    },
    "tags": []
   },
   "outputs": [
    {
     "data": {
      "text/html": [
       "<div>\n",
       "<style scoped>\n",
       "    .dataframe tbody tr th:only-of-type {\n",
       "        vertical-align: middle;\n",
       "    }\n",
       "\n",
       "    .dataframe tbody tr th {\n",
       "        vertical-align: top;\n",
       "    }\n",
       "\n",
       "    .dataframe thead th {\n",
       "        text-align: right;\n",
       "    }\n",
       "</style>\n",
       "<table border=\"1\" class=\"dataframe\">\n",
       "  <thead>\n",
       "    <tr style=\"text-align: right;\">\n",
       "      <th></th>\n",
       "      <th>Training Loss</th>\n",
       "      <th>Valid. Loss</th>\n",
       "      <th>Training Accur</th>\n",
       "      <th>Valid. Accur.</th>\n",
       "      <th>Training Time</th>\n",
       "      <th>Validation Time</th>\n",
       "    </tr>\n",
       "    <tr>\n",
       "      <th>epoch</th>\n",
       "      <th></th>\n",
       "      <th></th>\n",
       "      <th></th>\n",
       "      <th></th>\n",
       "      <th></th>\n",
       "      <th></th>\n",
       "    </tr>\n",
       "  </thead>\n",
       "  <tbody>\n",
       "    <tr>\n",
       "      <th>1</th>\n",
       "      <td>0.07856</td>\n",
       "      <td>0.04635</td>\n",
       "      <td>0.96792</td>\n",
       "      <td>0.98217</td>\n",
       "      <td>0:04:01</td>\n",
       "      <td>0:00:23</td>\n",
       "    </tr>\n",
       "    <tr>\n",
       "      <th>2</th>\n",
       "      <td>0.04407</td>\n",
       "      <td>0.04692</td>\n",
       "      <td>0.98319</td>\n",
       "      <td>0.98038</td>\n",
       "      <td>0:04:00</td>\n",
       "      <td>0:00:23</td>\n",
       "    </tr>\n",
       "    <tr>\n",
       "      <th>3</th>\n",
       "      <td>0.04002</td>\n",
       "      <td>0.04611</td>\n",
       "      <td>0.98447</td>\n",
       "      <td>0.98062</td>\n",
       "      <td>0:04:00</td>\n",
       "      <td>0:00:23</td>\n",
       "    </tr>\n",
       "  </tbody>\n",
       "</table>\n",
       "</div>"
      ],
      "text/plain": [
       "       Training Loss  Valid. Loss  Training Accur  Valid. Accur.  \\\n",
       "epoch                                                              \n",
       "1            0.07856      0.04635         0.96792        0.98217   \n",
       "2            0.04407      0.04692         0.98319        0.98038   \n",
       "3            0.04002      0.04611         0.98447        0.98062   \n",
       "\n",
       "      Training Time Validation Time  \n",
       "epoch                                \n",
       "1           0:04:01         0:00:23  \n",
       "2           0:04:00         0:00:23  \n",
       "3           0:04:00         0:00:23  "
      ]
     },
     "execution_count": 31,
     "metadata": {},
     "output_type": "execute_result"
    }
   ],
   "source": [
    "# Display floats with two decimal places.\n",
    "pd.set_option('precision', 5)\n",
    "# Create a DataFrame from our training statistics.\n",
    "df_stats = pd.DataFrame(data=training_stats)\n",
    "# Use the 'epoch' as the row index.\n",
    "df_stats = df_stats.set_index('epoch')\n",
    "# A hack to force the column headers to wrap.\n",
    "#df = df.style.set_table_styles([dict(selector=\"th\",props=[('max-width', '70px')])])\n",
    "# Display the table.\n",
    "df_stats"
   ]
  },
  {
   "cell_type": "code",
   "execution_count": 32,
   "id": "3fe41326",
   "metadata": {
    "execution": {
     "iopub.execute_input": "2021-09-04T04:09:14.177349Z",
     "iopub.status.busy": "2021-09-04T04:09:14.176704Z",
     "iopub.status.idle": "2021-09-04T04:09:14.316185Z",
     "shell.execute_reply": "2021-09-04T04:09:14.316568Z",
     "shell.execute_reply.started": "2021-09-04T01:09:32.805451Z"
    },
    "papermill": {
     "duration": 0.265265,
     "end_time": "2021-09-04T04:09:14.316708",
     "exception": false,
     "start_time": "2021-09-04T04:09:14.051443",
     "status": "completed"
    },
    "tags": []
   },
   "outputs": [
    {
     "data": {
      "image/png": "[encoded data removed]",
      "text/plain": [
       "<Figure size 432x288 with 1 Axes>"
      ]
     },
     "metadata": {
      "needs_background": "light"
     },
     "output_type": "display_data"
    }
   ],
   "source": [
    "# Plot the learning curve.\n",
    "plt.plot(df_stats['Training Loss'], 'b-o', label=\"Training\")\n",
    "plt.plot(df_stats['Valid. Loss'], 'g-o', label=\"Validation\")\n",
    "\n",
    "# Label the plot.\n",
    "plt.title(\"Training & Validation Loss\")\n",
    "plt.xlabel(\"Epoch\")\n",
    "plt.ylabel(\"Loss\")\n",
    "plt.legend()\n",
    "plt.xticks([1, 2, 3, 4])\n",
    "\n",
    "plt.show()"
   ]
  },
  {
   "cell_type": "code",
   "execution_count": 33,
   "id": "4c88e896",
   "metadata": {
    "execution": {
     "iopub.execute_input": "2021-09-04T04:09:14.552566Z",
     "iopub.status.busy": "2021-09-04T04:09:14.551729Z",
     "iopub.status.idle": "2021-09-04T04:09:14.667667Z",
     "shell.execute_reply": "2021-09-04T04:09:14.668091Z",
     "shell.execute_reply.started": "2021-09-04T01:09:32.970443Z"
    },
    "papermill": {
     "duration": 0.244522,
     "end_time": "2021-09-04T04:09:14.668234",
     "exception": false,
     "start_time": "2021-09-04T04:09:14.423712",
     "status": "completed"
    },
    "tags": []
   },
   "outputs": [
    {
     "data": {
      "image/png": "[encoded data removed]",
      "text/plain": [
       "<Figure size 432x288 with 1 Axes>"
      ]
     },
     "metadata": {
      "needs_background": "light"
     },
     "output_type": "display_data"
    }
   ],
   "source": [
    "# Plot the accuracy curve.\n",
    "plt.plot(df_stats['Training Accur'], 'b-o', label=\"Training\")\n",
    "plt.plot(df_stats['Valid. Accur.'], 'g-o', label=\"Validation\")\n",
    "\n",
    "# Label the plot.\n",
    "plt.title(\"Training & Validation Accuracy\")\n",
    "plt.xlabel(\"Epoch\")\n",
    "plt.ylabel(\"Loss\")\n",
    "plt.legend()\n",
    "plt.xticks([1, 2, 3, 4])\n",
    "\n",
    "plt.show()"
   ]
  },
  {
   "cell_type": "markdown",
   "id": "5020db76",
   "metadata": {
    "papermill": {
     "duration": 0.113445,
     "end_time": "2021-09-04T04:09:14.902621",
     "exception": false,
     "start_time": "2021-09-04T04:09:14.789176",
     "status": "completed"
    },
    "tags": []
   },
   "source": [
    "## Get Test Metrics Result"
   ]
  },
  {
   "cell_type": "code",
   "execution_count": 34,
   "id": "6902edef",
   "metadata": {
    "execution": {
     "iopub.execute_input": "2021-09-04T04:09:15.128207Z",
     "iopub.status.busy": "2021-09-04T04:09:15.127459Z",
     "iopub.status.idle": "2021-09-04T04:09:15.780032Z",
     "shell.execute_reply": "2021-09-04T04:09:15.779547Z",
     "shell.execute_reply.started": "2021-09-04T01:09:33.112906Z"
    },
    "papermill": {
     "duration": 0.766919,
     "end_time": "2021-09-04T04:09:15.780166",
     "exception": false,
     "start_time": "2021-09-04T04:09:15.013247",
     "status": "completed"
    },
    "tags": []
   },
   "outputs": [],
   "source": [
    "# get predictions for test data\n",
    "thresh = 0.4\n",
    "with torch.no_grad():\n",
    "    outputs = model(test_seq[0:1000].to(device), test_mask[0:1000].to(device))\n",
    "    pred_probs = torch.sigmoid(outputs.logits)\n",
    "    pred_probs = pred_probs.cpu().detach().numpy()"
   ]
  },
  {
   "cell_type": "code",
   "execution_count": 35,
   "id": "b0efc502",
   "metadata": {
    "execution": {
     "iopub.execute_input": "2021-09-04T04:09:16.003951Z",
     "iopub.status.busy": "2021-09-04T04:09:16.003242Z",
     "iopub.status.idle": "2021-09-04T04:09:16.006315Z",
     "shell.execute_reply": "2021-09-04T04:09:16.006746Z",
     "shell.execute_reply.started": "2021-09-04T01:09:33.769484Z"
    },
    "papermill": {
     "duration": 0.117487,
     "end_time": "2021-09-04T04:09:16.006879",
     "exception": false,
     "start_time": "2021-09-04T04:09:15.889392",
     "status": "completed"
    },
    "tags": []
   },
   "outputs": [
    {
     "data": {
      "text/plain": [
       "array([[1.7445280e-01, 9.5911213e-04, 1.2171942e-02, 1.6018235e-03,\n",
       "        1.8413594e-02, 3.5295463e-03],\n",
       "       [1.7660442e-03, 1.8787247e-04, 3.1217057e-04, 6.2279415e-04,\n",
       "        6.4046832e-04, 7.3499896e-04],\n",
       "       [1.8303354e-03, 1.8237444e-04, 3.1498194e-04, 5.9733534e-04,\n",
       "        6.4260495e-04, 7.1443670e-04],\n",
       "       ...,\n",
       "       [1.9867870e-03, 1.7777954e-04, 3.2622361e-04, 5.7310786e-04,\n",
       "        6.6101929e-04, 6.9951877e-04],\n",
       "       [9.9254084e-01, 4.2102879e-01, 9.6726090e-01, 1.0547969e-01,\n",
       "        9.2289996e-01, 2.7859619e-01],\n",
       "       [7.2562742e-01, 5.2786334e-03, 1.3950260e-01, 4.4011138e-03,\n",
       "        1.4176208e-01, 1.2213573e-02]], dtype=float32)"
      ]
     },
     "execution_count": 35,
     "metadata": {},
     "output_type": "execute_result"
    }
   ],
   "source": [
    "pred_probs"
   ]
  },
  {
   "cell_type": "code",
   "execution_count": 36,
   "id": "d4532b35",
   "metadata": {
    "execution": {
     "iopub.execute_input": "2021-09-04T04:09:16.231341Z",
     "iopub.status.busy": "2021-09-04T04:09:16.230517Z",
     "iopub.status.idle": "2021-09-04T04:09:16.232646Z",
     "shell.execute_reply": "2021-09-04T04:09:16.233103Z",
     "shell.execute_reply.started": "2021-09-04T01:09:33.780958Z"
    },
    "papermill": {
     "duration": 0.114656,
     "end_time": "2021-09-04T04:09:16.233229",
     "exception": false,
     "start_time": "2021-09-04T04:09:16.118573",
     "status": "completed"
    },
    "tags": []
   },
   "outputs": [],
   "source": [
    "y_pred = (pred_probs > thresh).astype(int)"
   ]
  },
  {
   "cell_type": "code",
   "execution_count": 37,
   "id": "134e587f",
   "metadata": {
    "execution": {
     "iopub.execute_input": "2021-09-04T04:09:16.455437Z",
     "iopub.status.busy": "2021-09-04T04:09:16.454674Z",
     "iopub.status.idle": "2021-09-04T04:09:16.458142Z",
     "shell.execute_reply": "2021-09-04T04:09:16.457694Z",
     "shell.execute_reply.started": "2021-09-04T01:09:33.788322Z"
    },
    "papermill": {
     "duration": 0.115909,
     "end_time": "2021-09-04T04:09:16.458248",
     "exception": false,
     "start_time": "2021-09-04T04:09:16.342339",
     "status": "completed"
    },
    "tags": []
   },
   "outputs": [
    {
     "data": {
      "text/plain": [
       "array([[0, 0, 0, 0, 0, 0],\n",
       "       [0, 0, 0, 0, 0, 0],\n",
       "       [0, 0, 0, 0, 0, 0],\n",
       "       ...,\n",
       "       [0, 0, 0, 0, 0, 0],\n",
       "       [1, 1, 1, 0, 1, 0],\n",
       "       [1, 0, 0, 0, 0, 0]])"
      ]
     },
     "execution_count": 37,
     "metadata": {},
     "output_type": "execute_result"
    }
   ],
   "source": [
    "y_pred"
   ]
  },
  {
   "cell_type": "code",
   "execution_count": 38,
   "id": "73b57d05",
   "metadata": {
    "execution": {
     "iopub.execute_input": "2021-09-04T04:09:16.680546Z",
     "iopub.status.busy": "2021-09-04T04:09:16.679713Z",
     "iopub.status.idle": "2021-09-04T04:09:16.683355Z",
     "shell.execute_reply": "2021-09-04T04:09:16.682933Z",
     "shell.execute_reply.started": "2021-09-04T01:09:33.799106Z"
    },
    "papermill": {
     "duration": 0.116989,
     "end_time": "2021-09-04T04:09:16.683463",
     "exception": false,
     "start_time": "2021-09-04T04:09:16.566474",
     "status": "completed"
    },
    "tags": []
   },
   "outputs": [],
   "source": [
    "y_true = np.array(test_df[categories])[0:1000]"
   ]
  },
  {
   "cell_type": "code",
   "execution_count": 39,
   "id": "6acf371f",
   "metadata": {
    "execution": {
     "iopub.execute_input": "2021-09-04T04:09:16.907511Z",
     "iopub.status.busy": "2021-09-04T04:09:16.906698Z",
     "iopub.status.idle": "2021-09-04T04:09:16.909224Z",
     "shell.execute_reply": "2021-09-04T04:09:16.908667Z",
     "shell.execute_reply.started": "2021-09-04T01:09:33.809432Z"
    },
    "papermill": {
     "duration": 0.117398,
     "end_time": "2021-09-04T04:09:16.909331",
     "exception": false,
     "start_time": "2021-09-04T04:09:16.791933",
     "status": "completed"
    },
    "tags": []
   },
   "outputs": [],
   "source": [
    "def hamming_score(y_true, y_pred, normalize=True, sample_weight=None):\n",
    "    '''\n",
    "    Compute the Hamming score (a.k.a. label-based accuracy) for the multi-label case\n",
    "    http://stackoverflow.com/q/32239577/395857\n",
    "    \n",
    "    Take in np.array for y_true and y_pred. E.g.\n",
    "    y_true = np.array([[0,1,0],\n",
    "                       [0,1,1],\n",
    "                       [1,0,1],\n",
    "                       [0,0,1]])\n",
    "\n",
    "    y_pred = np.array([[0,1,1],\n",
    "                       [0,1,1],\n",
    "                       [0,1,0],\n",
    "                       [0,0,0]])\n",
    "    '''\n",
    "    acc_list = []\n",
    "    for i in range(y_true.shape[0]):\n",
    "        set_true = set( np.where(y_true[i])[0] )\n",
    "        set_pred = set( np.where(y_pred[i])[0] )\n",
    "        #print('\\nset_true: {0}'.format(set_true))\n",
    "        #print('set_pred: {0}'.format(set_pred))\n",
    "        tmp_a = None\n",
    "        if len(set_true) == 0 and len(set_pred) == 0:\n",
    "            tmp_a = 1\n",
    "        else:\n",
    "            tmp_a = len(set_true.intersection(set_pred))/\\\n",
    "                    float( len(set_true.union(set_pred)) )\n",
    "        #print('tmp_a: {0}'.format(tmp_a))\n",
    "        acc_list.append(tmp_a)\n",
    "    return np.mean(acc_list)"
   ]
  },
  {
   "cell_type": "code",
   "execution_count": 40,
   "id": "5ee9c6c9",
   "metadata": {
    "execution": {
     "iopub.execute_input": "2021-09-04T04:09:17.131286Z",
     "iopub.status.busy": "2021-09-04T04:09:17.130751Z",
     "iopub.status.idle": "2021-09-04T04:09:17.149996Z",
     "shell.execute_reply": "2021-09-04T04:09:17.150986Z",
     "shell.execute_reply.started": "2021-09-04T01:09:33.819884Z"
    },
    "papermill": {
     "duration": 0.133813,
     "end_time": "2021-09-04T04:09:17.151178",
     "exception": false,
     "start_time": "2021-09-04T04:09:17.017365",
     "status": "completed"
    },
    "tags": []
   },
   "outputs": [
    {
     "name": "stdout",
     "output_type": "stream",
     "text": [
      "accuracy_score: 0.925\n",
      "Hamming_score: 0.9483333333333333\n",
      "Hamming_loss: 0.016166666666666666\n"
     ]
    }
   ],
   "source": [
    "print(\"accuracy_score:\", accuracy_score(y_true, y_pred))\n",
    "print(\"Hamming_score:\", hamming_score(y_true, y_pred))\n",
    "print(\"Hamming_loss:\", hamming_loss(y_true, y_pred))"
   ]
  },
  {
   "cell_type": "markdown",
   "id": "8a216ba2",
   "metadata": {
    "papermill": {
     "duration": 0.108314,
     "end_time": "2021-09-04T04:09:17.368259",
     "exception": false,
     "start_time": "2021-09-04T04:09:17.259945",
     "status": "completed"
    },
    "tags": []
   },
   "source": [
    "# 2. Saving the Model"
   ]
  },
  {
   "cell_type": "code",
   "execution_count": 41,
   "id": "ea91af4e",
   "metadata": {
    "execution": {
     "iopub.execute_input": "2021-09-04T04:09:17.588629Z",
     "iopub.status.busy": "2021-09-04T04:09:17.587861Z",
     "iopub.status.idle": "2021-09-04T04:09:17.834802Z",
     "shell.execute_reply": "2021-09-04T04:09:17.835492Z",
     "shell.execute_reply.started": "2021-09-04T01:09:33.850040Z"
    },
    "papermill": {
     "duration": 0.359256,
     "end_time": "2021-09-04T04:09:17.835697",
     "exception": false,
     "start_time": "2021-09-04T04:09:17.476441",
     "status": "completed"
    },
    "tags": []
   },
   "outputs": [],
   "source": [
    "PATH = \"./toxic_tinyBERT_multilabel\"\n",
    "torch.save(model.state_dict(), PATH)"
   ]
  },
  {
   "cell_type": "markdown",
   "id": "367d9ba8",
   "metadata": {
    "papermill": {
     "duration": 0.169734,
     "end_time": "2021-09-04T04:09:18.187185",
     "exception": false,
     "start_time": "2021-09-04T04:09:18.017451",
     "status": "completed"
    },
    "tags": []
   },
   "source": [
    "# 3. Submission"
   ]
  },
  {
   "cell_type": "code",
   "execution_count": 42,
   "id": "89de0d4b",
   "metadata": {
    "execution": {
     "iopub.execute_input": "2021-09-04T04:09:18.552003Z",
     "iopub.status.busy": "2021-09-04T04:09:18.551156Z",
     "iopub.status.idle": "2021-09-04T04:09:18.554554Z",
     "shell.execute_reply": "2021-09-04T04:09:18.552704Z",
     "shell.execute_reply.started": "2021-09-04T01:09:34.045319Z"
    },
    "papermill": {
     "duration": 0.189575,
     "end_time": "2021-09-04T04:09:18.554702",
     "exception": false,
     "start_time": "2021-09-04T04:09:18.365127",
     "status": "completed"
    },
    "tags": []
   },
   "outputs": [
    {
     "data": {
      "text/plain": [
       "153164"
      ]
     },
     "execution_count": 42,
     "metadata": {},
     "output_type": "execute_result"
    }
   ],
   "source": [
    "len(test_csv)"
   ]
  },
  {
   "cell_type": "code",
   "execution_count": 43,
   "id": "f926e195",
   "metadata": {
    "execution": {
     "iopub.execute_input": "2021-09-04T04:09:18.961483Z",
     "iopub.status.busy": "2021-09-04T04:09:18.960660Z",
     "iopub.status.idle": "2021-09-04T04:09:18.969893Z",
     "shell.execute_reply": "2021-09-04T04:09:18.970597Z",
     "shell.execute_reply.started": "2021-09-04T01:09:34.053584Z"
    },
    "papermill": {
     "duration": 0.235649,
     "end_time": "2021-09-04T04:09:18.970786",
     "exception": false,
     "start_time": "2021-09-04T04:09:18.735137",
     "status": "completed"
    },
    "tags": []
   },
   "outputs": [
    {
     "data": {
      "text/html": [
       "<div>\n",
       "<style scoped>\n",
       "    .dataframe tbody tr th:only-of-type {\n",
       "        vertical-align: middle;\n",
       "    }\n",
       "\n",
       "    .dataframe tbody tr th {\n",
       "        vertical-align: top;\n",
       "    }\n",
       "\n",
       "    .dataframe thead th {\n",
       "        text-align: right;\n",
       "    }\n",
       "</style>\n",
       "<table border=\"1\" class=\"dataframe\">\n",
       "  <thead>\n",
       "    <tr style=\"text-align: right;\">\n",
       "      <th></th>\n",
       "      <th>id</th>\n",
       "      <th>comment_text</th>\n",
       "    </tr>\n",
       "  </thead>\n",
       "  <tbody>\n",
       "    <tr>\n",
       "      <th>0</th>\n",
       "      <td>00001cee341fdb12</td>\n",
       "      <td>Yo bitch Ja Rule is more succesful then you'll...</td>\n",
       "    </tr>\n",
       "    <tr>\n",
       "      <th>1</th>\n",
       "      <td>0000247867823ef7</td>\n",
       "      <td>== From RfC == \\n\\n The title is fine as it is...</td>\n",
       "    </tr>\n",
       "    <tr>\n",
       "      <th>2</th>\n",
       "      <td>00013b17ad220c46</td>\n",
       "      <td>\" \\n\\n == Sources == \\n\\n * Zawe Ashton on Lap...</td>\n",
       "    </tr>\n",
       "    <tr>\n",
       "      <th>3</th>\n",
       "      <td>00017563c3f7919a</td>\n",
       "      <td>:If you have a look back at the source, the in...</td>\n",
       "    </tr>\n",
       "    <tr>\n",
       "      <th>4</th>\n",
       "      <td>00017695ad8997eb</td>\n",
       "      <td>I don't anonymously edit articles at all.</td>\n",
       "    </tr>\n",
       "  </tbody>\n",
       "</table>\n",
       "</div>"
      ],
      "text/plain": [
       "                 id                                       comment_text\n",
       "0  00001cee341fdb12  Yo bitch Ja Rule is more succesful then you'll...\n",
       "1  0000247867823ef7  == From RfC == \\n\\n The title is fine as it is...\n",
       "2  00013b17ad220c46  \" \\n\\n == Sources == \\n\\n * Zawe Ashton on Lap...\n",
       "3  00017563c3f7919a  :If you have a look back at the source, the in...\n",
       "4  00017695ad8997eb          I don't anonymously edit articles at all."
      ]
     },
     "execution_count": 43,
     "metadata": {},
     "output_type": "execute_result"
    }
   ],
   "source": [
    "test_csv.head()"
   ]
  },
  {
   "cell_type": "code",
   "execution_count": 44,
   "id": "0da47e1f",
   "metadata": {
    "execution": {
     "iopub.execute_input": "2021-09-04T04:09:19.419245Z",
     "iopub.status.busy": "2021-09-04T04:09:19.418388Z",
     "iopub.status.idle": "2021-09-04T04:10:00.877603Z",
     "shell.execute_reply": "2021-09-04T04:10:00.877051Z",
     "shell.execute_reply.started": "2021-09-04T01:09:34.067743Z"
    },
    "papermill": {
     "duration": 41.725871,
     "end_time": "2021-09-04T04:10:00.877739",
     "exception": false,
     "start_time": "2021-09-04T04:09:19.151868",
     "status": "completed"
    },
    "tags": []
   },
   "outputs": [
    {
     "name": "stderr",
     "output_type": "stream",
     "text": [
      "/opt/conda/lib/python3.7/site-packages/transformers/tokenization_utils_base.py:2110: FutureWarning: The `pad_to_max_length` argument is deprecated and will be removed in a future version, use `padding=True` or `padding='longest'` to pad to the longest sequence in the batch, or use `padding='max_length'` to pad to a max length. In this case, you can give a specific length with `max_length` (e.g. `max_length=45`) or leave max_length to None to pad to the maximal input size of the model (e.g. 512 for Bert).\n",
      "  FutureWarning,\n"
     ]
    }
   ],
   "source": [
    "# tokenize and encode sequences in the actual test set\n",
    "sub_tokens = tokenizer.batch_encode_plus(test_csv[\"comment_text\"].tolist(),\n",
    "                                         max_length = 200,\n",
    "                                         pad_to_max_length=True,\n",
    "                                         truncation=True,\n",
    "                                         return_token_type_ids=False\n",
    "                                         )"
   ]
  },
  {
   "cell_type": "code",
   "execution_count": 45,
   "id": "1d257835",
   "metadata": {
    "execution": {
     "iopub.execute_input": "2021-09-04T04:10:07.689004Z",
     "iopub.status.busy": "2021-09-04T04:10:07.688216Z",
     "iopub.status.idle": "2021-09-04T04:10:07.691475Z",
     "shell.execute_reply": "2021-09-04T04:10:07.690989Z",
     "shell.execute_reply.started": "2021-09-04T01:10:15.663463Z"
    },
    "papermill": {
     "duration": 6.703668,
     "end_time": "2021-09-04T04:10:07.691607",
     "exception": false,
     "start_time": "2021-09-04T04:10:00.987939",
     "status": "completed"
    },
    "tags": []
   },
   "outputs": [],
   "source": [
    "sub_seq = torch.tensor(sub_tokens['input_ids'])\n",
    "sub_mask = torch.tensor(sub_tokens['attention_mask'])"
   ]
  },
  {
   "cell_type": "code",
   "execution_count": 46,
   "id": "d8e209c6",
   "metadata": {
    "execution": {
     "iopub.execute_input": "2021-09-04T04:10:07.915144Z",
     "iopub.status.busy": "2021-09-04T04:10:07.914533Z",
     "iopub.status.idle": "2021-09-04T04:10:07.918599Z",
     "shell.execute_reply": "2021-09-04T04:10:07.918196Z",
     "shell.execute_reply.started": "2021-09-04T01:10:22.322362Z"
    },
    "papermill": {
     "duration": 0.117862,
     "end_time": "2021-09-04T04:10:07.918708",
     "exception": false,
     "start_time": "2021-09-04T04:10:07.800846",
     "status": "completed"
    },
    "tags": []
   },
   "outputs": [],
   "source": [
    "sub_data = TensorDataset(sub_seq, sub_mask)"
   ]
  },
  {
   "cell_type": "code",
   "execution_count": 47,
   "id": "38e91fa8",
   "metadata": {
    "execution": {
     "iopub.execute_input": "2021-09-04T04:10:08.141134Z",
     "iopub.status.busy": "2021-09-04T04:10:08.140614Z",
     "iopub.status.idle": "2021-09-04T04:10:08.144292Z",
     "shell.execute_reply": "2021-09-04T04:10:08.143804Z",
     "shell.execute_reply.started": "2021-09-04T01:10:22.332761Z"
    },
    "papermill": {
     "duration": 0.116827,
     "end_time": "2021-09-04T04:10:08.144401",
     "exception": false,
     "start_time": "2021-09-04T04:10:08.027574",
     "status": "completed"
    },
    "tags": []
   },
   "outputs": [],
   "source": [
    "# dataLoader for validation set\n",
    "sub_dataloader = DataLoader(sub_data, \n",
    "                            batch_size=batch_size)"
   ]
  },
  {
   "cell_type": "code",
   "execution_count": 48,
   "id": "0a6efcd0",
   "metadata": {
    "execution": {
     "iopub.execute_input": "2021-09-04T04:10:08.368751Z",
     "iopub.status.busy": "2021-09-04T04:10:08.368237Z",
     "iopub.status.idle": "2021-09-04T04:11:59.847291Z",
     "shell.execute_reply": "2021-09-04T04:11:59.846331Z",
     "shell.execute_reply.started": "2021-09-04T01:10:22.343545Z"
    },
    "papermill": {
     "duration": 111.594117,
     "end_time": "2021-09-04T04:11:59.847456",
     "exception": false,
     "start_time": "2021-09-04T04:10:08.253339",
     "status": "completed"
    },
    "tags": []
   },
   "outputs": [
    {
     "name": "stdout",
     "output_type": "stream",
     "text": [
      "  Batch    40  of  4,787.    Elapsed: 0:00:01.\n",
      "  Batch    80  of  4,787.    Elapsed: 0:00:02.\n",
      "  Batch   120  of  4,787.    Elapsed: 0:00:03.\n",
      "  Batch   160  of  4,787.    Elapsed: 0:00:04.\n",
      "  Batch   200  of  4,787.    Elapsed: 0:00:05.\n",
      "  Batch   240  of  4,787.    Elapsed: 0:00:06.\n",
      "  Batch   280  of  4,787.    Elapsed: 0:00:07.\n",
      "  Batch   320  of  4,787.    Elapsed: 0:00:07.\n",
      "  Batch   360  of  4,787.    Elapsed: 0:00:08.\n",
      "  Batch   400  of  4,787.    Elapsed: 0:00:09.\n",
      "  Batch   440  of  4,787.    Elapsed: 0:00:10.\n",
      "  Batch   480  of  4,787.    Elapsed: 0:00:11.\n",
      "  Batch   520  of  4,787.    Elapsed: 0:00:12.\n",
      "  Batch   560  of  4,787.    Elapsed: 0:00:13.\n",
      "  Batch   600  of  4,787.    Elapsed: 0:00:14.\n",
      "  Batch   640  of  4,787.    Elapsed: 0:00:15.\n",
      "  Batch   680  of  4,787.    Elapsed: 0:00:16.\n",
      "  Batch   720  of  4,787.    Elapsed: 0:00:17.\n",
      "  Batch   760  of  4,787.    Elapsed: 0:00:18.\n",
      "  Batch   800  of  4,787.    Elapsed: 0:00:19.\n",
      "  Batch   840  of  4,787.    Elapsed: 0:00:19.\n",
      "  Batch   880  of  4,787.    Elapsed: 0:00:20.\n",
      "  Batch   920  of  4,787.    Elapsed: 0:00:21.\n",
      "  Batch   960  of  4,787.    Elapsed: 0:00:22.\n",
      "  Batch 1,000  of  4,787.    Elapsed: 0:00:23.\n",
      "  Batch 1,040  of  4,787.    Elapsed: 0:00:24.\n",
      "  Batch 1,080  of  4,787.    Elapsed: 0:00:25.\n",
      "  Batch 1,120  of  4,787.    Elapsed: 0:00:26.\n",
      "  Batch 1,160  of  4,787.    Elapsed: 0:00:27.\n",
      "  Batch 1,200  of  4,787.    Elapsed: 0:00:28.\n",
      "  Batch 1,240  of  4,787.    Elapsed: 0:00:29.\n",
      "  Batch 1,280  of  4,787.    Elapsed: 0:00:30.\n",
      "  Batch 1,320  of  4,787.    Elapsed: 0:00:31.\n",
      "  Batch 1,360  of  4,787.    Elapsed: 0:00:32.\n",
      "  Batch 1,400  of  4,787.    Elapsed: 0:00:32.\n",
      "  Batch 1,440  of  4,787.    Elapsed: 0:00:33.\n",
      "  Batch 1,480  of  4,787.    Elapsed: 0:00:34.\n",
      "  Batch 1,520  of  4,787.    Elapsed: 0:00:35.\n",
      "  Batch 1,560  of  4,787.    Elapsed: 0:00:36.\n",
      "  Batch 1,600  of  4,787.    Elapsed: 0:00:37.\n",
      "  Batch 1,640  of  4,787.    Elapsed: 0:00:38.\n",
      "  Batch 1,680  of  4,787.    Elapsed: 0:00:39.\n",
      "  Batch 1,720  of  4,787.    Elapsed: 0:00:40.\n",
      "  Batch 1,760  of  4,787.    Elapsed: 0:00:41.\n",
      "  Batch 1,800  of  4,787.    Elapsed: 0:00:42.\n",
      "  Batch 1,840  of  4,787.    Elapsed: 0:00:43.\n",
      "  Batch 1,880  of  4,787.    Elapsed: 0:00:44.\n",
      "  Batch 1,920  of  4,787.    Elapsed: 0:00:45.\n",
      "  Batch 1,960  of  4,787.    Elapsed: 0:00:45.\n",
      "  Batch 2,000  of  4,787.    Elapsed: 0:00:46.\n",
      "  Batch 2,040  of  4,787.    Elapsed: 0:00:47.\n",
      "  Batch 2,080  of  4,787.    Elapsed: 0:00:48.\n",
      "  Batch 2,120  of  4,787.    Elapsed: 0:00:49.\n",
      "  Batch 2,160  of  4,787.    Elapsed: 0:00:50.\n",
      "  Batch 2,200  of  4,787.    Elapsed: 0:00:51.\n",
      "  Batch 2,240  of  4,787.    Elapsed: 0:00:52.\n",
      "  Batch 2,280  of  4,787.    Elapsed: 0:00:53.\n",
      "  Batch 2,320  of  4,787.    Elapsed: 0:00:54.\n",
      "  Batch 2,360  of  4,787.    Elapsed: 0:00:55.\n",
      "  Batch 2,400  of  4,787.    Elapsed: 0:00:56.\n",
      "  Batch 2,440  of  4,787.    Elapsed: 0:00:57.\n",
      "  Batch 2,480  of  4,787.    Elapsed: 0:00:58.\n",
      "  Batch 2,520  of  4,787.    Elapsed: 0:00:59.\n",
      "  Batch 2,560  of  4,787.    Elapsed: 0:00:59.\n",
      "  Batch 2,600  of  4,787.    Elapsed: 0:01:00.\n",
      "  Batch 2,640  of  4,787.    Elapsed: 0:01:01.\n",
      "  Batch 2,680  of  4,787.    Elapsed: 0:01:02.\n",
      "  Batch 2,720  of  4,787.    Elapsed: 0:01:03.\n",
      "  Batch 2,760  of  4,787.    Elapsed: 0:01:04.\n",
      "  Batch 2,800  of  4,787.    Elapsed: 0:01:05.\n",
      "  Batch 2,840  of  4,787.    Elapsed: 0:01:06.\n",
      "  Batch 2,880  of  4,787.    Elapsed: 0:01:07.\n",
      "  Batch 2,920  of  4,787.    Elapsed: 0:01:08.\n",
      "  Batch 2,960  of  4,787.    Elapsed: 0:01:09.\n",
      "  Batch 3,000  of  4,787.    Elapsed: 0:01:10.\n",
      "  Batch 3,040  of  4,787.    Elapsed: 0:01:11.\n",
      "  Batch 3,080  of  4,787.    Elapsed: 0:01:12.\n",
      "  Batch 3,120  of  4,787.    Elapsed: 0:01:12.\n",
      "  Batch 3,160  of  4,787.    Elapsed: 0:01:13.\n",
      "  Batch 3,200  of  4,787.    Elapsed: 0:01:14.\n",
      "  Batch 3,240  of  4,787.    Elapsed: 0:01:15.\n",
      "  Batch 3,280  of  4,787.    Elapsed: 0:01:16.\n",
      "  Batch 3,320  of  4,787.    Elapsed: 0:01:17.\n",
      "  Batch 3,360  of  4,787.    Elapsed: 0:01:18.\n",
      "  Batch 3,400  of  4,787.    Elapsed: 0:01:19.\n",
      "  Batch 3,440  of  4,787.    Elapsed: 0:01:20.\n",
      "  Batch 3,480  of  4,787.    Elapsed: 0:01:21.\n",
      "  Batch 3,520  of  4,787.    Elapsed: 0:01:22.\n",
      "  Batch 3,560  of  4,787.    Elapsed: 0:01:23.\n",
      "  Batch 3,600  of  4,787.    Elapsed: 0:01:24.\n",
      "  Batch 3,640  of  4,787.    Elapsed: 0:01:25.\n",
      "  Batch 3,680  of  4,787.    Elapsed: 0:01:26.\n",
      "  Batch 3,720  of  4,787.    Elapsed: 0:01:26.\n",
      "  Batch 3,760  of  4,787.    Elapsed: 0:01:27.\n",
      "  Batch 3,800  of  4,787.    Elapsed: 0:01:28.\n",
      "  Batch 3,840  of  4,787.    Elapsed: 0:01:29.\n",
      "  Batch 3,880  of  4,787.    Elapsed: 0:01:30.\n",
      "  Batch 3,920  of  4,787.    Elapsed: 0:01:31.\n",
      "  Batch 3,960  of  4,787.    Elapsed: 0:01:32.\n",
      "  Batch 4,000  of  4,787.    Elapsed: 0:01:33.\n",
      "  Batch 4,040  of  4,787.    Elapsed: 0:01:34.\n",
      "  Batch 4,080  of  4,787.    Elapsed: 0:01:35.\n",
      "  Batch 4,120  of  4,787.    Elapsed: 0:01:36.\n",
      "  Batch 4,160  of  4,787.    Elapsed: 0:01:37.\n",
      "  Batch 4,200  of  4,787.    Elapsed: 0:01:38.\n",
      "  Batch 4,240  of  4,787.    Elapsed: 0:01:39.\n",
      "  Batch 4,280  of  4,787.    Elapsed: 0:01:40.\n",
      "  Batch 4,320  of  4,787.    Elapsed: 0:01:41.\n",
      "  Batch 4,360  of  4,787.    Elapsed: 0:01:41.\n",
      "  Batch 4,400  of  4,787.    Elapsed: 0:01:42.\n",
      "  Batch 4,440  of  4,787.    Elapsed: 0:01:43.\n",
      "  Batch 4,480  of  4,787.    Elapsed: 0:01:44.\n",
      "  Batch 4,520  of  4,787.    Elapsed: 0:01:45.\n",
      "  Batch 4,560  of  4,787.    Elapsed: 0:01:46.\n",
      "  Batch 4,600  of  4,787.    Elapsed: 0:01:47.\n",
      "  Batch 4,640  of  4,787.    Elapsed: 0:01:48.\n",
      "  Batch 4,680  of  4,787.    Elapsed: 0:01:49.\n",
      "  Batch 4,720  of  4,787.    Elapsed: 0:01:50.\n",
      "  Batch 4,760  of  4,787.    Elapsed: 0:01:51.\n"
     ]
    }
   ],
   "source": [
    "# Measure how long the evaluation going to takes.\n",
    "t0 = time.time()\n",
    "\n",
    "for step, batch in enumerate(sub_dataloader):\n",
    "    # Progress update every 40 batches.\n",
    "    if step % 40 == 0 and not step == 0:\n",
    "        # Calculate elapsed time in minutes.\n",
    "        elapsed = format_time(time.time() - t0)\n",
    "        # Report progress.\n",
    "        print('  Batch {:>5,}  of  {:>5,}.    Elapsed: {:}.'.format(step, len(sub_dataloader), elapsed))\n",
    "    b_input_ids = batch[0].to(device)\n",
    "    b_input_mask = batch[1].to(device)\n",
    "    with torch.no_grad():\n",
    "        outputs = model(b_input_ids, b_input_mask)\n",
    "        pred_probs = torch.sigmoid(outputs.logits)\n",
    "        if step == 0:\n",
    "            predictions = pred_probs.cpu().detach().numpy()\n",
    "        else:\n",
    "            predictions = np.append(predictions, pred_probs.cpu().detach().numpy(), axis=0)"
   ]
  },
  {
   "cell_type": "code",
   "execution_count": 49,
   "id": "b412256e",
   "metadata": {
    "execution": {
     "iopub.execute_input": "2021-09-04T04:12:00.158394Z",
     "iopub.status.busy": "2021-09-04T04:12:00.156900Z",
     "iopub.status.idle": "2021-09-04T04:12:00.159241Z",
     "shell.execute_reply": "2021-09-04T04:12:00.159652Z",
     "shell.execute_reply.started": "2021-09-04T01:12:14.161469Z"
    },
    "papermill": {
     "duration": 0.158134,
     "end_time": "2021-09-04T04:12:00.159784",
     "exception": false,
     "start_time": "2021-09-04T04:12:00.001650",
     "status": "completed"
    },
    "tags": []
   },
   "outputs": [],
   "source": [
    "predictions_df = pd.DataFrame(predictions, columns = categories)"
   ]
  },
  {
   "cell_type": "code",
   "execution_count": 50,
   "id": "c7a3a0ce",
   "metadata": {
    "execution": {
     "iopub.execute_input": "2021-09-04T04:12:00.444356Z",
     "iopub.status.busy": "2021-09-04T04:12:00.443723Z",
     "iopub.status.idle": "2021-09-04T04:12:00.446299Z",
     "shell.execute_reply": "2021-09-04T04:12:00.446692Z",
     "shell.execute_reply.started": "2021-09-04T01:12:14.174602Z"
    },
    "papermill": {
     "duration": 0.147462,
     "end_time": "2021-09-04T04:12:00.446820",
     "exception": false,
     "start_time": "2021-09-04T04:12:00.299358",
     "status": "completed"
    },
    "tags": []
   },
   "outputs": [
    {
     "data": {
      "text/plain": [
       "153164"
      ]
     },
     "execution_count": 50,
     "metadata": {},
     "output_type": "execute_result"
    }
   ],
   "source": [
    "len(predictions_df)"
   ]
  },
  {
   "cell_type": "code",
   "execution_count": 51,
   "id": "abe8f88b",
   "metadata": {
    "execution": {
     "iopub.execute_input": "2021-09-04T04:12:00.784010Z",
     "iopub.status.busy": "2021-09-04T04:12:00.783122Z",
     "iopub.status.idle": "2021-09-04T04:12:00.790973Z",
     "shell.execute_reply": "2021-09-04T04:12:00.791705Z",
     "shell.execute_reply.started": "2021-09-04T01:12:14.189773Z"
    },
    "papermill": {
     "duration": 0.206254,
     "end_time": "2021-09-04T04:12:00.791906",
     "exception": false,
     "start_time": "2021-09-04T04:12:00.585652",
     "status": "completed"
    },
    "tags": []
   },
   "outputs": [],
   "source": [
    "submission = pd.concat([test_csv[\"id\"], predictions_df], axis=1)"
   ]
  },
  {
   "cell_type": "code",
   "execution_count": 52,
   "id": "5966f597",
   "metadata": {
    "execution": {
     "iopub.execute_input": "2021-09-04T04:12:01.251122Z",
     "iopub.status.busy": "2021-09-04T04:12:01.250277Z",
     "iopub.status.idle": "2021-09-04T04:12:01.260892Z",
     "shell.execute_reply": "2021-09-04T04:12:01.261882Z",
     "shell.execute_reply.started": "2021-09-04T01:12:14.213639Z"
    },
    "papermill": {
     "duration": 0.24575,
     "end_time": "2021-09-04T04:12:01.262093",
     "exception": false,
     "start_time": "2021-09-04T04:12:01.016343",
     "status": "completed"
    },
    "tags": []
   },
   "outputs": [
    {
     "data": {
      "text/html": [
       "<div>\n",
       "<style scoped>\n",
       "    .dataframe tbody tr th:only-of-type {\n",
       "        vertical-align: middle;\n",
       "    }\n",
       "\n",
       "    .dataframe tbody tr th {\n",
       "        vertical-align: top;\n",
       "    }\n",
       "\n",
       "    .dataframe thead th {\n",
       "        text-align: right;\n",
       "    }\n",
       "</style>\n",
       "<table border=\"1\" class=\"dataframe\">\n",
       "  <thead>\n",
       "    <tr style=\"text-align: right;\">\n",
       "      <th></th>\n",
       "      <th>id</th>\n",
       "      <th>toxic</th>\n",
       "      <th>severe_toxic</th>\n",
       "      <th>obscene</th>\n",
       "      <th>threat</th>\n",
       "      <th>insult</th>\n",
       "      <th>identity_hate</th>\n",
       "    </tr>\n",
       "  </thead>\n",
       "  <tbody>\n",
       "    <tr>\n",
       "      <th>0</th>\n",
       "      <td>00001cee341fdb12</td>\n",
       "      <td>0.99470</td>\n",
       "      <td>0.61833</td>\n",
       "      <td>0.98231</td>\n",
       "      <td>0.18233</td>\n",
       "      <td>0.95349</td>\n",
       "      <td>0.41148</td>\n",
       "    </tr>\n",
       "    <tr>\n",
       "      <th>1</th>\n",
       "      <td>0000247867823ef7</td>\n",
       "      <td>0.00183</td>\n",
       "      <td>0.00018</td>\n",
       "      <td>0.00032</td>\n",
       "      <td>0.00060</td>\n",
       "      <td>0.00064</td>\n",
       "      <td>0.00072</td>\n",
       "    </tr>\n",
       "    <tr>\n",
       "      <th>2</th>\n",
       "      <td>00013b17ad220c46</td>\n",
       "      <td>0.00226</td>\n",
       "      <td>0.00018</td>\n",
       "      <td>0.00035</td>\n",
       "      <td>0.00056</td>\n",
       "      <td>0.00071</td>\n",
       "      <td>0.00070</td>\n",
       "    </tr>\n",
       "    <tr>\n",
       "      <th>3</th>\n",
       "      <td>00017563c3f7919a</td>\n",
       "      <td>0.00167</td>\n",
       "      <td>0.00020</td>\n",
       "      <td>0.00031</td>\n",
       "      <td>0.00068</td>\n",
       "      <td>0.00065</td>\n",
       "      <td>0.00079</td>\n",
       "    </tr>\n",
       "    <tr>\n",
       "      <th>4</th>\n",
       "      <td>00017695ad8997eb</td>\n",
       "      <td>0.00183</td>\n",
       "      <td>0.00018</td>\n",
       "      <td>0.00032</td>\n",
       "      <td>0.00060</td>\n",
       "      <td>0.00064</td>\n",
       "      <td>0.00072</td>\n",
       "    </tr>\n",
       "  </tbody>\n",
       "</table>\n",
       "</div>"
      ],
      "text/plain": [
       "                 id    toxic  severe_toxic  obscene   threat   insult  \\\n",
       "0  00001cee341fdb12  0.99470       0.61833  0.98231  0.18233  0.95349   \n",
       "1  0000247867823ef7  0.00183       0.00018  0.00032  0.00060  0.00064   \n",
       "2  00013b17ad220c46  0.00226       0.00018  0.00035  0.00056  0.00071   \n",
       "3  00017563c3f7919a  0.00167       0.00020  0.00031  0.00068  0.00065   \n",
       "4  00017695ad8997eb  0.00183       0.00018  0.00032  0.00060  0.00064   \n",
       "\n",
       "   identity_hate  \n",
       "0        0.41148  \n",
       "1        0.00072  \n",
       "2        0.00070  \n",
       "3        0.00079  \n",
       "4        0.00072  "
      ]
     },
     "execution_count": 52,
     "metadata": {},
     "output_type": "execute_result"
    }
   ],
   "source": [
    "submission.head()"
   ]
  },
  {
   "cell_type": "code",
   "execution_count": 53,
   "id": "b70f813d",
   "metadata": {
    "execution": {
     "iopub.execute_input": "2021-09-04T04:12:01.735417Z",
     "iopub.status.busy": "2021-09-04T04:12:01.734627Z",
     "iopub.status.idle": "2021-09-04T04:12:03.163344Z",
     "shell.execute_reply": "2021-09-04T04:12:03.162845Z",
     "shell.execute_reply.started": "2021-09-04T01:12:14.247497Z"
    },
    "papermill": {
     "duration": 1.670768,
     "end_time": "2021-09-04T04:12:03.163476",
     "exception": false,
     "start_time": "2021-09-04T04:12:01.492708",
     "status": "completed"
    },
    "tags": []
   },
   "outputs": [],
   "source": [
    "submission.to_csv('submission.csv', index=False, header=True)"
   ]
  },
  {
   "cell_type": "markdown",
   "id": "01c2558d",
   "metadata": {
    "papermill": {
     "duration": 0.139324,
     "end_time": "2021-09-04T04:12:03.442738",
     "exception": false,
     "start_time": "2021-09-04T04:12:03.303414",
     "status": "completed"
    },
    "tags": []
   },
   "source": [
    "# 4. Test for runtime for CPU"
   ]
  },
  {
   "cell_type": "code",
   "execution_count": 54,
   "id": "bdca2005",
   "metadata": {
    "execution": {
     "iopub.execute_input": "2021-09-04T04:12:03.725737Z",
     "iopub.status.busy": "2021-09-04T04:12:03.725097Z",
     "iopub.status.idle": "2021-09-04T04:12:06.063391Z",
     "shell.execute_reply": "2021-09-04T04:12:06.064125Z",
     "shell.execute_reply.started": "2021-09-04T01:12:15.690029Z"
    },
    "papermill": {
     "duration": 2.482216,
     "end_time": "2021-09-04T04:12:06.064289",
     "exception": false,
     "start_time": "2021-09-04T04:12:03.582073",
     "status": "completed"
    },
    "tags": []
   },
   "outputs": [
    {
     "name": "stderr",
     "output_type": "stream",
     "text": [
      "Some weights of the model checkpoint at huawei-noah/TinyBERT_General_4L_312D were not used when initializing BertForSequenceClassification: ['fit_denses.2.weight', 'fit_denses.2.bias', 'fit_denses.0.weight', 'fit_denses.3.bias', 'cls.predictions.transform.LayerNorm.bias', 'fit_denses.0.bias', 'cls.predictions.decoder.weight', 'fit_denses.4.bias', 'cls.seq_relationship.weight', 'cls.predictions.bias', 'cls.seq_relationship.bias', 'fit_denses.1.weight', 'fit_denses.3.weight', 'cls.predictions.transform.dense.bias', 'fit_denses.4.weight', 'fit_denses.1.bias', 'cls.predictions.transform.LayerNorm.weight', 'cls.predictions.transform.dense.weight']\n",
      "- This IS expected if you are initializing BertForSequenceClassification from the checkpoint of a model trained on another task or with another architecture (e.g. initializing a BertForSequenceClassification model from a BertForPreTraining model).\n",
      "- This IS NOT expected if you are initializing BertForSequenceClassification from the checkpoint of a model that you expect to be exactly identical (initializing a BertForSequenceClassification model from a BertForSequenceClassification model).\n",
      "Some weights of BertForSequenceClassification were not initialized from the model checkpoint at huawei-noah/TinyBERT_General_4L_312D and are newly initialized: ['classifier.weight', 'classifier.bias']\n",
      "You should probably TRAIN this model on a down-stream task to be able to use it for predictions and inference.\n"
     ]
    },
    {
     "data": {
      "text/plain": [
       "<All keys matched successfully>"
      ]
     },
     "execution_count": 54,
     "metadata": {},
     "output_type": "execute_result"
    }
   ],
   "source": [
    "# instantiate model using \"google/mobilebert-uncased\"\n",
    "checkpoint = \"huawei-noah/TinyBERT_General_4L_312D\"\n",
    "PATH = \"./toxic_tinyBERT_multilabel\"\n",
    "model = AutoModelForSequenceClassification.from_pretrained(checkpoint, num_labels = 6)\n",
    "model.load_state_dict(torch.load(PATH, map_location=torch.device('cpu')))"
   ]
  },
  {
   "cell_type": "code",
   "execution_count": 55,
   "id": "d012348e",
   "metadata": {
    "execution": {
     "iopub.execute_input": "2021-09-04T04:12:06.352199Z",
     "iopub.status.busy": "2021-09-04T04:12:06.351423Z",
     "iopub.status.idle": "2021-09-04T04:12:06.358821Z",
     "shell.execute_reply": "2021-09-04T04:12:06.359233Z",
     "shell.execute_reply.started": "2021-09-04T01:12:17.140333Z"
    },
    "papermill": {
     "duration": 0.153928,
     "end_time": "2021-09-04T04:12:06.359362",
     "exception": false,
     "start_time": "2021-09-04T04:12:06.205434",
     "status": "completed"
    },
    "tags": []
   },
   "outputs": [
    {
     "data": {
      "text/plain": [
       "BertForSequenceClassification(\n",
       "  (bert): BertModel(\n",
       "    (embeddings): BertEmbeddings(\n",
       "      (word_embeddings): Embedding(30522, 312, padding_idx=0)\n",
       "      (position_embeddings): Embedding(512, 312)\n",
       "      (token_type_embeddings): Embedding(2, 312)\n",
       "      (LayerNorm): LayerNorm((312,), eps=1e-12, elementwise_affine=True)\n",
       "      (dropout): Dropout(p=0.1, inplace=False)\n",
       "    )\n",
       "    (encoder): BertEncoder(\n",
       "      (layer): ModuleList(\n",
       "        (0): BertLayer(\n",
       "          (attention): BertAttention(\n",
       "            (self): BertSelfAttention(\n",
       "              (query): Linear(in_features=312, out_features=312, bias=True)\n",
       "              (key): Linear(in_features=312, out_features=312, bias=True)\n",
       "              (value): Linear(in_features=312, out_features=312, bias=True)\n",
       "              (dropout): Dropout(p=0.1, inplace=False)\n",
       "            )\n",
       "            (output): BertSelfOutput(\n",
       "              (dense): Linear(in_features=312, out_features=312, bias=True)\n",
       "              (LayerNorm): LayerNorm((312,), eps=1e-12, elementwise_affine=True)\n",
       "              (dropout): Dropout(p=0.1, inplace=False)\n",
       "            )\n",
       "          )\n",
       "          (intermediate): BertIntermediate(\n",
       "            (dense): Linear(in_features=312, out_features=1200, bias=True)\n",
       "          )\n",
       "          (output): BertOutput(\n",
       "            (dense): Linear(in_features=1200, out_features=312, bias=True)\n",
       "            (LayerNorm): LayerNorm((312,), eps=1e-12, elementwise_affine=True)\n",
       "            (dropout): Dropout(p=0.1, inplace=False)\n",
       "          )\n",
       "        )\n",
       "        (1): BertLayer(\n",
       "          (attention): BertAttention(\n",
       "            (self): BertSelfAttention(\n",
       "              (query): Linear(in_features=312, out_features=312, bias=True)\n",
       "              (key): Linear(in_features=312, out_features=312, bias=True)\n",
       "              (value): Linear(in_features=312, out_features=312, bias=True)\n",
       "              (dropout): Dropout(p=0.1, inplace=False)\n",
       "            )\n",
       "            (output): BertSelfOutput(\n",
       "              (dense): Linear(in_features=312, out_features=312, bias=True)\n",
       "              (LayerNorm): LayerNorm((312,), eps=1e-12, elementwise_affine=True)\n",
       "              (dropout): Dropout(p=0.1, inplace=False)\n",
       "            )\n",
       "          )\n",
       "          (intermediate): BertIntermediate(\n",
       "            (dense): Linear(in_features=312, out_features=1200, bias=True)\n",
       "          )\n",
       "          (output): BertOutput(\n",
       "            (dense): Linear(in_features=1200, out_features=312, bias=True)\n",
       "            (LayerNorm): LayerNorm((312,), eps=1e-12, elementwise_affine=True)\n",
       "            (dropout): Dropout(p=0.1, inplace=False)\n",
       "          )\n",
       "        )\n",
       "        (2): BertLayer(\n",
       "          (attention): BertAttention(\n",
       "            (self): BertSelfAttention(\n",
       "              (query): Linear(in_features=312, out_features=312, bias=True)\n",
       "              (key): Linear(in_features=312, out_features=312, bias=True)\n",
       "              (value): Linear(in_features=312, out_features=312, bias=True)\n",
       "              (dropout): Dropout(p=0.1, inplace=False)\n",
       "            )\n",
       "            (output): BertSelfOutput(\n",
       "              (dense): Linear(in_features=312, out_features=312, bias=True)\n",
       "              (LayerNorm): LayerNorm((312,), eps=1e-12, elementwise_affine=True)\n",
       "              (dropout): Dropout(p=0.1, inplace=False)\n",
       "            )\n",
       "          )\n",
       "          (intermediate): BertIntermediate(\n",
       "            (dense): Linear(in_features=312, out_features=1200, bias=True)\n",
       "          )\n",
       "          (output): BertOutput(\n",
       "            (dense): Linear(in_features=1200, out_features=312, bias=True)\n",
       "            (LayerNorm): LayerNorm((312,), eps=1e-12, elementwise_affine=True)\n",
       "            (dropout): Dropout(p=0.1, inplace=False)\n",
       "          )\n",
       "        )\n",
       "        (3): BertLayer(\n",
       "          (attention): BertAttention(\n",
       "            (self): BertSelfAttention(\n",
       "              (query): Linear(in_features=312, out_features=312, bias=True)\n",
       "              (key): Linear(in_features=312, out_features=312, bias=True)\n",
       "              (value): Linear(in_features=312, out_features=312, bias=True)\n",
       "              (dropout): Dropout(p=0.1, inplace=False)\n",
       "            )\n",
       "            (output): BertSelfOutput(\n",
       "              (dense): Linear(in_features=312, out_features=312, bias=True)\n",
       "              (LayerNorm): LayerNorm((312,), eps=1e-12, elementwise_affine=True)\n",
       "              (dropout): Dropout(p=0.1, inplace=False)\n",
       "            )\n",
       "          )\n",
       "          (intermediate): BertIntermediate(\n",
       "            (dense): Linear(in_features=312, out_features=1200, bias=True)\n",
       "          )\n",
       "          (output): BertOutput(\n",
       "            (dense): Linear(in_features=1200, out_features=312, bias=True)\n",
       "            (LayerNorm): LayerNorm((312,), eps=1e-12, elementwise_affine=True)\n",
       "            (dropout): Dropout(p=0.1, inplace=False)\n",
       "          )\n",
       "        )\n",
       "      )\n",
       "    )\n",
       "    (pooler): BertPooler(\n",
       "      (dense): Linear(in_features=312, out_features=312, bias=True)\n",
       "      (activation): Tanh()\n",
       "    )\n",
       "  )\n",
       "  (dropout): Dropout(p=0.1, inplace=False)\n",
       "  (classifier): Linear(in_features=312, out_features=6, bias=True)\n",
       ")"
      ]
     },
     "execution_count": 55,
     "metadata": {},
     "output_type": "execute_result"
    }
   ],
   "source": [
    "device = torch.device(\"cpu\")\n",
    "model.to(device)"
   ]
  },
  {
   "cell_type": "code",
   "execution_count": 56,
   "id": "db7d2d20",
   "metadata": {
    "execution": {
     "iopub.execute_input": "2021-09-04T04:12:06.647972Z",
     "iopub.status.busy": "2021-09-04T04:12:06.647372Z",
     "iopub.status.idle": "2021-09-04T06:08:53.177992Z",
     "shell.execute_reply": "2021-09-04T06:08:53.178601Z",
     "shell.execute_reply.started": "2021-09-04T01:12:17.157387Z"
    },
    "papermill": {
     "duration": 7006.678712,
     "end_time": "2021-09-04T06:08:53.178842",
     "exception": false,
     "start_time": "2021-09-04T04:12:06.500130",
     "status": "completed"
    },
    "tags": []
   },
   "outputs": [
    {
     "name": "stdout",
     "output_type": "stream",
     "text": [
      "  Batch    40  of  4,787.    Elapsed: 0:00:58.\n",
      "  Batch    80  of  4,787.    Elapsed: 0:01:57.\n",
      "  Batch   120  of  4,787.    Elapsed: 0:02:56.\n",
      "  Batch   160  of  4,787.    Elapsed: 0:03:54.\n",
      "  Batch   200  of  4,787.    Elapsed: 0:04:53.\n",
      "  Batch   240  of  4,787.    Elapsed: 0:05:51.\n",
      "  Batch   280  of  4,787.    Elapsed: 0:06:50.\n",
      "  Batch   320  of  4,787.    Elapsed: 0:07:48.\n",
      "  Batch   360  of  4,787.    Elapsed: 0:08:46.\n",
      "  Batch   400  of  4,787.    Elapsed: 0:09:44.\n",
      "  Batch   440  of  4,787.    Elapsed: 0:10:42.\n",
      "  Batch   480  of  4,787.    Elapsed: 0:11:40.\n",
      "  Batch   520  of  4,787.    Elapsed: 0:12:38.\n",
      "  Batch   560  of  4,787.    Elapsed: 0:13:36.\n",
      "  Batch   600  of  4,787.    Elapsed: 0:14:33.\n",
      "  Batch   640  of  4,787.    Elapsed: 0:15:32.\n",
      "  Batch   680  of  4,787.    Elapsed: 0:16:30.\n",
      "  Batch   720  of  4,787.    Elapsed: 0:17:29.\n",
      "  Batch   760  of  4,787.    Elapsed: 0:18:27.\n",
      "  Batch   800  of  4,787.    Elapsed: 0:19:26.\n",
      "  Batch   840  of  4,787.    Elapsed: 0:20:25.\n",
      "  Batch   880  of  4,787.    Elapsed: 0:21:23.\n",
      "  Batch   920  of  4,787.    Elapsed: 0:22:22.\n",
      "  Batch   960  of  4,787.    Elapsed: 0:23:21.\n",
      "  Batch 1,000  of  4,787.    Elapsed: 0:24:20.\n",
      "  Batch 1,040  of  4,787.    Elapsed: 0:25:19.\n",
      "  Batch 1,080  of  4,787.    Elapsed: 0:26:18.\n",
      "  Batch 1,120  of  4,787.    Elapsed: 0:27:16.\n",
      "  Batch 1,160  of  4,787.    Elapsed: 0:28:15.\n",
      "  Batch 1,200  of  4,787.    Elapsed: 0:29:14.\n",
      "  Batch 1,240  of  4,787.    Elapsed: 0:30:13.\n",
      "  Batch 1,280  of  4,787.    Elapsed: 0:31:12.\n",
      "  Batch 1,320  of  4,787.    Elapsed: 0:32:10.\n",
      "  Batch 1,360  of  4,787.    Elapsed: 0:33:09.\n",
      "  Batch 1,400  of  4,787.    Elapsed: 0:34:08.\n",
      "  Batch 1,440  of  4,787.    Elapsed: 0:35:06.\n",
      "  Batch 1,480  of  4,787.    Elapsed: 0:36:05.\n",
      "  Batch 1,520  of  4,787.    Elapsed: 0:37:03.\n",
      "  Batch 1,560  of  4,787.    Elapsed: 0:38:02.\n",
      "  Batch 1,600  of  4,787.    Elapsed: 0:39:01.\n",
      "  Batch 1,640  of  4,787.    Elapsed: 0:39:59.\n",
      "  Batch 1,680  of  4,787.    Elapsed: 0:40:57.\n",
      "  Batch 1,720  of  4,787.    Elapsed: 0:41:56.\n",
      "  Batch 1,760  of  4,787.    Elapsed: 0:42:56.\n",
      "  Batch 1,800  of  4,787.    Elapsed: 0:43:54.\n",
      "  Batch 1,840  of  4,787.    Elapsed: 0:44:53.\n",
      "  Batch 1,880  of  4,787.    Elapsed: 0:45:51.\n",
      "  Batch 1,920  of  4,787.    Elapsed: 0:46:50.\n",
      "  Batch 1,960  of  4,787.    Elapsed: 0:47:49.\n",
      "  Batch 2,000  of  4,787.    Elapsed: 0:48:49.\n",
      "  Batch 2,040  of  4,787.    Elapsed: 0:49:48.\n",
      "  Batch 2,080  of  4,787.    Elapsed: 0:50:47.\n",
      "  Batch 2,120  of  4,787.    Elapsed: 0:51:47.\n",
      "  Batch 2,160  of  4,787.    Elapsed: 0:52:47.\n",
      "  Batch 2,200  of  4,787.    Elapsed: 0:53:47.\n",
      "  Batch 2,240  of  4,787.    Elapsed: 0:54:47.\n",
      "  Batch 2,280  of  4,787.    Elapsed: 0:55:46.\n",
      "  Batch 2,320  of  4,787.    Elapsed: 0:56:45.\n",
      "  Batch 2,360  of  4,787.    Elapsed: 0:57:45.\n",
      "  Batch 2,400  of  4,787.    Elapsed: 0:58:45.\n",
      "  Batch 2,440  of  4,787.    Elapsed: 0:59:45.\n",
      "  Batch 2,480  of  4,787.    Elapsed: 1:00:44.\n",
      "  Batch 2,520  of  4,787.    Elapsed: 1:01:43.\n",
      "  Batch 2,560  of  4,787.    Elapsed: 1:02:44.\n",
      "  Batch 2,600  of  4,787.    Elapsed: 1:03:44.\n",
      "  Batch 2,640  of  4,787.    Elapsed: 1:04:43.\n",
      "  Batch 2,680  of  4,787.    Elapsed: 1:05:43.\n",
      "  Batch 2,720  of  4,787.    Elapsed: 1:06:41.\n",
      "  Batch 2,760  of  4,787.    Elapsed: 1:07:41.\n",
      "  Batch 2,800  of  4,787.    Elapsed: 1:08:40.\n",
      "  Batch 2,840  of  4,787.    Elapsed: 1:09:39.\n",
      "  Batch 2,880  of  4,787.    Elapsed: 1:10:37.\n",
      "  Batch 2,920  of  4,787.    Elapsed: 1:11:34.\n",
      "  Batch 2,960  of  4,787.    Elapsed: 1:12:32.\n",
      "  Batch 3,000  of  4,787.    Elapsed: 1:13:35.\n",
      "  Batch 3,040  of  4,787.    Elapsed: 1:14:34.\n",
      "  Batch 3,080  of  4,787.    Elapsed: 1:15:33.\n",
      "  Batch 3,120  of  4,787.    Elapsed: 1:16:31.\n",
      "  Batch 3,160  of  4,787.    Elapsed: 1:17:30.\n",
      "  Batch 3,200  of  4,787.    Elapsed: 1:18:30.\n",
      "  Batch 3,240  of  4,787.    Elapsed: 1:19:28.\n",
      "  Batch 3,280  of  4,787.    Elapsed: 1:20:26.\n",
      "  Batch 3,320  of  4,787.    Elapsed: 1:21:25.\n",
      "  Batch 3,360  of  4,787.    Elapsed: 1:22:23.\n",
      "  Batch 3,400  of  4,787.    Elapsed: 1:23:22.\n",
      "  Batch 3,440  of  4,787.    Elapsed: 1:24:20.\n",
      "  Batch 3,480  of  4,787.    Elapsed: 1:25:18.\n",
      "  Batch 3,520  of  4,787.    Elapsed: 1:26:17.\n",
      "  Batch 3,560  of  4,787.    Elapsed: 1:27:15.\n",
      "  Batch 3,600  of  4,787.    Elapsed: 1:28:14.\n",
      "  Batch 3,640  of  4,787.    Elapsed: 1:29:13.\n",
      "  Batch 3,680  of  4,787.    Elapsed: 1:30:11.\n",
      "  Batch 3,720  of  4,787.    Elapsed: 1:31:08.\n",
      "  Batch 3,760  of  4,787.    Elapsed: 1:32:07.\n",
      "  Batch 3,800  of  4,787.    Elapsed: 1:33:05.\n",
      "  Batch 3,840  of  4,787.    Elapsed: 1:34:05.\n",
      "  Batch 3,880  of  4,787.    Elapsed: 1:35:03.\n",
      "  Batch 3,920  of  4,787.    Elapsed: 1:36:01.\n",
      "  Batch 3,960  of  4,787.    Elapsed: 1:36:59.\n",
      "  Batch 4,000  of  4,787.    Elapsed: 1:37:57.\n",
      "  Batch 4,040  of  4,787.    Elapsed: 1:38:55.\n",
      "  Batch 4,080  of  4,787.    Elapsed: 1:39:52.\n",
      "  Batch 4,120  of  4,787.    Elapsed: 1:40:49.\n",
      "  Batch 4,160  of  4,787.    Elapsed: 1:41:46.\n",
      "  Batch 4,200  of  4,787.    Elapsed: 1:42:44.\n",
      "  Batch 4,240  of  4,787.    Elapsed: 1:43:42.\n",
      "  Batch 4,280  of  4,787.    Elapsed: 1:44:39.\n",
      "  Batch 4,320  of  4,787.    Elapsed: 1:45:36.\n",
      "  Batch 4,360  of  4,787.    Elapsed: 1:46:34.\n",
      "  Batch 4,400  of  4,787.    Elapsed: 1:47:31.\n",
      "  Batch 4,440  of  4,787.    Elapsed: 1:48:29.\n",
      "  Batch 4,480  of  4,787.    Elapsed: 1:49:26.\n",
      "  Batch 4,520  of  4,787.    Elapsed: 1:50:23.\n",
      "  Batch 4,560  of  4,787.    Elapsed: 1:51:21.\n",
      "  Batch 4,600  of  4,787.    Elapsed: 1:52:18.\n",
      "  Batch 4,640  of  4,787.    Elapsed: 1:53:15.\n",
      "  Batch 4,680  of  4,787.    Elapsed: 1:54:13.\n",
      "  Batch 4,720  of  4,787.    Elapsed: 1:55:10.\n",
      "  Batch 4,760  of  4,787.    Elapsed: 1:56:08.\n"
     ]
    }
   ],
   "source": [
    "# Measure how long the evaluation going to takes.\n",
    "t0 = time.time()\n",
    "\n",
    "for step, batch in enumerate(sub_dataloader):\n",
    "    # Progress update every 40 batches.\n",
    "    if step % 40 == 0 and not step == 0:\n",
    "        # Calculate elapsed time in minutes.\n",
    "        elapsed = format_time(time.time() - t0)\n",
    "        # Report progress.\n",
    "        print('  Batch {:>5,}  of  {:>5,}.    Elapsed: {:}.'.format(step, len(sub_dataloader), elapsed))\n",
    "    b_input_ids = batch[0].to(device)\n",
    "    b_input_mask = batch[1].to(device)\n",
    "    with torch.no_grad():\n",
    "        outputs = model(b_input_ids, b_input_mask)\n",
    "        pred_probs = torch.sigmoid(outputs.logits)\n",
    "        if step == 0:\n",
    "            predictions = pred_probs.cpu().detach().numpy()\n",
    "        else:\n",
    "            predictions = np.append(predictions, pred_probs.cpu().detach().numpy(), axis=0)"
   ]
  },
  {
   "cell_type": "code",
   "execution_count": null,
   "id": "10583691",
   "metadata": {
    "papermill": {
     "duration": 0.173318,
     "end_time": "2021-09-04T06:08:53.528664",
     "exception": false,
     "start_time": "2021-09-04T06:08:53.355346",
     "status": "completed"
    },
    "tags": []
   },
   "outputs": [],
   "source": []
  },
  {
   "cell_type": "code",
   "execution_count": null,
   "id": "2329304f",
   "metadata": {
    "papermill": {
     "duration": 0.175574,
     "end_time": "2021-09-04T06:08:53.880685",
     "exception": false,
     "start_time": "2021-09-04T06:08:53.705111",
     "status": "completed"
    },
    "tags": []
   },
   "outputs": [],
   "source": []
  }
 ],
 "metadata": {
  "kernelspec": {
   "display_name": "Python 3",
   "language": "python",
   "name": "python3"
  },
  "language_info": {
   "codemirror_mode": {
    "name": "ipython",
    "version": 3
   },
   "file_extension": ".py",
   "mimetype": "text/x-python",
   "name": "python",
   "nbconvert_exporter": "python",
   "pygments_lexer": "ipython3",
   "version": "3.7.10"
  },
  "papermill": {
   "default_parameters": {},
   "duration": 8091.735819,
   "end_time": "2021-09-04T06:08:57.731083",
   "environment_variables": {},
   "exception": null,
   "input_path": "__notebook__.ipynb",
   "output_path": "__notebook__.ipynb",
   "parameters": {},
   "start_time": "2021-09-04T03:54:05.995264",
   "version": "2.3.3"
  },
  "widgets": {
   "application/vnd.jupyter.widget-state+json": {
    "state": {
     "055a74556d984712b25aba045d7f9f3f": {
      "model_module": "@jupyter-widgets/controls",
      "model_module_version": "1.5.0",
      "model_name": "ProgressStyleModel",
      "state": {
       "_model_module": "@jupyter-widgets/controls",
       "_model_module_version": "1.5.0",
       "_model_name": "ProgressStyleModel",
       "_view_count": null,
       "_view_module": "@jupyter-widgets/base",
       "_view_module_version": "1.2.0",
       "_view_name": "StyleView",
       "bar_color": null,
       "description_width": ""
      }
     },
     "09403c7aaab34e02b5236abebb678af9": {
      "model_module": "@jupyter-widgets/controls",
      "model_module_version": "1.5.0",
      "model_name": "DescriptionStyleModel",
      "state": {
       "_model_module": "@jupyter-widgets/controls",
       "_model_module_version": "1.5.0",
       "_model_name": "DescriptionStyleModel",
       "_view_count": null,
       "_view_module": "@jupyter-widgets/base",
       "_view_module_version": "1.2.0",
       "_view_name": "StyleView",
       "description_width": ""
      }
     },
     "0ecac206ed38402a823622981a39565e": {
      "model_module": "@jupyter-widgets/base",
      "model_module_version": "1.2.0",
      "model_name": "LayoutModel",
      "state": {
       "_model_module": "@jupyter-widgets/base",
       "_model_module_version": "1.2.0",
       "_model_name": "LayoutModel",
       "_view_count": null,
       "_view_module": "@jupyter-widgets/base",
       "_view_module_version": "1.2.0",
       "_view_name": "LayoutView",
       "align_content": null,
       "align_items": null,
       "align_self": null,
       "border": null,
       "bottom": null,
       "display": null,
       "flex": null,
       "flex_flow": null,
       "grid_area": null,
       "grid_auto_columns": null,
       "grid_auto_flow": null,
       "grid_auto_rows": null,
       "grid_column": null,
       "grid_gap": null,
       "grid_row": null,
       "grid_template_areas": null,
       "grid_template_columns": null,
       "grid_template_rows": null,
       "height": null,
       "justify_content": null,
       "justify_items": null,
       "left": null,
       "margin": null,
       "max_height": null,
       "max_width": null,
       "min_height": null,
       "min_width": null,
       "object_fit": null,
       "object_position": null,
       "order": null,
       "overflow": null,
       "overflow_x": null,
       "overflow_y": null,
       "padding": null,
       "right": null,
       "top": null,
       "visibility": null,
       "width": null
      }
     },
     "0ffd4dcac98b43f0a8e3da3f9fa125e7": {
      "model_module": "@jupyter-widgets/controls",
      "model_module_version": "1.5.0",
      "model_name": "DescriptionStyleModel",
      "state": {
       "_model_module": "@jupyter-widgets/controls",
       "_model_module_version": "1.5.0",
       "_model_name": "DescriptionStyleModel",
       "_view_count": null,
       "_view_module": "@jupyter-widgets/base",
       "_view_module_version": "1.2.0",
       "_view_name": "StyleView",
       "description_width": ""
      }
     },
     "27957b62c9e04c2bbf81d08cd9eb308b": {
      "model_module": "@jupyter-widgets/controls",
      "model_module_version": "1.5.0",
      "model_name": "HBoxModel",
      "state": {
       "_dom_classes": [],
       "_model_module": "@jupyter-widgets/controls",
       "_model_module_version": "1.5.0",
       "_model_name": "HBoxModel",
       "_view_count": null,
       "_view_module": "@jupyter-widgets/controls",
       "_view_module_version": "1.5.0",
       "_view_name": "HBoxView",
       "box_style": "",
       "children": [
        "IPY_MODEL_d87ae8a78bdd43efa00cce12ed507f18",
        "IPY_MODEL_eb3d3e367d4940f5966579dfd2f838bf",
        "IPY_MODEL_a402f510d5a8490b9073ba886e4d7209"
       ],
       "layout": "IPY_MODEL_28fe45208ad84f96bcc017449c1af552"
      }
     },
     "28fe45208ad84f96bcc017449c1af552": {
      "model_module": "@jupyter-widgets/base",
      "model_module_version": "1.2.0",
      "model_name": "LayoutModel",
      "state": {
       "_model_module": "@jupyter-widgets/base",
       "_model_module_version": "1.2.0",
       "_model_name": "LayoutModel",
       "_view_count": null,
       "_view_module": "@jupyter-widgets/base",
       "_view_module_version": "1.2.0",
       "_view_name": "LayoutView",
       "align_content": null,
       "align_items": null,
       "align_self": null,
       "border": null,
       "bottom": null,
       "display": null,
       "flex": null,
       "flex_flow": null,
       "grid_area": null,
       "grid_auto_columns": null,
       "grid_auto_flow": null,
       "grid_auto_rows": null,
       "grid_column": null,
       "grid_gap": null,
       "grid_row": null,
       "grid_template_areas": null,
       "grid_template_columns": null,
       "grid_template_rows": null,
       "height": null,
       "justify_content": null,
       "justify_items": null,
       "left": null,
       "margin": null,
       "max_height": null,
       "max_width": null,
       "min_height": null,
       "min_width": null,
       "object_fit": null,
       "object_position": null,
       "order": null,
       "overflow": null,
       "overflow_x": null,
       "overflow_y": null,
       "padding": null,
       "right": null,
       "top": null,
       "visibility": null,
       "width": null
      }
     },
     "36fcc24454e44c66a1aa03e2495040fa": {
      "model_module": "@jupyter-widgets/base",
      "model_module_version": "1.2.0",
      "model_name": "LayoutModel",
      "state": {
       "_model_module": "@jupyter-widgets/base",
       "_model_module_version": "1.2.0",
       "_model_name": "LayoutModel",
       "_view_count": null,
       "_view_module": "@jupyter-widgets/base",
       "_view_module_version": "1.2.0",
       "_view_name": "LayoutView",
       "align_content": null,
       "align_items": null,
       "align_self": null,
       "border": null,
       "bottom": null,
       "display": null,
       "flex": null,
       "flex_flow": null,
       "grid_area": null,
       "grid_auto_columns": null,
       "grid_auto_flow": null,
       "grid_auto_rows": null,
       "grid_column": null,
       "grid_gap": null,
       "grid_row": null,
       "grid_template_areas": null,
       "grid_template_columns": null,
       "grid_template_rows": null,
       "height": null,
       "justify_content": null,
       "justify_items": null,
       "left": null,
       "margin": null,
       "max_height": null,
       "max_width": null,
       "min_height": null,
       "min_width": null,
       "object_fit": null,
       "object_position": null,
       "order": null,
       "overflow": null,
       "overflow_x": null,
       "overflow_y": null,
       "padding": null,
       "right": null,
       "top": null,
       "visibility": null,
       "width": null
      }
     },
     "497d042f642b437ba80220e5a4e900c7": {
      "model_module": "@jupyter-widgets/controls",
      "model_module_version": "1.5.0",
      "model_name": "HTMLModel",
      "state": {
       "_dom_classes": [],
       "_model_module": "@jupyter-widgets/controls",
       "_model_module_version": "1.5.0",
       "_model_name": "HTMLModel",
       "_view_count": null,
       "_view_module": "@jupyter-widgets/controls",
       "_view_module_version": "1.5.0",
       "_view_name": "HTMLView",
       "description": "",
       "description_tooltip": null,
       "layout": "IPY_MODEL_86cd514ad0d04242b784fc491b890672",
       "placeholder": "​",
       "style": "IPY_MODEL_0ffd4dcac98b43f0a8e3da3f9fa125e7",
       "value": " 232k/232k [00:00&lt;00:00, 225kB/s]"
      }
     },
     "521e959cfcb74acc8219b94a48a2b2df": {
      "model_module": "@jupyter-widgets/controls",
      "model_module_version": "1.5.0",
      "model_name": "ProgressStyleModel",
      "state": {
       "_model_module": "@jupyter-widgets/controls",
       "_model_module_version": "1.5.0",
       "_model_name": "ProgressStyleModel",
       "_view_count": null,
       "_view_module": "@jupyter-widgets/base",
       "_view_module_version": "1.2.0",
       "_view_name": "StyleView",
       "bar_color": null,
       "description_width": ""
      }
     },
     "5895d0a2040f471ebfca7191cc76f517": {
      "model_module": "@jupyter-widgets/controls",
      "model_module_version": "1.5.0",
      "model_name": "HTMLModel",
      "state": {
       "_dom_classes": [],
       "_model_module": "@jupyter-widgets/controls",
       "_model_module_version": "1.5.0",
       "_model_name": "HTMLModel",
       "_view_count": null,
       "_view_module": "@jupyter-widgets/controls",
       "_view_module_version": "1.5.0",
       "_view_name": "HTMLView",
       "description": "",
       "description_tooltip": null,
       "layout": "IPY_MODEL_678a74ee4f6a45599c709c31b995cce2",
       "placeholder": "​",
       "style": "IPY_MODEL_b87d9c328a87403784dea8d6fd3cdc21",
       "value": " 62.7M/62.7M [00:04&lt;00:00, 17.9MB/s]"
      }
     },
     "589cf9027d7d4ad9910accdfdaf1ef82": {
      "model_module": "@jupyter-widgets/controls",
      "model_module_version": "1.5.0",
      "model_name": "DescriptionStyleModel",
      "state": {
       "_model_module": "@jupyter-widgets/controls",
       "_model_module_version": "1.5.0",
       "_model_name": "DescriptionStyleModel",
       "_view_count": null,
       "_view_module": "@jupyter-widgets/base",
       "_view_module_version": "1.2.0",
       "_view_name": "StyleView",
       "description_width": ""
      }
     },
     "65147d325c174094bb20f98947bc0573": {
      "model_module": "@jupyter-widgets/base",
      "model_module_version": "1.2.0",
      "model_name": "LayoutModel",
      "state": {
       "_model_module": "@jupyter-widgets/base",
       "_model_module_version": "1.2.0",
       "_model_name": "LayoutModel",
       "_view_count": null,
       "_view_module": "@jupyter-widgets/base",
       "_view_module_version": "1.2.0",
       "_view_name": "LayoutView",
       "align_content": null,
       "align_items": null,
       "align_self": null,
       "border": null,
       "bottom": null,
       "display": null,
       "flex": null,
       "flex_flow": null,
       "grid_area": null,
       "grid_auto_columns": null,
       "grid_auto_flow": null,
       "grid_auto_rows": null,
       "grid_column": null,
       "grid_gap": null,
       "grid_row": null,
       "grid_template_areas": null,
       "grid_template_columns": null,
       "grid_template_rows": null,
       "height": null,
       "justify_content": null,
       "justify_items": null,
       "left": null,
       "margin": null,
       "max_height": null,
       "max_width": null,
       "min_height": null,
       "min_width": null,
       "object_fit": null,
       "object_position": null,
       "order": null,
       "overflow": null,
       "overflow_x": null,
       "overflow_y": null,
       "padding": null,
       "right": null,
       "top": null,
       "visibility": null,
       "width": null
      }
     },
     "678a74ee4f6a45599c709c31b995cce2": {
      "model_module": "@jupyter-widgets/base",
      "model_module_version": "1.2.0",
      "model_name": "LayoutModel",
      "state": {
       "_model_module": "@jupyter-widgets/base",
       "_model_module_version": "1.2.0",
       "_model_name": "LayoutModel",
       "_view_count": null,
       "_view_module": "@jupyter-widgets/base",
       "_view_module_version": "1.2.0",
       "_view_name": "LayoutView",
       "align_content": null,
       "align_items": null,
       "align_self": null,
       "border": null,
       "bottom": null,
       "display": null,
       "flex": null,
       "flex_flow": null,
       "grid_area": null,
       "grid_auto_columns": null,
       "grid_auto_flow": null,
       "grid_auto_rows": null,
       "grid_column": null,
       "grid_gap": null,
       "grid_row": null,
       "grid_template_areas": null,
       "grid_template_columns": null,
       "grid_template_rows": null,
       "height": null,
       "justify_content": null,
       "justify_items": null,
       "left": null,
       "margin": null,
       "max_height": null,
       "max_width": null,
       "min_height": null,
       "min_width": null,
       "object_fit": null,
       "object_position": null,
       "order": null,
       "overflow": null,
       "overflow_x": null,
       "overflow_y": null,
       "padding": null,
       "right": null,
       "top": null,
       "visibility": null,
       "width": null
      }
     },
     "7f66c995b89a47a3bd9d48ae6d03562d": {
      "model_module": "@jupyter-widgets/base",
      "model_module_version": "1.2.0",
      "model_name": "LayoutModel",
      "state": {
       "_model_module": "@jupyter-widgets/base",
       "_model_module_version": "1.2.0",
       "_model_name": "LayoutModel",
       "_view_count": null,
       "_view_module": "@jupyter-widgets/base",
       "_view_module_version": "1.2.0",
       "_view_name": "LayoutView",
       "align_content": null,
       "align_items": null,
       "align_self": null,
       "border": null,
       "bottom": null,
       "display": null,
       "flex": null,
       "flex_flow": null,
       "grid_area": null,
       "grid_auto_columns": null,
       "grid_auto_flow": null,
       "grid_auto_rows": null,
       "grid_column": null,
       "grid_gap": null,
       "grid_row": null,
       "grid_template_areas": null,
       "grid_template_columns": null,
       "grid_template_rows": null,
       "height": null,
       "justify_content": null,
       "justify_items": null,
       "left": null,
       "margin": null,
       "max_height": null,
       "max_width": null,
       "min_height": null,
       "min_width": null,
       "object_fit": null,
       "object_position": null,
       "order": null,
       "overflow": null,
       "overflow_x": null,
       "overflow_y": null,
       "padding": null,
       "right": null,
       "top": null,
       "visibility": null,
       "width": null
      }
     },
     "86cd514ad0d04242b784fc491b890672": {
      "model_module": "@jupyter-widgets/base",
      "model_module_version": "1.2.0",
      "model_name": "LayoutModel",
      "state": {
       "_model_module": "@jupyter-widgets/base",
       "_model_module_version": "1.2.0",
       "_model_name": "LayoutModel",
       "_view_count": null,
       "_view_module": "@jupyter-widgets/base",
       "_view_module_version": "1.2.0",
       "_view_name": "LayoutView",
       "align_content": null,
       "align_items": null,
       "align_self": null,
       "border": null,
       "bottom": null,
       "display": null,
       "flex": null,
       "flex_flow": null,
       "grid_area": null,
       "grid_auto_columns": null,
       "grid_auto_flow": null,
       "grid_auto_rows": null,
       "grid_column": null,
       "grid_gap": null,
       "grid_row": null,
       "grid_template_areas": null,
       "grid_template_columns": null,
       "grid_template_rows": null,
       "height": null,
       "justify_content": null,
       "justify_items": null,
       "left": null,
       "margin": null,
       "max_height": null,
       "max_width": null,
       "min_height": null,
       "min_width": null,
       "object_fit": null,
       "object_position": null,
       "order": null,
       "overflow": null,
       "overflow_x": null,
       "overflow_y": null,
       "padding": null,
       "right": null,
       "top": null,
       "visibility": null,
       "width": null
      }
     },
     "921d1042c6b142c282288a49cf731f9f": {
      "model_module": "@jupyter-widgets/controls",
      "model_module_version": "1.5.0",
      "model_name": "HTMLModel",
      "state": {
       "_dom_classes": [],
       "_model_module": "@jupyter-widgets/controls",
       "_model_module_version": "1.5.0",
       "_model_name": "HTMLModel",
       "_view_count": null,
       "_view_module": "@jupyter-widgets/controls",
       "_view_module_version": "1.5.0",
       "_view_name": "HTMLView",
       "description": "",
       "description_tooltip": null,
       "layout": "IPY_MODEL_c57f9bb176c145e29041467e0817a84a",
       "placeholder": "​",
       "style": "IPY_MODEL_09403c7aaab34e02b5236abebb678af9",
       "value": "Downloading: 100%"
      }
     },
     "a402f510d5a8490b9073ba886e4d7209": {
      "model_module": "@jupyter-widgets/controls",
      "model_module_version": "1.5.0",
      "model_name": "HTMLModel",
      "state": {
       "_dom_classes": [],
       "_model_module": "@jupyter-widgets/controls",
       "_model_module_version": "1.5.0",
       "_model_name": "HTMLModel",
       "_view_count": null,
       "_view_module": "@jupyter-widgets/controls",
       "_view_module_version": "1.5.0",
       "_view_name": "HTMLView",
       "description": "",
       "description_tooltip": null,
       "layout": "IPY_MODEL_36fcc24454e44c66a1aa03e2495040fa",
       "placeholder": "​",
       "style": "IPY_MODEL_cbeb90d8d1c945e2ae5fbc17b197d667",
       "value": " 409/409 [00:00&lt;00:00, 14.2kB/s]"
      }
     },
     "b0c8fe5c6cd449e7ac22dbb4f84946a9": {
      "model_module": "@jupyter-widgets/controls",
      "model_module_version": "1.5.0",
      "model_name": "HTMLModel",
      "state": {
       "_dom_classes": [],
       "_model_module": "@jupyter-widgets/controls",
       "_model_module_version": "1.5.0",
       "_model_name": "HTMLModel",
       "_view_count": null,
       "_view_module": "@jupyter-widgets/controls",
       "_view_module_version": "1.5.0",
       "_view_name": "HTMLView",
       "description": "",
       "description_tooltip": null,
       "layout": "IPY_MODEL_0ecac206ed38402a823622981a39565e",
       "placeholder": "​",
       "style": "IPY_MODEL_cb43bd83cbc940a180a78aa3061a278b",
       "value": "Downloading: 100%"
      }
     },
     "b27f0e10db864128a23dfebca9abeef4": {
      "model_module": "@jupyter-widgets/controls",
      "model_module_version": "1.5.0",
      "model_name": "FloatProgressModel",
      "state": {
       "_dom_classes": [],
       "_model_module": "@jupyter-widgets/controls",
       "_model_module_version": "1.5.0",
       "_model_name": "FloatProgressModel",
       "_view_count": null,
       "_view_module": "@jupyter-widgets/controls",
       "_view_module_version": "1.5.0",
       "_view_name": "ProgressView",
       "bar_style": "success",
       "description": "",
       "description_tooltip": null,
       "layout": "IPY_MODEL_b7e94a4a3a634e18af40b3821629eae1",
       "max": 231508.0,
       "min": 0.0,
       "orientation": "horizontal",
       "style": "IPY_MODEL_521e959cfcb74acc8219b94a48a2b2df",
       "value": 231508.0
      }
     },
     "b3a055cb7a2e45dd99b910bbe2984dc7": {
      "model_module": "@jupyter-widgets/controls",
      "model_module_version": "1.5.0",
      "model_name": "HBoxModel",
      "state": {
       "_dom_classes": [],
       "_model_module": "@jupyter-widgets/controls",
       "_model_module_version": "1.5.0",
       "_model_name": "HBoxModel",
       "_view_count": null,
       "_view_module": "@jupyter-widgets/controls",
       "_view_module_version": "1.5.0",
       "_view_name": "HBoxView",
       "box_style": "",
       "children": [
        "IPY_MODEL_b0c8fe5c6cd449e7ac22dbb4f84946a9",
        "IPY_MODEL_b27f0e10db864128a23dfebca9abeef4",
        "IPY_MODEL_497d042f642b437ba80220e5a4e900c7"
       ],
       "layout": "IPY_MODEL_7f66c995b89a47a3bd9d48ae6d03562d"
      }
     },
     "b7e94a4a3a634e18af40b3821629eae1": {
      "model_module": "@jupyter-widgets/base",
      "model_module_version": "1.2.0",
      "model_name": "LayoutModel",
      "state": {
       "_model_module": "@jupyter-widgets/base",
       "_model_module_version": "1.2.0",
       "_model_name": "LayoutModel",
       "_view_count": null,
       "_view_module": "@jupyter-widgets/base",
       "_view_module_version": "1.2.0",
       "_view_name": "LayoutView",
       "align_content": null,
       "align_items": null,
       "align_self": null,
       "border": null,
       "bottom": null,
       "display": null,
       "flex": null,
       "flex_flow": null,
       "grid_area": null,
       "grid_auto_columns": null,
       "grid_auto_flow": null,
       "grid_auto_rows": null,
       "grid_column": null,
       "grid_gap": null,
       "grid_row": null,
       "grid_template_areas": null,
       "grid_template_columns": null,
       "grid_template_rows": null,
       "height": null,
       "justify_content": null,
       "justify_items": null,
       "left": null,
       "margin": null,
       "max_height": null,
       "max_width": null,
       "min_height": null,
       "min_width": null,
       "object_fit": null,
       "object_position": null,
       "order": null,
       "overflow": null,
       "overflow_x": null,
       "overflow_y": null,
       "padding": null,
       "right": null,
       "top": null,
       "visibility": null,
       "width": null
      }
     },
     "b87d9c328a87403784dea8d6fd3cdc21": {
      "model_module": "@jupyter-widgets/controls",
      "model_module_version": "1.5.0",
      "model_name": "DescriptionStyleModel",
      "state": {
       "_model_module": "@jupyter-widgets/controls",
       "_model_module_version": "1.5.0",
       "_model_name": "DescriptionStyleModel",
       "_view_count": null,
       "_view_module": "@jupyter-widgets/base",
       "_view_module_version": "1.2.0",
       "_view_name": "StyleView",
       "description_width": ""
      }
     },
     "c57f9bb176c145e29041467e0817a84a": {
      "model_module": "@jupyter-widgets/base",
      "model_module_version": "1.2.0",
      "model_name": "LayoutModel",
      "state": {
       "_model_module": "@jupyter-widgets/base",
       "_model_module_version": "1.2.0",
       "_model_name": "LayoutModel",
       "_view_count": null,
       "_view_module": "@jupyter-widgets/base",
       "_view_module_version": "1.2.0",
       "_view_name": "LayoutView",
       "align_content": null,
       "align_items": null,
       "align_self": null,
       "border": null,
       "bottom": null,
       "display": null,
       "flex": null,
       "flex_flow": null,
       "grid_area": null,
       "grid_auto_columns": null,
       "grid_auto_flow": null,
       "grid_auto_rows": null,
       "grid_column": null,
       "grid_gap": null,
       "grid_row": null,
       "grid_template_areas": null,
       "grid_template_columns": null,
       "grid_template_rows": null,
       "height": null,
       "justify_content": null,
       "justify_items": null,
       "left": null,
       "margin": null,
       "max_height": null,
       "max_width": null,
       "min_height": null,
       "min_width": null,
       "object_fit": null,
       "object_position": null,
       "order": null,
       "overflow": null,
       "overflow_x": null,
       "overflow_y": null,
       "padding": null,
       "right": null,
       "top": null,
       "visibility": null,
       "width": null
      }
     },
     "cb43bd83cbc940a180a78aa3061a278b": {
      "model_module": "@jupyter-widgets/controls",
      "model_module_version": "1.5.0",
      "model_name": "DescriptionStyleModel",
      "state": {
       "_model_module": "@jupyter-widgets/controls",
       "_model_module_version": "1.5.0",
       "_model_name": "DescriptionStyleModel",
       "_view_count": null,
       "_view_module": "@jupyter-widgets/base",
       "_view_module_version": "1.2.0",
       "_view_name": "StyleView",
       "description_width": ""
      }
     },
     "cbeb90d8d1c945e2ae5fbc17b197d667": {
      "model_module": "@jupyter-widgets/controls",
      "model_module_version": "1.5.0",
      "model_name": "DescriptionStyleModel",
      "state": {
       "_model_module": "@jupyter-widgets/controls",
       "_model_module_version": "1.5.0",
       "_model_name": "DescriptionStyleModel",
       "_view_count": null,
       "_view_module": "@jupyter-widgets/base",
       "_view_module_version": "1.2.0",
       "_view_name": "StyleView",
       "description_width": ""
      }
     },
     "cdeb37cb82c7497aac4940e7c516713f": {
      "model_module": "@jupyter-widgets/controls",
      "model_module_version": "1.5.0",
      "model_name": "FloatProgressModel",
      "state": {
       "_dom_classes": [],
       "_model_module": "@jupyter-widgets/controls",
       "_model_module_version": "1.5.0",
       "_model_name": "FloatProgressModel",
       "_view_count": null,
       "_view_module": "@jupyter-widgets/controls",
       "_view_module_version": "1.5.0",
       "_view_name": "ProgressView",
       "bar_style": "success",
       "description": "",
       "description_tooltip": null,
       "layout": "IPY_MODEL_65147d325c174094bb20f98947bc0573",
       "max": 62747391.0,
       "min": 0.0,
       "orientation": "horizontal",
       "style": "IPY_MODEL_d28e48df19d4480aafadd97e116e1c70",
       "value": 62747391.0
      }
     },
     "cfc50ceb6ad74451ad9fadf3b7e7179f": {
      "model_module": "@jupyter-widgets/base",
      "model_module_version": "1.2.0",
      "model_name": "LayoutModel",
      "state": {
       "_model_module": "@jupyter-widgets/base",
       "_model_module_version": "1.2.0",
       "_model_name": "LayoutModel",
       "_view_count": null,
       "_view_module": "@jupyter-widgets/base",
       "_view_module_version": "1.2.0",
       "_view_name": "LayoutView",
       "align_content": null,
       "align_items": null,
       "align_self": null,
       "border": null,
       "bottom": null,
       "display": null,
       "flex": null,
       "flex_flow": null,
       "grid_area": null,
       "grid_auto_columns": null,
       "grid_auto_flow": null,
       "grid_auto_rows": null,
       "grid_column": null,
       "grid_gap": null,
       "grid_row": null,
       "grid_template_areas": null,
       "grid_template_columns": null,
       "grid_template_rows": null,
       "height": null,
       "justify_content": null,
       "justify_items": null,
       "left": null,
       "margin": null,
       "max_height": null,
       "max_width": null,
       "min_height": null,
       "min_width": null,
       "object_fit": null,
       "object_position": null,
       "order": null,
       "overflow": null,
       "overflow_x": null,
       "overflow_y": null,
       "padding": null,
       "right": null,
       "top": null,
       "visibility": null,
       "width": null
      }
     },
     "d28e48df19d4480aafadd97e116e1c70": {
      "model_module": "@jupyter-widgets/controls",
      "model_module_version": "1.5.0",
      "model_name": "ProgressStyleModel",
      "state": {
       "_model_module": "@jupyter-widgets/controls",
       "_model_module_version": "1.5.0",
       "_model_name": "ProgressStyleModel",
       "_view_count": null,
       "_view_module": "@jupyter-widgets/base",
       "_view_module_version": "1.2.0",
       "_view_name": "StyleView",
       "bar_color": null,
       "description_width": ""
      }
     },
     "d87ae8a78bdd43efa00cce12ed507f18": {
      "model_module": "@jupyter-widgets/controls",
      "model_module_version": "1.5.0",
      "model_name": "HTMLModel",
      "state": {
       "_dom_classes": [],
       "_model_module": "@jupyter-widgets/controls",
       "_model_module_version": "1.5.0",
       "_model_name": "HTMLModel",
       "_view_count": null,
       "_view_module": "@jupyter-widgets/controls",
       "_view_module_version": "1.5.0",
       "_view_name": "HTMLView",
       "description": "",
       "description_tooltip": null,
       "layout": "IPY_MODEL_cfc50ceb6ad74451ad9fadf3b7e7179f",
       "placeholder": "​",
       "style": "IPY_MODEL_589cf9027d7d4ad9910accdfdaf1ef82",
       "value": "Downloading: 100%"
      }
     },
     "eb3d3e367d4940f5966579dfd2f838bf": {
      "model_module": "@jupyter-widgets/controls",
      "model_module_version": "1.5.0",
      "model_name": "FloatProgressModel",
      "state": {
       "_dom_classes": [],
       "_model_module": "@jupyter-widgets/controls",
       "_model_module_version": "1.5.0",
       "_model_name": "FloatProgressModel",
       "_view_count": null,
       "_view_module": "@jupyter-widgets/controls",
       "_view_module_version": "1.5.0",
       "_view_name": "ProgressView",
       "bar_style": "success",
       "description": "",
       "description_tooltip": null,
       "layout": "IPY_MODEL_ecb080b7991344c1acb31f864d8ce613",
       "max": 409.0,
       "min": 0.0,
       "orientation": "horizontal",
       "style": "IPY_MODEL_055a74556d984712b25aba045d7f9f3f",
       "value": 409.0
      }
     },
     "ecb080b7991344c1acb31f864d8ce613": {
      "model_module": "@jupyter-widgets/base",
      "model_module_version": "1.2.0",
      "model_name": "LayoutModel",
      "state": {
       "_model_module": "@jupyter-widgets/base",
       "_model_module_version": "1.2.0",
       "_model_name": "LayoutModel",
       "_view_count": null,
       "_view_module": "@jupyter-widgets/base",
       "_view_module_version": "1.2.0",
       "_view_name": "LayoutView",
       "align_content": null,
       "align_items": null,
       "align_self": null,
       "border": null,
       "bottom": null,
       "display": null,
       "flex": null,
       "flex_flow": null,
       "grid_area": null,
       "grid_auto_columns": null,
       "grid_auto_flow": null,
       "grid_auto_rows": null,
       "grid_column": null,
       "grid_gap": null,
       "grid_row": null,
       "grid_template_areas": null,
       "grid_template_columns": null,
       "grid_template_rows": null,
       "height": null,
       "justify_content": null,
       "justify_items": null,
       "left": null,
       "margin": null,
       "max_height": null,
       "max_width": null,
       "min_height": null,
       "min_width": null,
       "object_fit": null,
       "object_position": null,
       "order": null,
       "overflow": null,
       "overflow_x": null,
       "overflow_y": null,
       "padding": null,
       "right": null,
       "top": null,
       "visibility": null,
       "width": null
      }
     },
     "ef85d7b0e3eb4576af8c1eb59aeb2085": {
      "model_module": "@jupyter-widgets/base",
      "model_module_version": "1.2.0",
      "model_name": "LayoutModel",
      "state": {
       "_model_module": "@jupyter-widgets/base",
       "_model_module_version": "1.2.0",
       "_model_name": "LayoutModel",
       "_view_count": null,
       "_view_module": "@jupyter-widgets/base",
       "_view_module_version": "1.2.0",
       "_view_name": "LayoutView",
       "align_content": null,
       "align_items": null,
       "align_self": null,
       "border": null,
       "bottom": null,
       "display": null,
       "flex": null,
       "flex_flow": null,
       "grid_area": null,
       "grid_auto_columns": null,
       "grid_auto_flow": null,
       "grid_auto_rows": null,
       "grid_column": null,
       "grid_gap": null,
       "grid_row": null,
       "grid_template_areas": null,
       "grid_template_columns": null,
       "grid_template_rows": null,
       "height": null,
       "justify_content": null,
       "justify_items": null,
       "left": null,
       "margin": null,
       "max_height": null,
       "max_width": null,
       "min_height": null,
       "min_width": null,
       "object_fit": null,
       "object_position": null,
       "order": null,
       "overflow": null,
       "overflow_x": null,
       "overflow_y": null,
       "padding": null,
       "right": null,
       "top": null,
       "visibility": null,
       "width": null
      }
     },
     "fb286eea3c234b3f9cfb526c5d53f4e2": {
      "model_module": "@jupyter-widgets/controls",
      "model_module_version": "1.5.0",
      "model_name": "HBoxModel",
      "state": {
       "_dom_classes": [],
       "_model_module": "@jupyter-widgets/controls",
       "_model_module_version": "1.5.0",
       "_model_name": "HBoxModel",
       "_view_count": null,
       "_view_module": "@jupyter-widgets/controls",
       "_view_module_version": "1.5.0",
       "_view_name": "HBoxView",
       "box_style": "",
       "children": [
        "IPY_MODEL_921d1042c6b142c282288a49cf731f9f",
        "IPY_MODEL_cdeb37cb82c7497aac4940e7c516713f",
        "IPY_MODEL_5895d0a2040f471ebfca7191cc76f517"
       ],
       "layout": "IPY_MODEL_ef85d7b0e3eb4576af8c1eb59aeb2085"
      }
     }
    },
    "version_major": 2,
    "version_minor": 0
   }
  }
 },
 "nbformat": 4,
 "nbformat_minor": 5
}
